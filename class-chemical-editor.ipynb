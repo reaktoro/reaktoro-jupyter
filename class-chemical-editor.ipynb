{
 "cells": [
  {
   "cell_type": "markdown",
   "source": [
    "Using **Reaktoro** in Python requires first an import of the python package `reaktoro`:"
   ],
   "metadata": {
    "collapsed": false
   }
  },
  {
   "cell_type": "code",
   "execution_count": null,
   "outputs": [],
   "source": [
    "from reaktoro import *"
   ],
   "metadata": {
    "collapsed": false,
    "pycharm": {
     "name": "#%%\n"
    }
   }
  },
  {
   "cell_type": "markdown",
   "source": [
    "The default thermodynamic databases embedded into Reaktoro is SUPCRT92, so you do not have to initialize the \n",
    "database `db = Database('supcrt98.xml')`, unless you use an alternative one."
   ],
   "metadata": {
    "collapsed": false
   }
  },
  {
   "cell_type": "markdown",
   "source": [
    "Class `ChemicalEditor` provides convenient operations to initialize `ChemicalSystem` and `ReactionSystem` instances."
   ],
   "metadata": {
    "collapsed": false
   }
  },
  {
   "cell_type": "code",
   "execution_count": null,
   "outputs": [],
   "source": [
    "editor = ChemicalEditor()"
   ],
   "metadata": {
    "collapsed": false,
    "pycharm": {
     "name": "#%%\n"
    }
   }
  },
  {
   "cell_type": "markdown",
   "source": [
    "Alternatively, the editor "
   ],
   "metadata": {
    "collapsed": false
   }
  },
  {
   "cell_type": "code",
   "execution_count": null,
   "outputs": [],
   "source": [
    "# Initialize a thermodynamic database with supcrt98.xml \n",
    "db = Database('supcrt98.xml')\n",
    "#  Define the editor of the chemical system\n",
    "editor = ChemicalEditor(db)"
   ],
   "metadata": {
    "collapsed": false,
    "pycharm": {
     "name": "#%% \n"
    }
   }
  },
  {
   "cell_type": "markdown",
   "source": [
    "To define a chemical system, aqueous, gaseous, and mineral phases must be added. For aqueous phase, it can be done in \n",
    "various ways:\n",
    "\n",
    "*  With method `addAqueousPhase()`, the `AqueousPhase` can be created by specifying the names of the species one by \n",
    "one. These species names must conform to those used in the database that was specified during the initialization of  \n",
    "the `ChemicalEditor` object, otherwise, an exception will be thrown. "
   ],
   "metadata": {
    "collapsed": false
   }
  },
  {
   "cell_type": "code",
   "execution_count": null,
   "outputs": [],
   "source": [
    "editor.addAqueousPhase([\n",
    "    'H2O(l)',\n",
    "    'H+',\n",
    "    'OH-',\n",
    "    'Na+',\n",
    "    'Cl-',\n",
    "    'HCO3-',\n",
    "    'CO3--',\n",
    "    'CO2(aq)'\n",
    "    ])"
   ],
   "metadata": {
    "collapsed": false,
    "pycharm": {
     "name": "#%% \n"
    }
   }
  },
  {
   "cell_type": "markdown",
   "source": [
    "*  Alternatively, instead of listing the names of the species one by one, which might require prior knowledge of the  \n",
    "species names in the database, we can use method `addAqueousPhaseWithElements()`. It permits the `AqueousPhase` \n",
    "object to be constructed by using a list of chemical element names. The database will be searched for all \n",
    "species that could be formed out of those elements. These species will then be used to construct the `AqueousPhase` \n",
    "object."
   ],
   "metadata": {
    "collapsed": false
   }
  },
  {
   "cell_type": "code",
   "execution_count": null,
   "outputs": [],
   "source": [
    "editor.addAqueousPhaseWithElements(\"H O C Ca Cl Mg\")"
   ],
   "metadata": {
    "collapsed": false,
    "pycharm": {
     "name": "#%%\n"
    }
   }
  },
  {
   "cell_type": "markdown",
   "source": [
    "*  Finally, `AqueousPhase` object can be also constructed by using a list of compound or substance names that might not \n",
    "necessarily represent names of species in the database. The list of compounds will be broken into a list of element \n",
    "names, and the database will be similarly searched for all species that could be formed out of those elements."
   ],
   "metadata": {
    "collapsed": false
   }
  },
  {
   "cell_type": "code",
   "execution_count": null,
   "outputs": [],
   "source": [
    "editor.addAqueousPhaseWithElementsOf(\"H2O NaCl CO2\")"
   ],
   "metadata": {
    "collapsed": false,
    "pycharm": {
     "name": "#%%\n"
    }
   }
  },
  {
   "cell_type": "markdown",
   "source": [
    "**Note!** The call of `addAqueousPhaseWithElements()` will result in larger chemical system than call of\n",
    "`addAqueousPhase()', where the specific aqueous species are provided.  In more demanding applications (e.g., as a \n",
    "chemical solver in a reactive transport simulator), you might want to manually specify the chemical species of each \n",
    "phase in your chemical system.\n"
   ],
   "metadata": {
    "collapsed": false
   }
  },
  {
   "cell_type": "markdown",
   "source": [
    "To add gaseous phase, similar methods can be used:"
   ],
   "metadata": {
    "collapsed": false
   }
  },
  {
   "cell_type": "code",
   "execution_count": null,
   "outputs": [],
   "source": [
    "editor.addGaseousPhase([\"H2O(g)\", \"CO2(g)\", \"H2(g)\", \"O2(g)\", \"CH4(g)\"])\n",
    "editor.addGaseousPhaseWithElements([\"H\", \"O\", \"C\"])\n",
    "editor.addGaseousPhaseWithElementsOf([\"H2O\", \"CO2\"])"
   ],
   "metadata": {
    "collapsed": false,
    "pycharm": {
     "name": "#%%\n"
    }
   }
  },
  {
   "cell_type": "markdown",
   "source": [
    "The `MineralPhase` object is created by specifying the names of the species one by one. These species names must  \n",
    "conform to those used in the database that was specified during the initialization of the `ChemicalEditor` object,  \n",
    "otherwise, an exception will be thrown. The example below describes the usage of this method for the creation of two \n",
    " pure mineral phases and one solid solution with two mineral species."
   ],
   "metadata": {
    "collapsed": false
   }
  },
  {
   "cell_type": "code",
   "execution_count": null,
   "outputs": [],
   "source": [
    "editor.addMineralPhase(\"Calcite\")\n",
    "editor.addMineralPhase(\"Dolomite\")\n",
    "editor.addMineralPhase([\"Dolomite\", \"Calcite\"])"
   ],
   "metadata": {
    "collapsed": false,
    "pycharm": {
     "name": "#%%\n"
    }
   }
  },
  {
   "cell_type": "markdown",
   "source": [
    "There two more alternatives to add `MinerialPhase`, i.e., "
   ],
   "metadata": {
    "collapsed": false
   }
  },
  {
   "cell_type": "code",
   "execution_count": null,
   "outputs": [],
   "source": [
    "editor.addMineralPhaseWithElements([\"Ca\", \"C\", \"O\"])\n",
    "editor.addMineralPhaseWithElementsOf([\"CaCO3\", \"MgCO3\"])"
   ],
   "metadata": {
    "collapsed": false,
    "pycharm": {
     "name": "#%%\n"
    }
   }
  },
  {
   "cell_type": "markdown",
   "source": [
    "Besides phases, one could also set temperatures and pressures of considered chemical system for constructing \n",
    "interpolation tables of thermodynamic properties., e.g., "
   ],
   "metadata": {
    "collapsed": false
   }
  },
  {
   "cell_type": "code",
   "execution_count": null,
   "outputs": [],
   "source": [
    "editor.setTemperatures([60, 80, 100, 120, 140, 160], 'celsius')\n",
    "editor.setPressures([1, 10, 100], 'bar')"
   ],
   "metadata": {
    "collapsed": false,
    "pycharm": {
     "name": "#%% \n"
    }
   }
  }
 ],
 "metadata": {
  "kernelspec": {
   "display_name": "Python 3",
   "language": "python",
   "name": "python3"
  },
  "language_info": {
   "codemirror_mode": {
    "name": "ipython",
    "version": 2
   },
   "file_extension": ".py",
   "mimetype": "text/x-python",
   "name": "python",
   "nbconvert_exporter": "python",
   "pygments_lexer": "ipython2",
   "version": "2.7.6"
  },
  "pycharm": {
   "stem_cell": {
    "cell_type": "raw",
    "source": [],
    "metadata": {
     "collapsed": false
    }
   }
  }
 },
 "nbformat": 4,
 "nbformat_minor": 0
}