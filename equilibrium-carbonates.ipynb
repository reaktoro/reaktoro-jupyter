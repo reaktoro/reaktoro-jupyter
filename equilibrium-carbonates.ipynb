{
 "cells": [
  {
   "cell_type": "markdown",
   "metadata": {},
   "source": [
    "### Importing the reaktoro Python package\n",
    "\n",
    "Using **Reaktoro** in Python requires first an import of the python package `reaktoro`:"
   ]
  },
  {
   "cell_type": "code",
   "execution_count": 1,
   "metadata": {
    "collapsed": true,
    "pycharm": {
     "is_executing": false
    }
   },
   "outputs": [],
   "source": [
    "from reaktoro import *"
   ]
  },
  {
   "cell_type": "markdown",
   "metadata": {
    "pycharm": {
     "name": "#%% md\n"
    }
   },
   "source": [
    "### Chemical system definition\n",
    "\n",
    "The default thermodynamic databases embedded into Reaktoro is SUPCRT92, so you do not have to initialize the \n",
    "database `db = Database('supcrt98.xml')`, unless you use an alternative one."
   ]
  },
  {
   "cell_type": "markdown",
   "metadata": {},
   "source": [
    "Class `ChemicalEditor` provides convenient operations to initialize `ChemicalSystem` and `ReactionSystem` instances."
   ]
  },
  {
   "cell_type": "code",
   "execution_count": 2,
   "metadata": {
    "pycharm": {
     "is_executing": false,
     "name": "#%%\n"
    }
   },
   "outputs": [],
   "source": [
    "editor = ChemicalEditor()"
   ]
  },
  {
   "cell_type": "markdown",
   "metadata": {
    "pycharm": {
     "name": "#%% md\n"
    }
   },
   "source": [
    "Alternatively, the editor "
   ]
  },
  {
   "cell_type": "code",
   "execution_count": 3,
   "metadata": {
    "pycharm": {
     "is_executing": false,
     "name": "#%% \n"
    }
   },
   "outputs": [],
   "source": [
    "# Initialize a thermodynamic database with supcrt98.xml \n",
    "db = Database('supcrt98.xml')\n",
    "#  Define the editor of the chemical system\n",
    "editor = ChemicalEditor(db)"
   ]
  },
  {
   "cell_type": "markdown",
   "metadata": {
    "pycharm": {
     "name": "#%% md\n"
    }
   },
   "source": [
    "To define a chemical system, aqueous, gaseous, and mineral phases must be added. For aqueous phase, it can be done \n",
    "from a list of chemical element names. The database will be searched for all species that could be formed out of those \n",
    "elements. "
   ]
  },
  {
   "cell_type": "code",
   "execution_count": 4,
   "metadata": {
    "pycharm": {
     "is_executing": false,
     "name": "#%%\n"
    }
   },
   "outputs": [
    {
     "data": {
      "text/plain": "<reaktoro.PyReaktoro.AqueousPhase at 0x107751fb0>"
     },
     "metadata": {},
     "output_type": "execute_result",
     "execution_count": 4
    }
   ],
   "source": [
    "editor.addAqueousPhaseWithElements(\"H O C Ca Cl Mg\")"
   ]
  },
  {
   "cell_type": "markdown",
   "metadata": {},
   "source": [
    "To add gaseous phase, we provide a specific list of gaseous species that must be used:"
   ]
  },
  {
   "cell_type": "code",
   "execution_count": 5,
   "metadata": {
    "pycharm": {
     "is_executing": false,
     "name": "#%%\n"
    }
   },
   "outputs": [
    {
     "data": {
      "text/plain": "<reaktoro.PyReaktoro.GaseousPhase at 0x10776f6b0>"
     },
     "metadata": {},
     "output_type": "execute_result",
     "execution_count": 5
    }
   ],
   "source": [
    "editor.addGaseousPhase([\"H2O(g)\", \"CO2(g)\", \"H2(g)\", \"O2(g)\", \"CH4(g)\"])"
   ]
  },
  {
   "cell_type": "markdown",
   "metadata": {},
   "source": [
    "For the `MineralPhase` object, we add two pure mineral phases:"
   ]
  },
  {
   "cell_type": "code",
   "execution_count": 6,
   "metadata": {
    "pycharm": {
     "is_executing": false,
     "name": "#%%\n"
    }
   },
   "outputs": [
    {
     "data": {
      "text/plain": "<reaktoro.PyReaktoro.MineralPhase at 0x10d718b70>"
     },
     "metadata": {},
     "output_type": "execute_result",
     "execution_count": 6
    }
   ],
   "source": [
    "editor.addMineralPhase(\"Calcite\")\n",
    "editor.addMineralPhase(\"Dolomite\")"
   ]
  },
  {
   "cell_type": "markdown",
   "metadata": {
    "pycharm": {
     "name": "#%% md\n"
    }
   },
   "source": [
    "To create an object of class `ChemicalSystem` using the chemical system definition details stored in the object \n",
    "editor, we use"
   ]
  },
  {
   "cell_type": "code",
   "execution_count": 7,
   "metadata": {
    "pycharm": {
     "is_executing": false,
     "name": "#%% \n"
    }
   },
   "outputs": [],
   "source": [
    "system = ChemicalSystem(editor)"
   ]
  },
  {
   "cell_type": "markdown",
   "metadata": {
    "pycharm": {
     "name": "#%% md\n"
    }
   },
   "source": [
    "To output the details of the chemical system to the console, i.e., the list of elements, species, and different \n",
    "phases, we can execute"
   ]
  },
  {
   "cell_type": "code",
   "execution_count": 8,
   "metadata": {
    "pycharm": {
     "is_executing": false,
     "name": "#%%\n"
    }
   },
   "outputs": [
    {
     "name": "stdout",
     "text": [
      "====================================================================================================\n",
      "Aqueous                  Gaseous                  Calcite                  Dolomite                 \n",
      "----------------------------------------------------------------------------------------------------\n",
      "CO(aq)                   H2O(g)                   Calcite                  Dolomite                 \n",
      "CO2(aq)                  CO2(g)                                                                     \n",
      "CO3--                    H2(g)                                                                      \n",
      "Ca(HCO3)+                O2(g)                                                                      \n",
      "Ca++                     CH4(g)                                                                     \n",
      "CaCO3(aq)                                                                                           \n",
      "CaCl+                                                                                               \n",
      "CaCl2(aq)                                                                                           \n",
      "CaOH+                                                                                               \n",
      "Cl-                                                                                                 \n",
      "ClO-                                                                                                \n",
      "ClO2-                                                                                               \n",
      "ClO3-                                                                                               \n",
      "ClO4-                                                                                               \n",
      "H+                                                                                                  \n",
      "H2(aq)                                                                                              \n",
      "H2O(l)                                                                                              \n",
      "H2O2(aq)                                                                                            \n",
      "HCO3-                                                                                               \n",
      "HCl(aq)                                                                                             \n",
      "HClO(aq)                                                                                            \n",
      "HClO2(aq)                                                                                           \n",
      "HO2-                                                                                                \n",
      "Mg(HCO3)+                                                                                           \n",
      "Mg++                                                                                                \n",
      "MgCO3(aq)                                                                                           \n",
      "MgCl+                                                                                               \n",
      "MgOH+                                                                                               \n",
      "O2(aq)                                                                                              \n",
      "OH-                                                                                                 \n",
      "====================================================================================================\n",
      "Index                    Species                  Element                  Phase                    \n",
      "----------------------------------------------------------------------------------------------------\n",
      "0                        CO(aq)                   C                        Aqueous                  \n",
      "1                        CO2(aq)                  Ca                       Gaseous                  \n",
      "2                        CO3--                    Cl                       Calcite                  \n",
      "3                        Ca(HCO3)+                H                        Dolomite                 \n",
      "4                        Ca++                     Mg                                                \n",
      "5                        CaCO3(aq)                O                                                 \n",
      "6                        CaCl+                    Z                                                 \n",
      "7                        CaCl2(aq)                                                                  \n",
      "8                        CaOH+                                                                      \n",
      "9                        Cl-                                                                        \n",
      "10                       ClO-                                                                       \n",
      "11                       ClO2-                                                                      \n",
      "12                       ClO3-                                                                      \n",
      "13                       ClO4-                                                                      \n",
      "14                       H+                                                                         \n",
      "15                       H2(aq)                                                                     \n",
      "16                       H2O(l)                                                                     \n",
      "17                       H2O2(aq)                                                                   \n",
      "18                       HCO3-                                                                      \n",
      "19                       HCl(aq)                                                                    \n",
      "20                       HClO(aq)                                                                   \n",
      "21                       HClO2(aq)                                                                  \n",
      "22                       HO2-                                                                       \n",
      "23                       Mg(HCO3)+                                                                  \n",
      "24                       Mg++                                                                       \n",
      "25                       MgCO3(aq)                                                                  \n",
      "26                       MgCl+                                                                      \n",
      "27                       MgOH+                                                                      \n",
      "28                       O2(aq)                                                                     \n",
      "29                       OH-                                                                        \n",
      "30                       H2O(g)                                                                     \n",
      "31                       CO2(g)                                                                     \n",
      "32                       H2(g)                                                                      \n",
      "33                       O2(g)                                                                      \n",
      "34                       CH4(g)                                                                     \n",
      "35                       Calcite                                                                    \n",
      "36                       Dolomite                                                                   \n",
      "====================================================================================================\n",
      "\n"
     ],
     "output_type": "stream"
    }
   ],
   "source": [
    "print(system)"
   ]
  },
  {
   "cell_type": "markdown",
   "metadata": {
    "pycharm": {
     "name": "#%% md\n"
    }
   },
   "source": [
    "For the specific information about the chemical system, one can use the following methods:"
   ]
  },
  {
   "cell_type": "code",
   "execution_count": 9,
   "metadata": {
    "pycharm": {
     "is_executing": false,
     "name": "#%% \n"
    }
   },
   "outputs": [
    {
     "name": "stdout",
     "text": [
      "Number of chemical species:  37\n",
      "Number of phases:  4\n",
      "Number of elements:  7\n",
      "List of species in chemical system: \n",
      "\n",
      "CO(aq)\n",
      "CO2(aq)\n",
      "CO3--\n",
      "Ca(HCO3)+\n",
      "Ca++\n",
      "CaCO3(aq)\n",
      "CaCl+\n",
      "CaCl2(aq)\n",
      "CaOH+\n",
      "Cl-\n",
      "ClO-\n",
      "ClO2-\n",
      "ClO3-\n",
      "ClO4-\n",
      "H+\n",
      "H2(aq)\n",
      "H2O(l)\n",
      "H2O2(aq)\n",
      "HCO3-\n",
      "HCl(aq)\n",
      "HClO(aq)\n",
      "HClO2(aq)\n",
      "HO2-\n",
      "Mg(HCO3)+\n",
      "Mg++\n",
      "MgCO3(aq)\n",
      "MgCl+\n",
      "MgOH+\n",
      "O2(aq)\n",
      "OH-\n",
      "H2O(g)\n",
      "CO2(g)\n",
      "H2(g)\n",
      "O2(g)\n",
      "CH4(g)\n",
      "Calcite\n",
      "Dolomite\n"
     ],
     "output_type": "stream"
    }
   ],
   "source": [
    "print(\"Number of chemical species: \", len(system.species()))\n",
    "print(\"Number of phases: \", len(system.phases()))\n",
    "print(\"Number of elements: \", len(system.elements()))\n",
    "\n",
    "print(\"List of species in chemical system: \\n\")\n",
    "for species in system.species():\n",
    "    print(species.name())"
   ]
  },
  {
   "cell_type": "markdown",
   "metadata": {
    "pycharm": {
     "is_executing": false,
     "name": "#%% md\n"
    }
   },
   "source": [
    "### Defining the chemical equilibrium problem\n",
    "\n",
    "Next, we create an equilibrium problem with our prescribed equilibrium conditions for\n",
    "amounts of elements that are consistent with our intention of calculating reaction of calcite with \n",
    "injected 0.002 molal $\\mathrm{MaCl_2}$ brine. Both temperature and pressure are assumed to be default values, i.e., \n",
    "25 $^\\circ$C and 1 bar, respectively."
   ]
  },
  {
   "cell_type": "code",
   "execution_count": 10,
   "metadata": {
    "pycharm": {
     "is_executing": false,
     "name": "#%% \n"
    }
   },
   "outputs": [
    {
     "data": {
      "text/plain": "<reaktoro.PyReaktoro.EquilibriumProblem at 0x10776fd30>"
     },
     "metadata": {},
     "output_type": "execute_result",
     "execution_count": 10
    }
   ],
   "source": [
    "problem = EquilibriumProblem(system)\n",
    "problem.add(\"H2O\", 1, \"kg\")\n",
    "problem.add(\"MgCl2\", 0.002, \"mol\")\n",
    "problem.add(\"CaCO3\", 1, \"mol\")"
   ]
  },
  {
   "cell_type": "markdown",
   "metadata": {
    "pycharm": {
     "name": "#%% md\n"
    }
   },
   "source": [
    "### Calculating the chemical equilibrium state\n",
    "\n",
    "In this step, we use the `equilibrate()` function to calculate the chemical equilibrium state of the system with the \n",
    "given equilibrium conditions stored in the object problem."
   ]
  },
  {
   "cell_type": "code",
   "execution_count": 11,
   "metadata": {
    "pycharm": {
     "is_executing": false,
     "name": "#%%\n"
    }
   },
   "outputs": [],
   "source": [
    "state = equilibrate(problem)"
   ]
  },
  {
   "cell_type": "markdown",
   "source": [
    "Reaktoro uses an efficient **Gibbs energy minimization** computation to determine the species amounts that correspond\n",
    " to a state of minimum Gibbs energy in the system, while satisfying the prescribed amount conditions for the \n",
    " temperature, pressure, and element amounts. The result is stored in the object `state`, of class `ChemicalState`."
   ],
   "metadata": {
    "collapsed": false,
    "pycharm": {
     "name": "#%% md\n"
    }
   }
  },
  {
   "cell_type": "markdown",
   "metadata": {
    "pycharm": {
     "name": "#%% md\n"
    }
   },
   "source": [
    "To output the result of equilibration to the console, we use"
   ]
  },
  {
   "cell_type": "code",
   "execution_count": 12,
   "metadata": {
    "pycharm": {
     "is_executing": false,
     "name": "#%%\n"
    }
   },
   "outputs": [
    {
     "name": "stdout",
     "text": [
      "=================================================================================================================================================================================================================================\n",
      "Temperature [K]          Temperature [C]          Pressure [Pa]            Pressure [bar]           \n",
      "---------------------------------------------------------------------------------------------------------------------------------------------------------------------------------------------------------------------------------\n",
      "298.15                   25                       100000                   1                        \n",
      "=================================================================================================================================================================================================================================\n",
      "Element                  Amount [mol]             Aqueous [mol]            Gaseous [mol]            Calcite [mol]            Dolomite [mol]           Dual Potential [kJ/mol]  \n",
      "---------------------------------------------------------------------------------------------------------------------------------------------------------------------------------------------------------------------------------\n",
      "C                        1                        3.60918e-05              9.48936e-22              0.996215                 0.00374902               -91.0356                 \n",
      "Ca                       1                        0.0019106                0                        0.996215                 0.00187451               -530.307                 \n",
      "Cl                       0.004                    0.004                    0                        0                        0                        -164.601                 \n",
      "H                        111.017                  111.017                  7.53658e-21              0                        0                        -33.9517                 \n",
      "Mg                       0.002                    0.000125492              0                        0                        0.00187451               -438.259                 \n",
      "O                        58.5084                  55.5085                  4.82537e-21              2.98864                  0.011247                 -169.279                 \n",
      "Z                        7.53995e-17              7.53995e-17              0                        0                        0                        -19.416                  \n",
      "=================================================================================================================================================================================================================================\n",
      "Species                  Amount [mol]             Mole Fraction [mol/mol]  Activity Coefficient [-] Activity [-]             Potential [kJ/mol]       Dual Potential [kJ/mol]  \n",
      "---------------------------------------------------------------------------------------------------------------------------------------------------------------------------------------------------------------------------------\n",
      "CO(aq)                   1.18795e-21              2.1399e-23               1                        1.18795e-21              -239.447                 20.8675                  \n",
      "CO2(aq)                  2.28022e-08              4.10743e-10              1.00078                  2.28201e-08              -429.593                 1.08716e-12              \n",
      "CO3--                    3.36085e-06              6.05401e-08              0.720313                 2.42087e-06              -560.039                 7.37597e-15              \n",
      "Ca(HCO3)+                3.81666e-07              6.87506e-09              0.920619                 3.51369e-07              -1182.55                 6.4951e-14               \n",
      "Ca++                     0.00189991               3.42237e-05              0.719712                 0.00136739               -569.138                 1.30478e-17              \n",
      "CaCO3(aq)                7.03029e-06              1.26639e-07              1                        7.0303e-06               -1129.18                 3.52611e-15              \n",
      "CaCl+                    2.78632e-06              5.01909e-08              0.920619                 2.56515e-06              -714.323                 8.89688e-15              \n",
      "CaCl2(aq)                4.20428e-09              7.5733e-11               1                        4.20428e-09              -859.508                 5.89627e-12              \n",
      "CaOH+                    4.8761e-07               8.78347e-09              0.920619                 4.48904e-07              -752.953                 5.08389e-14              \n",
      "Cl-                      0.00399694               7.19982e-05              0.920366                 0.00367866               -145.185                 6.20213e-18              \n",
      "ClO-                     1.61962e-22              2.91748e-24              0.920366                 1.49065e-22              -161.406                 153.058                  \n",
      "ClO2-                    6.62655e-23              1.19366e-24              0.920366                 6.09886e-23              -109.648                 374.094                  \n",
      "ClO3-                    4.79058e-23              8.62942e-25              0.920366                 4.40909e-23              -135.556                 517.465                  \n",
      "ClO4-                    3.61645e-23              6.51443e-25              0.922395                 3.3358e-23               -136.833                 685.466                  \n",
      "H+                       4.85152e-10              8.73919e-12              0.921542                 4.47088e-10              -53.3676                 5.10965e-11              \n",
      "H2(aq)                   9.97327e-16              1.79652e-17              1                        9.97328e-16              -67.9033                 2.4856e-05               \n",
      "H2O(l)                   55.5084                  0.99989                  1.00001                  0.999896                 -237.182                 4.46591e-22              \n",
      "H2O2(aq)                 1.67331e-22              3.01418e-24              1                        1.67331e-22              -258.314                 148.147                  \n",
      "HCO3-                    2.50653e-05              4.51509e-07              0.920591                 2.30749e-05              -613.407                 9.88999e-16              \n",
      "HCl(aq)                  3.20479e-13              5.7729e-15               1                        3.2048e-13               -198.552                 7.73515e-08              \n",
      "HClO(aq)                 1.51735e-22              2.73325e-24              1                        1.51735e-22              -204.457                 163.374                  \n",
      "HClO2(aq)                5.9575e-23               1.07314e-24              1                        5.9575e-23               -121.003                 416.107                  \n",
      "HO2-                     1.53916e-22              2.77253e-24              0.920366                 1.41659e-22              -192.033                 161.059                  \n",
      "Mg(HCO3)+                2.43716e-08              4.39014e-10              0.920619                 2.2437e-08               -1090.5                  1.01715e-12              \n",
      "Mg++                     0.000124547              2.2435e-06               0.719045                 8.95548e-05              -477.09                  1.99038e-16              \n",
      "MgCO3(aq)                2.06535e-07              3.72037e-09              1                        2.06535e-07              -1037.13                 1.20026e-13              \n",
      "MgCl+                    2.62316e-07              4.72517e-09              0.920619                 2.41493e-07              -622.275                 9.45028e-14              \n",
      "MgOH+                    4.51947e-07              8.14106e-09              0.920619                 4.16071e-07              -660.905                 5.48506e-14              \n",
      "O2(aq)                   1.07915e-22              1.94391e-24              1                        1.07915e-22              -108.844                 229.713                  \n",
      "OH-                      2.45779e-05              4.42729e-07              0.920245                 2.26177e-05              -183.814                 1.00861e-15              \n",
      "H2O(g)                   3.07226e-21              0.683183                 0.985221                 0.673086                 -229.113                 8.06883                  \n",
      "CO2(g)                   8.01077e-22              0.178136                 0.995153                 0.177273                 -398.647                 30.9453                  \n",
      "H2(g)                    4.00309e-22              0.0890171                1.00777                  0.0897085                -5.97724                 61.9261                  \n",
      "O2(g)                    7.54783e-23              0.0167842                1.00322                  0.0168382                -10.1243                 328.433                  \n",
      "CH4(g)                   1.47859e-22              0.0328795                1.00012                  0.0328834                -59.1852                 167.657                  \n",
      "Calcite                  0.996215                 1                        1                        1                        -1129.18                 2.48838e-20              \n",
      "Dolomite                 0.00187451               1                        1                        1                        -2166.31                 1.32246e-17              \n",
      "=================================================================================================================================================================================================================================\n",
      "Phase                    Amount [mol]             Stability                Stability Index [-]      Mass [kg]                Volume [m3]              Density [kg/m3]          Molar Volume [m3/mol]    Volume Fraction [m3/m3]  \n",
      "---------------------------------------------------------------------------------------------------------------------------------------------------------------------------------------------------------------------------------\n",
      "Aqueous                  55.5145                  stable                    0                       1.00022                  0.00100302               997.216                  1.80676e-05              0.964503                 \n",
      "Gaseous                  4.49698e-21              under stable             -1.57905                 9.61969e-23              1.10326e-22              0.871932                 0.0245334                1.0609e-19               \n",
      "Calcite                  0.996215                 stable                   -4.35945e-21             0.0997081                3.67942e-05              2709.89                  3.6934e-05               0.0353814                \n",
      "Dolomite                 0.00187451               stable                   -2.31684e-18             0.000345661              1.20653e-07              2864.92                  6.4365e-05               0.00011602               \n",
      "=================================================================================================================================================================================================================================\n",
      "Ionic Strength [molal]   pH                       pE                       Reduction Potential [V]  Alkalinity [eq/L]        \n",
      "---------------------------------------------------------------------------------------------------------------------------------------------------------------------------------------------------------------------------------\n",
      "0.00608113               9.34961                  -3.40153                 -0.201232                -0.00019653              \n",
      "=================================================================================================================================================================================================================================\n",
      "\n"
     ],
     "output_type": "stream"
    }
   ],
   "source": [
    "print(state)\n"
   ]
  },
  {
   "cell_type": "markdown",
   "metadata": {
    "pycharm": {
     "is_executing": false,
     "name": "#%% md\n"
    }
   },
   "source": [
    "Alternatively, to save equilibrated state into a file, one can use method `output()`:"
   ]
  },
  {
   "cell_type": "code",
   "execution_count": 13,
   "outputs": [],
   "source": [
    "state.output('result.txt')  # Output the equilibrium state into a file result.txt"
   ],
   "metadata": {
    "collapsed": false,
    "pycharm": {
     "name": "#%% \n",
     "is_executing": false
    }
   }
  },
  {
   "cell_type": "markdown",
   "source": [
    "To print the amounts of some specific aqueous species, one can use"
   ],
   "metadata": {
    "collapsed": false
   }
  },
  {
   "cell_type": "code",
   "execution_count": 14,
   "metadata": {
    "pycharm": {
     "is_executing": false,
     "name": "#%%\n"
    }
   },
   "outputs": [
    {
     "name": "stdout",
     "text": [
      "Amount of CO2(aq): 2.280218470272726e-08\n",
      "Amount of HCO3-: 2.5065301168597322e-05\n",
      "Amount of CO3--: 3.3608545131281747e-06\n"
     ],
     "output_type": "stream"
    }
   ],
   "source": [
    "# Print the amounts of some aqueous species\n",
    "print('Amount of CO2(aq):', state.speciesAmount('CO2(aq)'))\n",
    "print('Amount of HCO3-:', state.speciesAmount('HCO3-'))\n",
    "print('Amount of CO3--:', state.speciesAmount('CO3--'))\n"
   ]
  },
  {
   "cell_type": "markdown",
   "metadata": {
    "pycharm": {
     "name": "#%% md\n"
    }
   },
   "source": [
    "Similarly, one can also print the amounts of certain element, say carbon, in both aqueous and gaseous phases"
   ]
  },
  {
   "cell_type": "code",
   "execution_count": 15,
   "metadata": {
    "pycharm": {
     "is_executing": false,
     "name": "#%%\n"
    }
   },
   "outputs": [
    {
     "name": "stdout",
     "text": [
      "Amount of C in aqueous phase: 3.609182273072377e-05\n",
      "Amount of C in gaseous phase: 9.489357152787924e-22\n",
      "Amount of C in calcite phase: 0.9962148917732713\n"
     ],
     "output_type": "stream"
    }
   ],
   "source": [
    "# Print the amounts of element C in both aqueous and gaseous phases\n",
    "print('Amount of C in aqueous phase:', state.elementAmountInPhase('C', 'Aqueous'))\n",
    "print('Amount of C in gaseous phase:', state.elementAmountInPhase('C', 'Gaseous'))\n",
    "print('Amount of C in calcite phase:', state.elementAmountInPhase('C', 'Calcite'))"
   ]
  }
 ],
 "metadata": {
  "kernelspec": {
   "display_name": "Python 3",
   "language": "python",
   "name": "python3"
  },
  "language_info": {
   "codemirror_mode": {
    "name": "ipython",
    "version": 3
   },
   "file_extension": ".py",
   "mimetype": "text/x-python",
   "name": "python",
   "nbconvert_exporter": "python",
   "pygments_lexer": "ipython3",
   "version": "3.8.0"
  },
  "pycharm": {
   "stem_cell": {
    "cell_type": "raw",
    "source": [],
    "metadata": {
     "collapsed": false
    }
   }
  }
 },
 "nbformat": 4,
 "nbformat_minor": 1
}