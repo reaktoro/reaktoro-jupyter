{
 "cells": [
  {
   "cell_type": "markdown",
   "metadata": {
    "collapsed": true,
    "pycharm": {
     "name": "#%% md\n"
    }
   },
   "source": [
    "`ChemicalSystem` is a class that represents a chemical system and its attributes and properties. Below, \n",
    "we provide a tutorial of the methods that can be used to study the characteristics of considered chemical system."
   ]
  },
  {
   "cell_type": "markdown",
   "metadata": {},
   "source": [
    "Assume that we have defined `system`, an instance of `ChemicalSystem` object, by the code below:"
   ]
  },
  {
   "cell_type": "code",
   "execution_count": 70,
   "metadata": {
    "pycharm": {
     "is_executing": false,
     "name": "#%%\n"
    }
   },
   "outputs": [],
   "source": [
    "# Import the reaktoro Python package\n",
    "from reaktoro import *\n",
    "\n",
    "# Initialize a thermodynamic database\n",
    "db = Database('supcrt98.xml')\n",
    "\n",
    "# Define the chemical system\n",
    "editor = ChemicalEditor(db)\n",
    "editor.addAqueousPhaseWithElements('H O Na Cl C') # add aqueous phase by the all possible combination of provided elements\n",
    "editor.addGaseousPhase(['CO2(g)']) # add one gaseous species\n",
    "\n",
    "# Construct the chemical system\n",
    "system = ChemicalSystem(editor)"
   ]
  },
  {
   "cell_type": "markdown",
   "metadata": {},
   "source": [
    "The most general print-out of the chemical system can be done by"
   ]
  },
  {
   "cell_type": "code",
   "execution_count": 71,
   "metadata": {
    "pycharm": {
     "is_executing": false,
     "name": "#%% \n"
    }
   },
   "outputs": [
    {
     "name": "stdout",
     "text": [
      "====================================================================================================\n",
      "Aqueous                  Gaseous                  \n",
      "----------------------------------------------------------------------------------------------------\n",
      "CO(aq)                   CO2(g)                   \n",
      "CO2(aq)                                           \n",
      "CO3--                                             \n",
      "Cl-                                               \n",
      "ClO-                                              \n",
      "ClO2-                                             \n",
      "ClO3-                                             \n",
      "ClO4-                                             \n",
      "H+                                                \n",
      "H2(aq)                                            \n",
      "H2O(l)                                            \n",
      "H2O2(aq)                                          \n",
      "HCO3-                                             \n",
      "HCl(aq)                                           \n",
      "HClO(aq)                                          \n",
      "HClO2(aq)                                         \n",
      "HO2-                                              \n",
      "Na+                                               \n",
      "NaCl(aq)                                          \n",
      "NaOH(aq)                                          \n",
      "O2(aq)                                            \n",
      "OH-                                               \n",
      "====================================================================================================\n",
      "Index                    Species                  Element                  Phase                    \n",
      "----------------------------------------------------------------------------------------------------\n",
      "0                        CO(aq)                   C                        Aqueous                  \n",
      "1                        CO2(aq)                  Cl                       Gaseous                  \n",
      "2                        CO3--                    H                                                 \n",
      "3                        Cl-                      Na                                                \n",
      "4                        ClO-                     O                                                 \n",
      "5                        ClO2-                    Z                                                 \n",
      "6                        ClO3-                                                                      \n",
      "7                        ClO4-                                                                      \n",
      "8                        H+                                                                         \n",
      "9                        H2(aq)                                                                     \n",
      "10                       H2O(l)                                                                     \n",
      "11                       H2O2(aq)                                                                   \n",
      "12                       HCO3-                                                                      \n",
      "13                       HCl(aq)                                                                    \n",
      "14                       HClO(aq)                                                                   \n",
      "15                       HClO2(aq)                                                                  \n",
      "16                       HO2-                                                                       \n",
      "17                       Na+                                                                        \n",
      "18                       NaCl(aq)                                                                   \n",
      "19                       NaOH(aq)                                                                   \n",
      "20                       O2(aq)                                                                     \n",
      "21                       OH-                                                                        \n",
      "22                       CO2(g)                                                                     \n",
      "====================================================================================================\n",
      "\n"
     ],
     "output_type": "stream"
    }
   ],
   "source": [
    "print(system)"
   ]
  },
  {
   "cell_type": "markdown",
   "metadata": {},
   "source": [
    "However, to access some limited information, such as the list of species, phases, or elements separately, the following \n",
    "code can be used"
   ]
  },
  {
   "cell_type": "code",
   "execution_count": 72,
   "metadata": {
    "pycharm": {
     "is_executing": false,
     "name": "#%% \n"
    }
   },
   "outputs": [
    {
     "name": "stdout",
     "text": [
      "List of species of the size 23\n",
      "CO(aq)\n",
      "CO2(aq)\n",
      "CO3--\n",
      "Cl-\n",
      "ClO-\n",
      "ClO2-\n",
      "ClO3-\n",
      "ClO4-\n",
      "H+\n",
      "H2(aq)\n",
      "H2O(l)\n",
      "H2O2(aq)\n",
      "HCO3-\n",
      "HCl(aq)\n",
      "HClO(aq)\n",
      "HClO2(aq)\n",
      "HO2-\n",
      "Na+\n",
      "NaCl(aq)\n",
      "NaOH(aq)\n",
      "O2(aq)\n",
      "OH-\n",
      "CO2(g)\n",
      "\n",
      "List of phases of the size 2\n",
      "Aqueous\n",
      "Gaseous\n",
      "\n",
      "List of elements of the size 6\n",
      "C\n",
      "Cl\n",
      "H\n",
      "Na\n",
      "O\n",
      "Z\n"
     ],
     "output_type": "stream"
    },
    {
     "data": {
      "text/plain": "[None, None, None, None, None, None]"
     },
     "metadata": {},
     "output_type": "execute_result",
     "execution_count": 72
    }
   ],
   "source": [
    "import numpy as np\n",
    "\n",
    "print(\"List of species of the size %d\" %(system.numSpecies()))\n",
    "for species in system.species(): \n",
    "    print(species.name())\n",
    "    \n",
    "print(\"\\nList of phases of the size %d\" %(system.numPhases()))\n",
    "[print(phase.name()) for phase in system.phases()]\n",
    "\n",
    "print(\"\\nList of elements of the size %d\" %((system.numElements())))    \n",
    "[print(element.name()) for element in system.elements()]"
   ]
  },
  {
   "cell_type": "markdown",
   "metadata": {},
   "source": [
    "To output additional information about phases, for instance, one can use"
   ]
  },
  {
   "cell_type": "code",
   "execution_count": 73,
   "metadata": {
    "pycharm": {
     "is_executing": false,
     "name": "#%% \n"
    }
   },
   "outputs": [
    {
     "name": "stdout",
     "text": [
      "List of phases with number of elements in each phase:\n",
      "\n",
      "Phase Aqueous contains 22 species\n",
      "Phase Gaseous contains 1 species\n"
     ],
     "output_type": "stream"
    }
   ],
   "source": [
    "print(\"List of phases with number of elements in each phase:\\n\")\n",
    "for phase in system.phases():\n",
    "    print(\"Phase %s contains %d species\" %(phase.name(), phase.numSpecies()))"
   ]
  },
  {
   "cell_type": "markdown",
   "metadata": {
    "pycharm": {
     "name": "#%% md\n"
    }
   },
   "source": [
    "`ChemicalSystem` provides formula matrix (whose entry (j, i) is given by the number of atoms of its j-th element in \n",
    "its i-th species). To access it, one need to use"
   ]
  },
  {
   "cell_type": "code",
   "execution_count": 74,
   "metadata": {
    "pycharm": {
     "is_executing": false,
     "name": "#%%\n"
    }
   },
   "outputs": [
    {
     "name": "stdout",
     "text": [
      "Formula matrix of the size 6 by 23:\n",
      "\n",
      "[[ 1.  1.  1.  0.  0.  0.  0.  0.  0.  0.  0.  0.  1.  0.  0.  0.  0.  0.\n",
      "   0.  0.  0.  0.  1.]\n",
      " [ 0.  0.  0.  1.  1.  1.  1.  1.  0.  0.  0.  0.  0.  1.  1.  1.  0.  0.\n",
      "   1.  0.  0.  0.  0.]\n",
      " [ 0.  0.  0.  0.  0.  0.  0.  0.  1.  2.  2.  2.  1.  1.  1.  1.  1.  0.\n",
      "   0.  1.  0.  1.  0.]\n",
      " [ 0.  0.  0.  0.  0.  0.  0.  0.  0.  0.  0.  0.  0.  0.  0.  0.  0.  1.\n",
      "   1.  1.  0.  0.  0.]\n",
      " [ 1.  2.  3.  0.  1.  2.  3.  4.  0.  0.  1.  2.  3.  0.  1.  2.  2.  0.\n",
      "   0.  1.  2.  1.  2.]\n",
      " [ 0.  0. -2. -1. -1. -1. -1. -1.  1.  0.  0.  0. -1.  0.  0.  0. -1.  1.\n",
      "   0.  0.  0. -1.  0.]]\n"
     ],
     "output_type": "stream"
    }
   ],
   "source": [
    "matrix = system.formulaMatrix()\n",
    "print(\"Formula matrix of the size %d by %d:\\n\" %(matrix.shape[0], matrix.shape[1]) )\n",
    "print(matrix)"
   ]
  },
  {
   "cell_type": "markdown",
   "metadata": {},
   "source": [
    "For instance, the matrix printed above is the matrix of the size 4 by 13, i.e.,\n",
    "\n",
    "\\begin{bmatrix}\n",
    "1 & 1 & 1 & 0 & 0 & 0 & 0 & 0 & 0 & 0 & 0 & 0 & 1 & 0 & 0 & 0 & 0 & 0 & 0 & 0 & 0 & 0 & 1 \\\\\n",
    "0 & 0 & 0 & 1 & 1 & 1 & 1 & 1 & 0 & 0 & 0 & 0 & 0 & 1 & 1 & 1 & 0 & 0 & 1 & 0 & 0 & 0 & 0 \\\\\n",
    "0 & 0 & 0 & 0 & 0 & 0 & 0 & 0 & 1 & 2 & 2 & 2 & 1 & 1 & 1 & 1 & 1 & 0 & 0 & 1 & 0 & 1 & 0 \\\\\n",
    "0 & 0 & 0 & 0 & 0 & 0 & 0 & 0 & 0 & 0 & 0 & 0 & 0 & 0 & 0 & 0 & 0 & 1 & 1 & 1 & 0 & 0 & 0 \\\\\n",
    "1 & 2 & 3 & 0 & 1 & 2 & 3 & 4 & 0 & 0 & 1 & 2 & 3 & 0 & 1 & 2 & 2 & 0 & 0 & 1 & 2 & 1 & 2 \\\\  \n",
    "0 & 0 & -2 & -1 & -1 & -1 & -1 & -1 & 1 & 0 & 0 & 0 & -1 & 0 & 0 & 0 & -1 & 1 & 0 & 0 & 0 & -1 & 0 \\\\ \n",
    "\\end{bmatrix}.\n",
    "\n",
    "Assume the enumeration starts from 0 (which is the case in Python language). Here, the row with index 1 corresponds to \n",
    "the element $\\mathrm{Cl}$, which is only present in species \n",
    "$\\mathrm{Cl^{-}}$, \n",
    "$\\mathrm{ClO^{-}}$, \n",
    "$\\mathrm{ClO^{2-}}$,\n",
    "$\\mathrm{ClO^{3-}}$, \n",
    "$\\mathrm{ClO^{4-}}$\n",
    "(with indices 3, 4, 5, 6, and 7),\n",
    "$\\mathrm{HCl(aq)}$, \n",
    "$\\mathrm{HClO(aq)}$,\n",
    "$\\mathrm{HClO_2(aq)}$\n",
    "(with indices 13, 14, and 15), \n",
    "and\n",
    "$\\mathrm{NaCl(aq)}$ (with index 18). \n",
    "Since only one atom of $\\mathrm{Cl}$ contributes to each species, the second row contains only `1` in non-zero values."
   ]
  },
  {
   "cell_type": "markdown",
   "metadata": {
    "pycharm": {
     "name": "#%% md\n"
    }
   },
   "source": [
    "To get the index of certain element, phase, or species, functions `index__()` or `index__WithError()` (the latter \n",
    "results in system throwing an exception if the element does not exist), where instead of `__` one can used `Element`,\n",
    "  `Phase`, or `Spieces`:"
   ]
  },
  {
   "cell_type": "code",
   "execution_count": 75,
   "metadata": {
    "pycharm": {
     "is_executing": false,
     "name": "#%%\n"
    }
   },
   "outputs": [
    {
     "name": "stdout",
     "text": [
      "Index of the element H:  2\n",
      "Index of the phase Aqueous:  0\n",
      "Index of the species Cl-:  3\n"
     ],
     "output_type": "stream"
    }
   ],
   "source": [
    "print(\"Index of the element H: \", system.indexElement(\"H\"))\n",
    "print(\"Index of the phase Aqueous: \", system.indexPhase(\"Aqueous\"))\n",
    "print(\"Index of the species Cl-: \", system.indexSpecies(\"Cl-\"))"
   ]
  },
  {
   "cell_type": "markdown",
   "source": [
    "When working with a  set of species, one can request set of corresponding indices. Let us collect all the species \n",
    "with chlorine and retrieve indices of corresponding species:\n",
    "    "
   ],
   "metadata": {
    "collapsed": false,
    "pycharm": {
     "name": "#%% md\n"
    }
   }
  },
  {
   "cell_type": "code",
   "execution_count": 76,
   "outputs": [
    {
     "name": "stdout",
     "text": [
      "Indices of species with Cl:  [3, 4, 5, 6, 7, 13, 14, 15, 18]\n"
     ],
     "output_type": "stream"
    }
   ],
   "source": [
    "species = [\"Cl-\", 'ClO-', 'ClO2-', 'ClO3-', 'ClO4-', 'HCl(aq)', 'HClO(aq)', 'HClO2(aq)', 'NaCl(aq)']\n",
    "print(\"Indices of species with Cl: \", system.indicesSpecies(species))"
   ],
   "metadata": {
    "collapsed": false,
    "pycharm": {
     "name": "#%% \n",
     "is_executing": false
    }
   }
  },
  {
   "cell_type": "markdown",
   "source": [
    "They must correspond with positions of the non-zero elements in the row `1` of formula matrix discussed-above."
   ],
   "metadata": {
    "collapsed": false,
    "pycharm": {
     "name": "#%% md\n"
    }
   }
  },
  {
   "cell_type": "markdown",
   "source": [
    "Having the instance of chemical system, we can calculate the molar amounts of the elements (in units of mol), when the \n",
    "molar amount of species is provided:"
   ],
   "metadata": {
    "collapsed": false
   }
  },
  {
   "cell_type": "code",
   "execution_count": 77,
   "outputs": [
    {
     "name": "stdout",
     "text": [
      "Element amounts (in units of mol) provided 1 molal for all species :  [ 5.  9. 14.  3. 33. -8.]\n",
      "Hydrogen amounts (in units of mol) provided 1 molal for all species :  14.0\n"
     ],
     "output_type": "stream"
    }
   ],
   "source": [
    "n = np.ones(system.numSpecies())\n",
    "elements_amount = system.elementAmounts(n)\n",
    "hydrogen_amount = system.elementAmount(2, n)\n",
    "print(\"Element amounts (in units of mol) provided 1 molal for all species : \", elements_amount)\n",
    "print(\"Hydrogen amounts (in units of mol) provided 1 molal for all species : \", hydrogen_amount)"
   ],
   "metadata": {
    "collapsed": false,
    "pycharm": {
     "name": "#%%\n",
     "is_executing": false
    }
   }
  },
  {
   "cell_type": "markdown",
   "source": [
    "To study the chemical system even further, one can access the class `ThermoProperties` by providing temperature and \n",
    "pressure, i.e., "
   ],
   "metadata": {
    "collapsed": false
   }
  },
  {
   "cell_type": "code",
   "execution_count": 78,
   "outputs": [],
   "source": [
    "T = 60\n",
    "P = 100\n",
    "thermo_properties = system.properties(T, P)"
   ],
   "metadata": {
    "collapsed": false,
    "pycharm": {
     "name": "#%% \n",
     "is_executing": false
    }
   }
  },
  {
   "cell_type": "markdown",
   "source": [
    "Object `thermo_properties` contains information about \n",
    "* standard partial molar Gibbs energies of the species (in units of J/mol), \n",
    "* standard partial molar enthalpies of the species (in units of J/mol), \n",
    "* standard partial molar volumes of the species (in units of m3/mol), \n",
    "* standard partial molar entropies of the species (in units of J/(mol*K)), \n",
    "* standard partial molar internal energies of the species (in units of J/mol), \n",
    "* standard partial molar Helmholtz energies of the species (in units of J/mol), \n",
    "* standard partial molar isobaric heat capacities of the species (in units of J/(mol*K)), \n",
    "* standard partial molar isochoric heat capacities of the species (in units of J/(mol*K)).\n",
    "\n",
    "For instance, partial molar Gibbs energies or enthalpies can be accessed as follows:"
   ],
   "metadata": {
    "collapsed": false
   }
  },
  {
   "cell_type": "code",
   "execution_count": 79,
   "outputs": [
    {
     "name": "stdout",
     "text": [
      "List of standard partial molar Gibbs energies of the species: \n",
      "\n",
      "Delta G (CO(aq)) is -1.177588e+05\n",
      "Delta G (CO2(aq)) is -3.833238e+05\n",
      "Delta G (CO3--) is -5.288695e+05\n",
      "Delta G (Cl-) is -1.297222e+05\n",
      "Delta G (ClO-) is -3.562228e+04\n",
      "Delta G (ClO2-) is 1.979315e+04\n",
      "Delta G (ClO3-) is -3.819468e+03\n",
      "Delta G (ClO4-) is -3.939584e+03\n",
      "Delta G (H+) is 0.000000e+00\n",
      "Delta G (H2(aq)) is 1.897143e+04\n",
      "Delta G (H2O(l)) is -2.355149e+05\n",
      "Delta G (H2O2(aq)) is -1.304572e+05\n",
      "Delta G (HCO3-) is -5.844269e+05\n",
      "Delta G (HCl(aq)) is -1.270399e+05\n",
      "Delta G (HClO(aq)) is -7.640580e+04\n",
      "Delta G (HClO2(aq)) is 1.043290e+04\n",
      "Delta G (HO2-) is -6.652417e+04\n",
      "Delta G (Na+) is -2.604526e+05\n",
      "Delta G (NaCl(aq)) is -3.858410e+05\n",
      "Delta G (NaOH(aq)) is -4.168367e+05\n",
      "Delta G (O2(aq)) is 1.898931e+04\n",
      "Delta G (OH-) is -1.573871e+05\n",
      "Delta G (CO2(g)) is -3.890546e+05\n",
      "\n",
      "List of standard partial molar enthalpies of the species: \n",
      "\n",
      "Delta H (CO(aq)) is -1.288267e+05\n",
      "Delta H (CO2(aq)) is -4.209104e+05\n",
      "Delta H (CO3--) is -6.659820e+05\n",
      "Delta H (Cl-) is -1.633466e+05\n",
      "Delta H (ClO-) is -1.031964e+05\n",
      "Delta H (ClO2-) is -6.370199e+04\n",
      "Delta H (ClO3-) is -1.020462e+05\n",
      "Delta H (ClO4-) is -1.279552e+05\n",
      "Delta H (H+) is 0.000000e+00\n",
      "Delta H (H2(aq)) is -8.954484e+03\n",
      "Delta H (H2O(l)) is -2.877201e+05\n",
      "Delta H (H2O2(aq)) is -1.920934e+05\n",
      "Delta H (HCO3-) is -6.885035e+05\n",
      "Delta H (HCl(aq)) is -1.793171e+05\n",
      "Delta H (HClO(aq)) is -1.217285e+05\n",
      "Delta H (HClO2(aq)) is -5.505622e+04\n",
      "Delta H (HO2-) is -1.551834e+05\n",
      "Delta H (Na+) is -2.409022e+05\n",
      "Delta H (NaCl(aq)) is -4.030687e+05\n",
      "Delta H (NaOH(aq)) is -4.690943e+05\n",
      "Delta H (O2(aq)) is -1.897188e+04\n",
      "Delta H (OH-) is -2.253996e+05\n",
      "Delta H (CO2(g)) is -3.944132e+05\n"
     ],
     "output_type": "stream"
    }
   ],
   "source": [
    "print(\"List of standard partial molar Gibbs energies of the species: \\n\")\n",
    "for energies, species in zip(thermo_properties.standardPartialMolarGibbsEnergies().val, system.species()):\n",
    "    print(\"Delta G (%s) is %e\" % (species.name(), energies))\n",
    "\n",
    "print(\"\\nList of standard partial molar enthalpies of the species: \\n\")\n",
    "for enthalpies, species in zip(thermo_properties.standardPartialMolarEnthalpies().val, system.species()):\n",
    "    print(\"Delta H (%s) is %e\" % (species.name(), enthalpies))\n"
   ],
   "metadata": {
    "collapsed": false,
    "pycharm": {
     "name": "#%% \n",
     "is_executing": false
    }
   }
  },
  {
   "cell_type": "markdown",
   "source": [
    "Alternatively, by providing the vector with molar amounts of the species (in units of mol) class `ChemicalProperties` \n",
    "can be accessed:"
   ],
   "metadata": {
    "collapsed": false
   }
  },
  {
   "cell_type": "code",
   "execution_count": 80,
   "outputs": [],
   "source": [
    "chemical_properties = system.properties(T, P, n)"
   ],
   "metadata": {
    "collapsed": false,
    "pycharm": {
     "name": "#%% \n",
     "is_executing": false
    }
   }
  },
  {
   "cell_type": "markdown",
   "source": [
    "This object contains various chemical properties, such as mole fractions, logarithm of activities, chemical \n",
    "potentials of the species, in addition to thermodynamic properties listed above:"
   ],
   "metadata": {
    "collapsed": false
   }
  },
  {
   "cell_type": "code",
   "execution_count": 81,
   "outputs": [
    {
     "name": "stdout",
     "text": [
      "\n",
      "Chemical potentials of the species: \n",
      "\n",
      "mu_0 (corresponding to species CO(aq)) is -115755.034417\n",
      "mu_0 (corresponding to species CO2(aq)) is -251308.585294\n",
      "mu_0 (corresponding to species CO3--) is -452018.675103\n",
      "mu_1 (corresponding to species Cl-) is -108745.236317\n",
      "mu_1 (corresponding to species ClO-) is -14645.323792\n",
      "mu_2 (corresponding to species ClO2-) is 40770.106243\n",
      "mu_2 (corresponding to species ClO3-) is 17157.484910\n",
      "mu_3 (corresponding to species ClO4-) is -27402.657241\n",
      "mu_3 (corresponding to species H+) is -15993.909537\n",
      "mu_4 (corresponding to species H2(aq)) is 20975.153172\n",
      "mu_4 (corresponding to species H2O(l)) is -554918.381864\n",
      "mu_5 (corresponding to species H2O2(aq)) is -128453.514536\n",
      "mu_5 (corresponding to species HCO3-) is -575835.396166\n",
      "mu_6 (corresponding to species HCl(aq)) is -125036.137819\n",
      "mu_6 (corresponding to species HClO(aq)) is -74402.081941\n",
      "mu_7 (corresponding to species HClO2(aq)) is 12436.619008\n",
      "mu_7 (corresponding to species HO2-) is -45547.219480\n",
      "mu_7 (corresponding to species Na+) is -244183.260860\n",
      "mu_8 (corresponding to species NaCl(aq)) is -383837.279384\n",
      "mu_8 (corresponding to species NaOH(aq)) is -414832.946546\n",
      "mu_9 (corresponding to species O2(aq)) is 20993.035002\n",
      "mu_9 (corresponding to species OH-) is -110131.214645\n",
      "mu_10 (corresponding to species CO2(g)) is -392500.811832\n",
      "\n",
      "Logarithms of activities of the species: \n",
      "\n",
      "ln (a_0) (corresponding to species CO(aq)) is 4.016536\n",
      "ln (a_0) (corresponding to species CO2(aq)) is 264.629709\n",
      "ln (a_0) (corresponding to species CO3--) is 154.050449\n",
      "ln (a_1) (corresponding to species Cl-) is 42.049128\n",
      "ln (a_1) (corresponding to species ClO-) is 42.049128\n",
      "ln (a_2) (corresponding to species ClO2-) is 42.049128\n",
      "ln (a_2) (corresponding to species ClO3-) is 42.049128\n",
      "ln (a_3) (corresponding to species ClO4-) is -47.032654\n",
      "ln (a_3) (corresponding to species H+) is -32.060421\n",
      "ln (a_4) (corresponding to species H2(aq)) is 4.016536\n",
      "ln (a_4) (corresponding to species H2O(l)) is -640.256806\n",
      "ln (a_5) (corresponding to species H2O2(aq)) is 4.016536\n",
      "ln (a_5) (corresponding to species HCO3-) is 17.221983\n",
      "ln (a_6) (corresponding to species HCl(aq)) is 4.016536\n",
      "ln (a_6) (corresponding to species HClO(aq)) is 4.016536\n",
      "ln (a_7) (corresponding to species HClO2(aq)) is 4.016536\n",
      "ln (a_7) (corresponding to species HO2-) is 42.049128\n",
      "ln (a_7) (corresponding to species Na+) is 32.612613\n",
      "ln (a_8) (corresponding to species NaCl(aq)) is 4.016536\n",
      "ln (a_8) (corresponding to species NaOH(aq)) is 4.016536\n",
      "ln (a_9) (corresponding to species O2(aq)) is 4.016536\n",
      "ln (a_9) (corresponding to species OH-) is 94.726255\n",
      "ln (a_10) (corresponding to species CO2(g)) is -6.908059\n"
     ],
     "output_type": "stream"
    }
   ],
   "source": [
    "print(\"\\nChemical potentials of the species: \\n\")\n",
    "for potential, species, index in \\\n",
    "        zip(chemical_properties.chemicalPotentials().val, \n",
    "            system.species(),\n",
    "            np.linspace(0, system.numSpecies())):\n",
    "    print(\"mu_%d (corresponding to species %s) is %f\" % (index, species.name(), potential))\n",
    "\n",
    "print(\"\\nLogarithms of activities of the species: \\n\")\n",
    "for activity, species, index in \\\n",
    "        zip(chemical_properties.lnActivities().val, \n",
    "            system.species(),\n",
    "            np.linspace(0, system.numSpecies())):\n",
    "    print(\"ln (a_%d) (corresponding to species %s) is %f\" % (index, species.name(), activity))\n"
   ],
   "metadata": {
    "collapsed": false,
    "pycharm": {
     "name": "#%% \n",
     "is_executing": false
    }
   }
  }
 ],
 "metadata": {
  "kernelspec": {
   "display_name": "Python 3",
   "language": "python",
   "name": "python3"
  },
  "language_info": {
   "codemirror_mode": {
    "name": "ipython",
    "version": 3
   },
   "file_extension": ".py",
   "mimetype": "text/x-python",
   "name": "python",
   "nbconvert_exporter": "python",
   "pygments_lexer": "ipython3",
   "version": "3.8.0"
  },
  "pycharm": {
   "stem_cell": {
    "cell_type": "raw",
    "source": [],
    "metadata": {
     "collapsed": false
    }
   }
  }
 },
 "nbformat": 4,
 "nbformat_minor": 1
}