{
 "cells": [
  {
   "cell_type": "markdown",
   "id": "95850871",
   "metadata": {},
   "source": [
    "# Mass balance and mass action equations and related chemical properties\n",
    "\n",
    "In this tutorial, we clarify how to access certain basic properties of the chemical system and chemical equilibrium\n",
    "state, such as mass balance and mass action equations:"
   ]
  },
  {
   "cell_type": "markdown",
   "id": "fb2803f0",
   "metadata": {},
   "source": [
    "We start by defining H<sub>2</sub>O-CO<sub>2</sub> chemical system defined as a mixture of 100 mol of H<sub>2</sub>0\n",
    "and 2 mols of CO<sub>2</sub> at T = 100 &deg;C and P = 50 bar:"
   ]
  },
  {
   "cell_type": "code",
   "execution_count": null,
   "id": "3c59a2df",
   "metadata": {},
   "outputs": [],
   "source": [
    "from reaktoro import *\n",
    "db = Database(\"supcrt98.xml\")\n",
    "editor = ChemicalEditor(db)\n",
    "editor.addAqueousPhaseWithElements(\"H O C\")\n",
    "editor.addGaseousPhase([\"H2O(g)\", \"CO2(g)\"])\n",
    "\n",
    "system = ChemicalSystem(editor)\n",
    "\n",
    "T = 100 # in celsius\n",
    "P = 50 # in bar\n",
    "\n",
    "problem = EquilibriumProblem(system)\n",
    "problem.setPressure(P, \"bar\")\n",
    "problem.setTemperature(T, \"celsius\")\n",
    "problem.add(\"H2O\", 100, \"mol\")\n",
    "problem.add(\"CO2\", 2, \"mol\")\n",
    "\n",
    "# Equilibrate chemical problem\n",
    "state = equilibrate(problem)"
   ]
  },
  {
   "cell_type": "markdown",
   "id": "15fdc72e",
   "metadata": {},
   "source": [
    "Obtain chemical species, chemical amounts, and formula matrix:"
   ]
  },
  {
   "cell_type": "code",
   "execution_count": null,
   "id": "c79a1bda",
   "metadata": {},
   "outputs": [],
   "source": [
    "b = state.elementAmounts()\n",
    "n = state.speciesAmounts()\n",
    "A = system.formulaMatrix()\n",
    "\n",
    "print(\"b = \", b)\n",
    "print(\"n = \", n)\n",
    "print(\"A = \", A)"
   ]
  },
  {
   "cell_type": "markdown",
   "id": "833fe10e",
   "metadata": {},
   "source": [
    "To evaluate the satisfaction of the mass balance equation"
   ]
  },
  {
   "cell_type": "code",
   "execution_count": null,
   "id": "8534915a",
   "metadata": {},
   "outputs": [],
   "source": [
    "# Import numpy package to work with arrays\n",
    "import numpy as np\n",
    "\n",
    "# Calculate the residual of the mass balance equation\n",
    "r = b - np.dot(A, n)\n",
    "# Calculate the norm of the residual\n",
    "r_norm = np.linalg.norm(r)\n",
    "print(\"||r|| = \", r_norm)"
   ]
  },
  {
   "cell_type": "markdown",
   "id": "f738f0f8",
   "metadata": {},
   "source": [
    "How much of the CO<sub>2</sub>(g) is dissolved as CO<sub>2</sub>(aq)?"
   ]
  },
  {
   "cell_type": "code",
   "execution_count": null,
   "id": "0cad777b",
   "metadata": {},
   "outputs": [],
   "source": [
    "print(f\"CO2(aq) amount is {state.speciesAmount('CO2(aq)'):6.4e} mol\")"
   ]
  },
  {
   "cell_type": "markdown",
   "id": "e513eeaa",
   "metadata": {},
   "source": [
    "How much of the H<sub>2</sub>O(l) has evaporated as H<sub>2</sub>O(g)?"
   ]
  },
  {
   "cell_type": "code",
   "execution_count": null,
   "id": "705602c0",
   "metadata": {},
   "outputs": [],
   "source": [
    "print(f\"H2O(g) amount is {state.speciesAmount('H2O(g)'):6.4e} mol\")"
   ]
  },
  {
   "cell_type": "markdown",
   "id": "ec7a06ea",
   "metadata": {},
   "source": [
    "What is the amount of H<sup>+</sup> species?"
   ]
  },
  {
   "cell_type": "code",
   "execution_count": null,
   "id": "068bac2c",
   "metadata": {},
   "outputs": [],
   "source": [
    "print(f\"H+ amount is {state.speciesAmount('H+'):6.4e} mol\")"
   ]
  },
  {
   "cell_type": "markdown",
   "id": "dba31232",
   "metadata": {},
   "source": [
    "A nicer output of the formula matrix (where one can control the spacing and format):"
   ]
  },
  {
   "cell_type": "code",
   "execution_count": null,
   "id": "323c9984",
   "metadata": {},
   "outputs": [],
   "source": [
    "rows, cols = A.shape\n",
    "for i in range(rows):\n",
    "    for j in range(cols):\n",
    "        print(f\"{A[i][j]:4.0f}\", end=\"\")\n",
    "    print(\"\\n\")"
   ]
  },
  {
   "cell_type": "markdown",
   "id": "c1b885a3",
   "metadata": {},
   "source": [
    "Rank is the maximal number of linearly independent columns of A,\n",
    "and it is equal to the dimension of the vector space spanned by its rows."
   ]
  },
  {
   "cell_type": "code",
   "execution_count": null,
   "id": "eaa0cb48",
   "metadata": {},
   "outputs": [],
   "source": [
    "rank = np.linalg.matrix_rank(A)\n",
    "print(\"Rank of A is\", rank)"
   ]
  },
  {
   "cell_type": "markdown",
   "id": "fd830cb3",
   "metadata": {},
   "source": [
    "Which phases exist in the equilibrium state?"
   ]
  },
  {
   "cell_type": "code",
   "execution_count": null,
   "id": "6e1daf6c",
   "metadata": {},
   "outputs": [],
   "source": [
    "# Collect phases names in the list\n",
    "phases_names = [phase.name() for phase in system.phases()]\n",
    "# Fetch stability indices from the state\n",
    "stability_indices = state.phaseStabilityIndices()\n",
    "print(\"Phase   : Phase amounts : Stability indices\")\n",
    "for name, si in zip(phases_names, stability_indices):\n",
    "    print(f\"{name:>7} : {state.phaseAmount(name):13.4f} : {si:6.4e}\")"
   ]
  },
  {
   "cell_type": "markdown",
   "id": "f4839411",
   "metadata": {},
   "source": [
    "> **Note**: The stability index is\n",
    "> * *zero* (very close to zero) if the phase is stable,\n",
    "> * *negative* if the phase is under-saturated, and\n",
    "> * *positive* if the phase is over-saturated."
   ]
  },
  {
   "cell_type": "markdown",
   "id": "4811b373",
   "metadata": {},
   "source": [
    "To access the molar masses of the elements in the system and evaluate their mass:"
   ]
  },
  {
   "cell_type": "code",
   "execution_count": null,
   "id": "14ad58e5",
   "metadata": {},
   "outputs": [],
   "source": [
    "# Collect elements names and molar masses\n",
    "element_names, molar_masses = zip(*[(element.name(), element.molarMass()) for element in system.elements()])\n",
    "print(\"\\nElement : Molar mass (g/mol) : Mass (g)\")\n",
    "for name, molar_mass, amount in zip(element_names, molar_masses, b):\n",
    "    print(f\"{name:>7} : {molar_mass * 1e3:18.2e} : {molar_mass * 1e3 * amount:8.2e}\")"
   ]
  },
  {
   "cell_type": "markdown",
   "id": "3d0b2d6d",
   "metadata": {},
   "source": [
    "To evaluate the mass of the species:"
   ]
  },
  {
   "cell_type": "code",
   "execution_count": null,
   "id": "9fdf7487",
   "metadata": {},
   "outputs": [],
   "source": [
    "# Fetch species names\n",
    "species_names = [speices.name() for speices in system.species()]\n",
    "\n",
    "# Species counter\n",
    "i = 0\n",
    "print(\"\\nSpecies  : Amount (mol) :   Mass (g)\")\n",
    "for name, amount in zip(species_names, n):\n",
    "    # Calculate species molar mass as the multiplication of the formula matrix column and element molar masses (in g)\n",
    "    species_molar_mass = np.dot(A[:, i], molar_masses) * 1e3\n",
    "    # Calculate species mass\n",
    "    mass = amount * species_molar_mass\n",
    "\n",
    "    print(f\"{name:>8} : {amount:12.4f} : {mass:9.4f}\")\n",
    "\n",
    "    # Increase the species counter\n",
    "    i += 1"
   ]
  },
  {
   "cell_type": "markdown",
   "id": "d3840f75",
   "metadata": {},
   "source": [
    "To evaluate the properties (i.e., chemical potentials, logarithms of activities) of the system:"
   ]
  },
  {
   "cell_type": "code",
   "execution_count": null,
   "id": "7929d6ed",
   "metadata": {},
   "outputs": [],
   "source": [
    "TKelvin = T + 273.15 # in kelvin\n",
    "PPascal = P * 1e5\n",
    "props = system.properties(TKelvin, PPascal, n)\n",
    "print(\"\\nChemical potentials of the species:\")\n",
    "for mu, species, index in zip(props.chemicalPotentials().val,\n",
    "                              system.species(),\n",
    "                              list(range(1, system.numSpecies()+1))):\n",
    "    print(f\"\\u03BC_{index} ({species.name():>8}) = {mu:12.4f} (J/mol)\")\n",
    "\n",
    "print(\"\\nLogarithms of activities of the species:\")\n",
    "for lna, species, index in zip(props.lnActivities().val,\n",
    "                              system.species(),\n",
    "                              list(range(1, system.numSpecies()+1))):\n",
    "    print(f\"ln(a_{index} ({species.name():>8}) = {lna:8.4f}\")"
   ]
  },
  {
   "cell_type": "markdown",
   "id": "f457ca56",
   "metadata": {},
   "source": [
    "To evaluate equilibrium constants for the reactions:"
   ]
  },
  {
   "cell_type": "code",
   "execution_count": null,
   "id": "c833e50c",
   "metadata": {},
   "outputs": [],
   "source": [
    "# Initialize reaction equations\n",
    "equations = [\"H2O(l) = H+ + OH-\",\n",
    "             \"HCO3- + H+ = CO2(aq) + H2O(l)\",\n",
    "             \"H2O(l) + CO2(aq) = CO3-- + 2*H+\",\n",
    "             \"CO2(aq) = CO2(g)\"]\n",
    "# Initialize reactions\n",
    "reactions = [Reaction(ReactionEquation(equation), system) for equation in equations]\n",
    "# Fetch equilibrium constants for each reaction\n",
    "lnKs = [reaction.lnEquilibriumConstant(props) for reaction in reactions]\n",
    "print(\"\\nEquilibrium constants of reactions:\")\n",
    "for equation, reaction, lnK in zip(equations,\n",
    "                              reactions,\n",
    "                              lnKs):\n",
    "    print(f\"lnK ({equation:>32}) = {lnK.val:6.4f}\")"
   ]
  },
  {
   "cell_type": "markdown",
   "id": "1403c522",
   "metadata": {},
   "source": [
    "To control whether these constants correspond to the definition via the standard chemical potential,\n",
    "let us consider the equation `H2O(l) = H+ + OH-`:"
   ]
  },
  {
   "cell_type": "code",
   "execution_count": null,
   "id": "9e8c22f1",
   "metadata": {},
   "outputs": [],
   "source": [
    "# Standard chemical potentials\n",
    "mu0_H = 0.0\n",
    "mu0_H2O = -242.992 * 1e3\n",
    "mu0_OH = -155.559 * 1e3\n",
    "\n",
    "R = 8.314 # J / (mol * K)\n",
    "lnK = - 1 / R / TKelvin * (mu0_OH + mu0_H- mu0_H2O)\n",
    "\n",
    "print(\"\\nEquilibrium constants via standard chemical potentials:\")\n",
    "print(\"lnK (H2O(l) = H+ + OH-) = \", lnK)"
   ]
  }
 ],
 "metadata": {},
 "nbformat": 4,
 "nbformat_minor": 5
}
