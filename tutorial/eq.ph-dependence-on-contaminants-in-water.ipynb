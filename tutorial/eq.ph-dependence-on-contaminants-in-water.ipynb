{
 "cells": [
  {
   "cell_type": "markdown",
   "id": "63bb87f8",
   "metadata": {},
   "source": [
    "# Dependence of the pH on added contaminant in water\n",
    "\n",
    "This tutorial demonstrates how pH is dependent on the added contaminant in the water, affecting the fish life as well\n",
    "as the general ecosystem."
   ]
  },
  {
   "cell_type": "markdown",
   "id": "e469d5a5",
   "metadata": {},
   "source": [
    "We start by importing the **reaktoro** package:"
   ]
  },
  {
   "cell_type": "code",
   "execution_count": null,
   "id": "479f3511",
   "metadata": {},
   "outputs": [],
   "source": [
    "from reaktoro import *"
   ]
  },
  {
   "cell_type": "markdown",
   "id": "15d24200",
   "metadata": {},
   "source": [
    "To initialize chemical system, we have to start from defining a thermodynamic database and chemical editor (where\n",
    "system's phases are defined):"
   ]
  },
  {
   "cell_type": "code",
   "execution_count": null,
   "id": "5690eb33",
   "metadata": {},
   "outputs": [],
   "source": [
    "db = Database(\"supcrt98.xml\")\n",
    "editor = ChemicalEditor(db)\n",
    "editor.addAqueousPhaseWithElements(\"H O Na Cl N\")\n",
    "system = ChemicalSystem(editor)"
   ]
  },
  {
   "cell_type": "markdown",
   "id": "e5a3a06b",
   "metadata": {},
   "source": [
    "Next, we define function to evaluate pH:"
   ]
  },
  {
   "cell_type": "code",
   "execution_count": null,
   "id": "155afa7b",
   "metadata": {},
   "outputs": [],
   "source": [
    "evaluate_pH = ChemicalProperty.pH(system)"
   ]
  },
  {
   "cell_type": "markdown",
   "id": "b8f46261",
   "metadata": {},
   "source": [
    "Below, we initialize chemical problem corresponding to the pure water with approximate pH equal to 7:"
   ]
  },
  {
   "cell_type": "code",
   "execution_count": null,
   "id": "659a63b0",
   "metadata": {},
   "outputs": [],
   "source": [
    "T = 25 + 273.15\n",
    "P = 1e5\n",
    "\n",
    "problem = EquilibriumProblem(system)\n",
    "problem.setTemperature(T, \"kelvin\")\n",
    "problem.setPressure(P, \"pascal\")\n",
    "problem.add(\"H2O\", 1.0, \"kg\") # water"
   ]
  },
  {
   "cell_type": "markdown",
   "id": "8c43cee1",
   "metadata": {},
   "source": [
    "We also define equilibrium solver to be used for range of equilibrium problems:"
   ]
  },
  {
   "cell_type": "code",
   "execution_count": null,
   "id": "c38f4278",
   "metadata": {},
   "outputs": [],
   "source": [
    "solver = EquilibriumSolver(system)\n",
    "state = ChemicalState(system)\n",
    "solver.solve(state, T, P, problem.elementAmounts())"
   ]
  },
  {
   "cell_type": "markdown",
   "id": "81292f76",
   "metadata": {},
   "source": [
    "### Decreasing pH\n",
    "\n",
    "First, we investigate the behavior of the pH when adding the acidic contaminant to the water.\n",
    "We define the auxiliary lists with amounts of acid HCl in the chemical state `hcl_amounts` and corresponding to that\n",
    "state list of pH `phs`. Both lists are populated in the loop of 50 steps. We gradually add 0.1 mmol of hydrogen\n",
    "chloride and evaluate the pH in the obtained state."
   ]
  },
  {
   "cell_type": "code",
   "execution_count": null,
   "id": "60f03991",
   "metadata": {},
   "outputs": [],
   "source": [
    "# Initialize lists with HCl amounts and ph values\n",
    "hcl_initial = 0.0\n",
    "hcl_delta = 0.1\n",
    "nsteps = 50\n",
    "hcl_amounts = [hcl_initial]\n",
    "phs = [evaluate_pH(state.properties()).val]\n",
    "\n",
    "# Run loop of nsteps steps\n",
    "for i in range(nsteps):\n",
    "\n",
    "    # Add more hydrogen chlorite to the problem\n",
    "    problem.add(\"HCl\", hcl_delta, \"mmol\")\n",
    "\n",
    "    # Equilibrate state with updated problem\n",
    "    solver.solve(state, T, P, problem.elementAmounts())\n",
    "\n",
    "    # Append new ph\n",
    "    phs.append(evaluate_pH(state.properties()).val)\n",
    "\n",
    "    # Append new hydrogen chlorite amount\n",
    "    hcl_amounts.append(hcl_amounts[-1] + hcl_delta)"
   ]
  },
  {
   "cell_type": "markdown",
   "id": "957cede8",
   "metadata": {},
   "source": [
    "### Increasing pH\n",
    "\n",
    "If we add in a chemical contaminant such as ammonia (a compound of nitrogen and hydrogen with the formula NH<sub>3</sub>,\n",
    "colorless gas with a characteristic pungent smell), that can increase the pH and affect fish life."
   ]
  },
  {
   "cell_type": "code",
   "execution_count": null,
   "id": "0252bf54",
   "metadata": {},
   "outputs": [],
   "source": [
    "problem = EquilibriumProblem(system)\n",
    "problem.setTemperature(T, \"kelvin\")\n",
    "problem.setPressure(P, \"pascal\")\n",
    "problem.add(\"H2O\", 1.0, \"kg\") # water"
   ]
  },
  {
   "cell_type": "code",
   "execution_count": null,
   "id": "e6ef574e",
   "metadata": {},
   "outputs": [],
   "source": [
    "state = ChemicalState(system)\n",
    "solver.solve(state, T, P, problem.elementAmounts())"
   ]
  },
  {
   "cell_type": "markdown",
   "id": "6f146a83",
   "metadata": {},
   "source": [
    "Define the auxiliary lists with amounts of acid HCl in the chemical state and corresponding to that state pH:"
   ]
  },
  {
   "cell_type": "code",
   "execution_count": null,
   "id": "320b58bf",
   "metadata": {},
   "outputs": [],
   "source": [
    "nh3_initial = 0.0\n",
    "nh3_amounts = [nh3_initial]\n",
    "phs_increase = [evaluate_pH(state.properties()).val]\n",
    "\n",
    "nh3_delta = 0.1\n",
    "nsteps = 50\n",
    "\n",
    "for i in range(nsteps):\n",
    "\n",
    "    # Add more ammonia to the problem\n",
    "    problem.add(\"NH4\", nh3_delta, \"mmol\")\n",
    "\n",
    "    # Equilibrate state with updated problem\n",
    "    solver.solve(state, T, P, problem.elementAmounts())\n",
    "\n",
    "    # Append new ph\n",
    "    phs_increase.append(evaluate_pH(state.properties()).val)\n",
    "\n",
    "    # Append new ammonia amount\n",
    "    nh3_amounts.append(nh3_amounts[-1] + nh3_delta)"
   ]
  },
  {
   "cell_type": "markdown",
   "id": "d42e09b6",
   "metadata": {},
   "source": [
    "Let us plot pH as a function of the HCl and NH<sub>3</sub> amounts:"
   ]
  },
  {
   "cell_type": "code",
   "execution_count": null,
   "id": "e7963582",
   "metadata": {},
   "outputs": [],
   "source": [
    "import matplotlib.pyplot as plt\n",
    "fig, (ax1, ax2) = plt.subplots(2, 1)\n",
    "\n",
    "ax1.plot(hcl_amounts, phs, label=f\"pH\", color='C3')\n",
    "ax1.legend(loc=\"best\")\n",
    "ax1.set_title('Dependence of pH on HCl amount')\n",
    "ax1.grid(True)\n",
    "ax1.set_ylabel('pH [-]')\n",
    "ax1.set_xlabel(r'HCl amount [mol]')\n",
    "\n",
    "ax2.plot(nh3_amounts, phs_increase, label=f\"pH\", color='C4')\n",
    "ax2.set_title(r'Dependence of pH on NH$\\mathsf{_3}$ amount')\n",
    "ax2.legend(loc=\"best\")\n",
    "ax2.grid(True)\n",
    "ax2.set_ylabel('pH [-]')\n",
    "ax2.set_xlabel(r'NH$\\mathsf{_3}$ amount [mol]')\n",
    "\n",
    "fig.tight_layout()\n",
    "fig.savefig('ph-dependence-on-contaminants-in-water.png', bbox_inches='tight')"
   ]
  },
  {
   "cell_type": "markdown",
   "id": "904b37b1",
   "metadata": {},
   "source": [
    "As expected, the contaminant like HCl can decrease the pH, affecting the ecosystem, whereas\n",
    "ammonia removes H<sup>+</sup> proton from the water to produce ammonium and hydroxide and, therefore,\n",
    "increases pH."
   ]
  }
 ],
 "metadata": {},
 "nbformat": 4,
 "nbformat_minor": 5
}
