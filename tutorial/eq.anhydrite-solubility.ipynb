{
 "cells": [
  {
   "cell_type": "markdown",
   "id": "5667844f",
   "metadata": {},
   "source": [
    "# Gypsum/anhydrite solubility in water\n",
    "\n",
    "In this tutorial, we investigate the dependence of the sulfate mineral anhydrite (CaSO<sub>4</sub>) solubility in\n",
    "water for different temperatures and pressures.\n",
    "\n",
    "> **Note**: In the databases available in Reaktoro, CaSO<sub>4</sub> is always referred to as\n",
    "> anhydrite. When exposed to water, anhydrite transforms by the absorption of water to the more commonly\n",
    "> known/occurring form gypsum (CaSO<sub>4</sub> · 2H<sub>2</sub>O).\n",
    "\n",
    "First, we import necessary packages for the presented simulations:"
   ]
  },
  {
   "cell_type": "code",
   "execution_count": null,
   "id": "3268d45d",
   "metadata": {
    "lines_to_next_cell": 1
   },
   "outputs": [],
   "source": [
    "from reaktoro import *\n",
    "import numpy as np\n",
    "import math as math\n",
    "import matplotlib.pyplot as plt"
   ]
  },
  {
   "cell_type": "markdown",
   "id": "1bff856e",
   "metadata": {},
   "source": [
    "Below, function `water_problem()` defines the chemical problem corresponding to pure water (closed system):"
   ]
  },
  {
   "cell_type": "code",
   "execution_count": null,
   "id": "ab7b227b",
   "metadata": {
    "lines_to_next_cell": 1
   },
   "outputs": [],
   "source": [
    "def water_problem(system, T, P):\n",
    "\n",
    "    problem = EquilibriumProblem(system)\n",
    "    problem.setTemperature(T, \"celsius\")\n",
    "    problem.setPressure(P, \"bar\")\n",
    "    problem.add(\"H2O\", 1.0, \"kg\")\n",
    "\n",
    "    return problem"
   ]
  },
  {
   "cell_type": "markdown",
   "id": "214fa7cc",
   "metadata": {},
   "source": [
    "Function `solubility_of_anhydrite()` simulates chemical equilibrium of 5 mol anhydrite with given solute (defined by the\n",
    "instance `problem`):"
   ]
  },
  {
   "cell_type": "code",
   "execution_count": null,
   "id": "b854bb39",
   "metadata": {
    "lines_to_next_cell": 1
   },
   "outputs": [],
   "source": [
    "def solubility_of_anhydrite(problem, system, reaction):\n",
    "\n",
    "    n0Anhydrite = 5.0\n",
    "\n",
    "    solver = EquilibriumSolver(system)\n",
    "    state = ChemicalState(system)\n",
    "\n",
    "    # Equilibrate pure water\n",
    "    solver.solve(state, problem)\n",
    "\n",
    "    # Add 10mol of anhydrite\n",
    "    state.setSpeciesAmount(\"Anhydrite\", n0Anhydrite, \"mol\")\n",
    "\n",
    "    # Equilibrate pure water with anhydrite\n",
    "    solver.solve(state)\n",
    "\n",
    "    # Calculate ph of the current state\n",
    "    evaluate_I = ChemicalProperty.ionicStrength(system)\n",
    "    I = evaluate_I(state.properties()).val\n",
    "\n",
    "    # Calculate ph of the current state\n",
    "    evaluate_pH = ChemicalProperty.pH(system)\n",
    "    pH = evaluate_pH(state.properties()).val\n",
    "\n",
    "    # Fetch chemical properties\n",
    "    props = state.properties()\n",
    "    # Calculate equilibrium constant\n",
    "    lnK = reaction.lnEquilibriumConstant(props)\n",
    "    # Calculate reaction quotient\n",
    "    lnQ = reaction.lnReactionQuotient(props)\n",
    "\n",
    "    # Calculate saturation ratio\n",
    "    lnSR = lnQ.val - lnK.val\n",
    "    # Calculate saturation index as log10(SR)\n",
    "    SI = lnSR / math.log(10)\n",
    "\n",
    "    print(f\"P = {problem.pressure() * 1e-5:.1f} bar, T = {problem.temperature() - 273.15} C: \"\n",
    "          f\"ph = {pH:.2f}, I = {I * 1e3:.2f} mmolal, lnK = {lnK.val:.4f}, SI = {SI:e}\")\n",
    "\n",
    "    # Fetch the amount of final anhydrite in the equilibrium state\n",
    "    nAnhydrite = state.speciesAmount(\"Anhydrite\")\n",
    "\n",
    "    return n0Anhydrite - nAnhydrite"
   ]
  },
  {
   "cell_type": "markdown",
   "id": "f74ccda3",
   "metadata": {},
   "source": [
    "Next, we initialize chemical system with aqueous, gaseous, and anhydrite phases:"
   ]
  },
  {
   "cell_type": "code",
   "execution_count": null,
   "id": "3207c331",
   "metadata": {},
   "outputs": [],
   "source": [
    "db = Database(\"supcrt98.xml\")\n",
    "editor = ChemicalEditor(db)\n",
    "editor.addAqueousPhaseWithElements(\"H O Ca S\")\n",
    "editor.addMineralPhase(\"Anhydrite\")\n",
    "system = ChemicalSystem(editor)"
   ]
  },
  {
   "cell_type": "markdown",
   "id": "b2c8d02d",
   "metadata": {},
   "source": [
    "The anhydrite chemical reaction is defined based on the reaction equation and chemical system:"
   ]
  },
  {
   "cell_type": "code",
   "execution_count": null,
   "id": "ef04ba22",
   "metadata": {},
   "outputs": [],
   "source": [
    "reaction = Reaction(ReactionEquation(\"Anhydrite = SO4-- + Ca++\"), system)"
   ]
  },
  {
   "cell_type": "markdown",
   "id": "b78af69d",
   "metadata": {},
   "source": [
    "Temperatures from 0 till 90 &deg;C are initialized with the list:"
   ]
  },
  {
   "cell_type": "code",
   "execution_count": null,
   "id": "7885c0f8",
   "metadata": {},
   "outputs": [],
   "source": [
    "temperatures = np.arange(0.0, 91.0, 5.0)"
   ]
  },
  {
   "cell_type": "markdown",
   "id": "db62eab8",
   "metadata": {},
   "source": [
    "Below, we calculate solubilities of anhydrite in water for the pressure P = 1 bar and save it in txt-file:"
   ]
  },
  {
   "cell_type": "code",
   "execution_count": null,
   "id": "5b50c75f",
   "metadata": {},
   "outputs": [],
   "source": [
    "P = 1.0 # in bar\n",
    "print(f\"Solubility in water, P = 1 bar:\")\n",
    "delta_anhydrite_water_P1 = [solubility_of_anhydrite(water_problem(system, T, P), system, reaction) for T in temperatures]\n",
    "np.savetxt('reaktoro-water-delta-anhydrite-p-' + str(P) + '.txt', delta_anhydrite_water_P1)"
   ]
  },
  {
   "cell_type": "markdown",
   "id": "b5e6c0e6",
   "metadata": {},
   "source": [
    "Inside the function `solubility_of_anhydrite()`, we also evaluate ph, ionic strength I, equilibrium constant lnK,\n",
    "and saturation index SI. If the SI > 0, the solution is supersaturated with anhydrite, whereas if the SI < 0,\n",
    "the solution is undersaturated with it. Finally, SI = 0 indicates equilibrium. The obtained solubility in\n",
    "water is 2.308049 g/L (25 &deg;C), which is considerably higher than for calcite. We use 172.17 g/mol as a\n",
    "molar mass of anhydrite:"
   ]
  },
  {
   "cell_type": "code",
   "execution_count": null,
   "id": "aebc5353",
   "metadata": {},
   "outputs": [],
   "source": [
    "print(f\"Solubility of anhydrite in water = {delta_anhydrite_water_P1[1]:.6f} mol/kgw = ... = \"\n",
    "      f\"{delta_anhydrite_water_P1[1] * 0.17217 * 1e3:.6f} g/L\")"
   ]
  },
  {
   "cell_type": "markdown",
   "id": "e5e4af51",
   "metadata": {},
   "source": [
    "According to the calculated values, the lnK at the 25 &deg;C is lnK = -9.9159, which corresponds to the database\n",
    "values of `log_k = -4.36` (see, for example, `phreeqc.dat`)"
   ]
  },
  {
   "cell_type": "code",
   "execution_count": null,
   "id": "dce290bd",
   "metadata": {},
   "outputs": [],
   "source": [
    "lnK = -9.9159\n",
    "log10K = lnK * math.log10(math.exp(1))\n",
    "print(\"Anhydrite/gypsum logK = \", log10K)"
   ]
  },
  {
   "cell_type": "markdown",
   "id": "0377b1c0",
   "metadata": {},
   "source": [
    "Calculate solubilities of anhydrite in water for the pressures 100 and 1000 bar and save it in txt-file:"
   ]
  },
  {
   "cell_type": "code",
   "execution_count": null,
   "id": "3d3a3081",
   "metadata": {
    "lines_to_next_cell": 2
   },
   "outputs": [],
   "source": [
    "P = 100.0 # in bar\n",
    "print(f\"Solubility in water, P = 100 bar:\")\n",
    "delta_anhydrite_water_P100 = [solubility_of_anhydrite(water_problem(system, T, P), system, reaction) for T in temperatures]\n",
    "np.savetxt('reaktoro-water-delta-anhydrite-p-' + str(P) + '.txt', delta_anhydrite_water_P100)\n",
    "\n",
    "P = 1000.0 # in bar\n",
    "print(f\"Solubility in water, P = 1000 bar:\")\n",
    "delta_anhydrite_water_P1000 = [solubility_of_anhydrite(water_problem(system, T, P), system, reaction) for T in\n",
    "                               temperatures]\n",
    "np.savetxt('reaktoro-water-delta-anhydrite-p-' + str(P) + '.txt', delta_anhydrite_water_P1000)"
   ]
  },
  {
   "cell_type": "markdown",
   "id": "77812f27",
   "metadata": {},
   "source": [
    "Let us now plot solubilities of anhydrite as function of different temperatures for different pressure:"
   ]
  },
  {
   "cell_type": "code",
   "execution_count": null,
   "id": "1ddc2caf",
   "metadata": {},
   "outputs": [],
   "source": [
    "fig, ax = plt.subplots()\n",
    "\n",
    "ax.plot(temperatures, delta_anhydrite_water_P1, label=\"P = 1\", color='C3')\n",
    "ax.plot(temperatures, delta_anhydrite_water_P100, label=\"P = 100\", color='C4')\n",
    "ax.plot(temperatures, delta_anhydrite_water_P1000, label=\"P = 1000\", color='C5')\n",
    "ax.legend(loc=\"best\")\n",
    "ax.set_title(r'Anhydrite solubility in water')\n",
    "ax.grid(True)\n",
    "ax.set_ylabel('Solubility [mol/kgw]')\n",
    "ax.set_xlabel(r'Temperature [$^{\\circ}$C]')\n",
    "fig.savefig('anhydrite-solubility.png', bbox_inches='tight')"
   ]
  },
  {
   "cell_type": "markdown",
   "id": "a8c60434",
   "metadata": {},
   "source": [
    "We see that anhydrite solubility decreases with increasing temperature.\n",
    "Increasing pressure also increases the solubility of calcium sulfate."
   ]
  }
 ],
 "metadata": {},
 "nbformat": 4,
 "nbformat_minor": 5
}
