{
 "cells": [
  {
   "cell_type": "markdown",
   "id": "58beb266",
   "metadata": {},
   "source": [
    "# Precipitation of barite as a result of waterflooding\n",
    "\n",
    "This tutorial demonstrates how Reaktoro can be used for modeling barite precipitation as a result of the waterflooding\n",
    "technique often used in oil and gas industry. Waterflooding in this tutorial will be modeled by mixing chemical\n",
    "state representing the formation water (FW) and seawater (SW).\n",
    "\n",
    "We start with again import the reaktoro Python package (so that we can use its classes and methods for performing the\n",
    "chemical reaction calculations), initializing auxiliary variables, and thermodynamic condition."
   ]
  },
  {
   "cell_type": "code",
   "execution_count": null,
   "id": "bf76eccd",
   "metadata": {},
   "outputs": [],
   "source": [
    "# Import reaktoro package\n",
    "from reaktoro import *\n",
    "import numpy as np\n",
    "\n",
    "# Define time related constants\n",
    "second = 1\n",
    "minute = 60 * second\n",
    "hour = 60 * minute\n",
    "day = 60 * hour\n",
    "\n",
    "# Thermodynamic conditions\n",
    "T = 60.0        # temperature (in units of Celsius)\n",
    "P = 200.0       # pressure (in units of atm)\n",
    "water_kg = 1.00 # water mass"
   ]
  },
  {
   "cell_type": "markdown",
   "id": "54f54ccd",
   "metadata": {},
   "source": [
    "Next, we construct the chemical system with its phases and species and fetch Debye-Huckel activity model parameters."
   ]
  },
  {
   "cell_type": "code",
   "execution_count": null,
   "id": "acb9360e",
   "metadata": {},
   "outputs": [],
   "source": [
    "# Define database\n",
    "db = Database('supcrt07.xml')\n",
    "\n",
    "# Fetch Debye-Huckel activity model parameters\n",
    "dhModel = DebyeHuckelParams()\n",
    "dhModel.setPHREEQC()"
   ]
  },
  {
   "cell_type": "markdown",
   "id": "1bcf6bc9",
   "metadata": {},
   "source": [
    "For simulation below, we construct [ChemicalSystem](https://reaktoro.org/cpp/classReaktoro_1_1ChemicalSystem.html)\n",
    "with its phases and species using [ChemicalEditor](https://reaktoro.org/cpp/classReaktoro_1_1ChemicalEditor.html)\n",
    "class."
   ]
  },
  {
   "cell_type": "code",
   "execution_count": null,
   "id": "7f2455bb",
   "metadata": {},
   "outputs": [],
   "source": [
    "# Define different phases of the chemical system\n",
    "editor = ChemicalEditor(db)\n",
    "editor.addAqueousPhaseWithElements(\"H Cl S O Ba Ca Sr Na K Mg C Si\"). \\\n",
    "    setChemicalModelDebyeHuckel(dhModel)\n",
    "editor.addMineralPhase('Barite')    # BaSiO4\n",
    "\n",
    "# Define barite mineral reaction and its parameters\n",
    "eq_str_barite = \"Barite = SO4-- + Ba++\"\n",
    "min_reaction_barite = editor.addMineralReaction(\"Barite\") \\\n",
    "    .setEquation(eq_str_barite) \\\n",
    "    .addMechanism(\"logk = -8.6615 mol/(m2*s); Ea = 22 kJ/mol\") \\\n",
    "    .setSpecificSurfaceArea(0.006, \"m2/g\")"
   ]
  },
  {
   "cell_type": "markdown",
   "id": "0bd32c61",
   "metadata": {},
   "source": [
    "After initializing the system's phases, we create instances of\n",
    "[ChemicalSystem](https://reaktoro.org/cpp/classReaktoro_1_1ChemicalSystem.html) and\n",
    "[ReactionSystem](https://reaktoro.org/cpp/classReaktoro_1_1ReactionSystem.html). Instance `system` represents the\n",
    "considered chemical system and its attributes and properties, such as phases (in our case aqueous and mineral ones),\n",
    "species, elements, formula matrix, as well as chemical and thermodynamical model. Class\n",
    "[ReactionSystem](https://reaktoro.org/cpp/classReaktoro_1_1ReactionSystem.html) serves as a set of the chemical\n",
    "reaction by a collection of [Reaction](https://reaktoro.org/cpp/classReaktoro_1_1Reaction.html) class instances.\n",
    "It provides convenient methods that calculate the equilibrium constants, reaction quotients, and rates of the\n",
    "reactions."
   ]
  },
  {
   "cell_type": "code",
   "execution_count": null,
   "id": "f1613dff",
   "metadata": {},
   "outputs": [],
   "source": [
    "# Initialize chemical system\n",
    "system = ChemicalSystem(editor)\n",
    "# Initialize reaction system\n",
    "reactions = ReactionSystem(editor)"
   ]
  },
  {
   "cell_type": "markdown",
   "id": "2ef78a00",
   "metadata": {},
   "source": [
    "### Specifying the equilibrium and kinetic species\n",
    "\n",
    "For the partition of a chemical system into equilibrium and kinetic species, we use the class\n",
    "[Partition](https://reaktoro.org/cpp/classReaktoro_1_1Partition.html). We only need\n",
    "to specify which species comprise kinetic species (barite, in this case), and all others will be equilibrium species\n",
    "by default. This will allow us to model the precipitation of barite using chemical kinetics, while all other species\n",
    "modeled by equilibrium."
   ]
  },
  {
   "cell_type": "code",
   "execution_count": null,
   "id": "95957fe2",
   "metadata": {},
   "outputs": [],
   "source": [
    "partition = Partition(system)\n",
    "partition.setKineticSpecies([\"Barite\"])"
   ]
  },
  {
   "cell_type": "markdown",
   "id": "abe79cec",
   "metadata": {},
   "source": [
    "### Defining the formation water chemical state\n",
    "\n",
    "The chemical state corresponding to the formation water (FW) is taken from the manuscript of Bethke 2008, i.e.,\n",
    "Table 30.1 (Miller analysis). We recite it in the table below:\n",
    "\n",
    "| Aqueous species | Amount (mg / kg) |\n",
    "|-----------------|------------------|\n",
    "| Na<sup>+</sup>  | 27250            |\n",
    "| K<sup>+</sup>   | 1730             |\n",
    "| Mg<sup>2+</sup> | 110              |\n",
    "| Ca<sup>2+</sup> | 995              |\n",
    "| Sr<sup>2+</sup> | 105              |\n",
    "| Ba<sup>2+</sup> | 995              |\n",
    "| Cl<sup>-</sup>  | 45150            |\n",
    "| HCO<sub>3</sub><sup>-</sup> | 1980 |\n",
    "| SO<sub>4</sub><sup>2-</sup> | 10 · 10<sup>-3</sup>|\n",
    "\n",
    "The essential characteristics of the formation water are high concentration of the Ba<sup>2+</sup> and low\n",
    "concentrations of the SO<sub>4</sub><sup>2-</sup>. We also, the small initial seed of the barite into this state,\n",
    "to increase the precipitation scale."
   ]
  },
  {
   "cell_type": "code",
   "execution_count": null,
   "id": "0d123827",
   "metadata": {},
   "outputs": [],
   "source": [
    "problem_fw = EquilibriumInverseProblem(system)\n",
    "problem_fw.setTemperature(T, \"celsius\")\n",
    "problem_fw.setPressure(P, \"atm\")\n",
    "problem_fw.add('H2O', water_kg, 'kg')\n",
    "problem_fw.add(\"SO4\", 10 * water_kg, \"ug\")\n",
    "problem_fw.add(\"Ca\", 995 * water_kg, \"mg\")\n",
    "problem_fw.add(\"Ba\", 995 * water_kg, \"mg\")\n",
    "problem_fw.add(\"Sr\", 105 * water_kg, \"mg\")\n",
    "problem_fw.add(\"Na\", 27250 * water_kg, \"mg\")\n",
    "problem_fw.add(\"K\", 1730 * water_kg, \"mg\")\n",
    "problem_fw.add(\"Mg\", 110 * water_kg, \"mg\")\n",
    "problem_fw.add(\"Cl\", 45150 * water_kg, \"mg\")\n",
    "problem_fw.add(\"HCO3\", 1980 * water_kg, \"mg\")\n",
    "problem_fw.pH(7.0, \"HCl\", \"NaOH\")\n",
    "\n",
    "# Calculate the equilibrium states for the initial conditions\n",
    "state_fw = equilibrate(problem_fw)\n",
    "state_fw.setSpeciesAmount(\"Barite\", 0.1, \"mcmol\")\n",
    "state_fw.scaleVolume(1.0, \"m3\")"
   ]
  },
  {
   "cell_type": "markdown",
   "id": "7ac07d8b",
   "metadata": {},
   "source": [
    "### Defining the seawater chemical state"
   ]
  },
  {
   "cell_type": "markdown",
   "id": "16701a54",
   "metadata": {},
   "source": [
    "Next, we define the seawater (SW) composition taken from Bethke 2008, i.e., Table 30.1 (Seawater). Further down, we\n",
    "list the quantities of the aqueous species:\n",
    "\n",
    "| Aqueous species | Amount (mg / kg) |\n",
    "|-----------------|------------------|\n",
    "| Na<sup>+</sup>  | 10760            |\n",
    "| K<sup>+</sup>   | 399              |\n",
    "| Mg<sup>2+</sup> | 1290             |\n",
    "| Ca<sup>2+</sup> | 411              |\n",
    "| Sr<sup>2+</sup> | 8                |\n",
    "| Ba<sup>2+</sup> | 0.01             |\n",
    "| Cl<sup>-</sup>  | 19350            |\n",
    "| HCO<sub>3</sub><sup>-</sup> | 142  |\n",
    "| SO<sub>4</sub><sup>2-</sup> | 2710 |\n",
    "\n",
    "Typically, seawater is rich in sulfate, poor in Ca<sup>2+</sup>, and nearly depleted in Sr<sup>2+</sup> and\n",
    "Ba<sup>2+</sup>. The pH of the seawater is fixed to 8.1."
   ]
  },
  {
   "cell_type": "code",
   "execution_count": null,
   "id": "405be9dc",
   "metadata": {},
   "outputs": [],
   "source": [
    "problem_sw = EquilibriumInverseProblem(system)\n",
    "problem_sw.setTemperature(T, \"celsius\")\n",
    "problem_sw.setPressure(P, \"atm\")\n",
    "problem_sw.add('H2O', water_kg, 'kg')\n",
    "problem_sw.add(\"SO4--\", 2710 * water_kg, \"mg\")\n",
    "problem_sw.add(\"Ca++\", 411 * water_kg, \"mg\")\n",
    "problem_sw.add(\"Ba++\", 0.01 * water_kg, \"mg\")\n",
    "problem_sw.add(\"Sr++\", 8 * water_kg, \"mg\")\n",
    "problem_sw.add(\"Na+\", 10760 * water_kg, \"mg\")\n",
    "problem_sw.add(\"K+\", 399 * water_kg, \"mg\")\n",
    "problem_sw.add(\"Mg++\", 1290 * water_kg, \"mg\")\n",
    "problem_sw.add(\"Cl-\", 19350 * water_kg, \"mg\")\n",
    "problem_sw.add(\"HCO3-\", 142 * water_kg, \"mg\")\n",
    "problem_sw.pH(8.1, \"HCl\", \"NaOH\")\n",
    "\n",
    "# Calculate the equilibrium states for the initial conditions\n",
    "state_sw = equilibrate(problem_sw)\n",
    "state_sw.scaleVolume(1.0, \"m3\")"
   ]
  },
  {
   "cell_type": "markdown",
   "id": "23c27404",
   "metadata": {},
   "source": [
    "### Solving kinetic barite precipitation problem\n",
    "\n",
    "Next, we define the time interval of the kinetic simulation and corresponding to it file-name (for the obtained\n",
    "numerical results to be stored):"
   ]
  },
  {
   "cell_type": "code",
   "execution_count": null,
   "id": "f3d70eeb",
   "metadata": {},
   "outputs": [],
   "source": [
    "t0, tfinal = 0.0, 1.0\n",
    "result_file_name = \"kineticpath-barite-precipitation-tfinal-\" + str(tfinal*day) + \".txt\""
   ]
  },
  {
   "cell_type": "markdown",
   "id": "eb6e2893",
   "metadata": {},
   "source": [
    "To be able to simulate the chemical kinetic path, we use the class\n",
    "[KineticPath](https://reaktoro.org/cpp/classReaktoro_1_1KineticPath.html). Note that here again, we need to\n",
    "specify the partitioning of the chemical system into equilibrium, kinetic, and inert species."
   ]
  },
  {
   "cell_type": "code",
   "execution_count": null,
   "id": "2234961d",
   "metadata": {},
   "outputs": [],
   "source": [
    "path = KineticPath(reactions)\n",
    "path.setPartition(partition)"
   ]
  },
  {
   "cell_type": "markdown",
   "id": "6ec13f83",
   "metadata": {},
   "source": [
    "To analyse the result of kinetic simulations, we save the evolution of various characteristics of the chemical\n",
    "state (with respect to time) into file `result_file_name`:"
   ]
  },
  {
   "cell_type": "code",
   "execution_count": null,
   "id": "0f33a80c",
   "metadata": {},
   "outputs": [],
   "source": [
    "output = path.output()\n",
    "output.filename(result_file_name)\n",
    "output.add(\"time(units=s)\")\n",
    "output.add(\"speciesAmount(Barite units=mol)\", \"Barite\")\n",
    "output.filename(result_file_name)"
   ]
  },
  {
   "cell_type": "markdown",
   "id": "b29825e7",
   "metadata": {},
   "source": [
    "We solve the kinetic path problem with the method `solve()` of class\n",
    "[KineticPath](https://reaktoro.org/cpp/classReaktoro_1_1KineticPath.html). It requires the formation water state\n",
    "`state_fw` perturbed with the seawater `state_sw`, the initial and final time of the kinetic path calculation\n",
    "(`t0` and `tfinal`, respectively), and the time unit of the specified time parameters (days, in this case)."
   ]
  },
  {
   "cell_type": "code",
   "execution_count": null,
   "id": "be93d48e",
   "metadata": {},
   "outputs": [],
   "source": [
    "state_fw = state_fw + state_sw\n",
    "path.solve(state_fw, t0, tfinal, \"days\")"
   ]
  },
  {
   "cell_type": "markdown",
   "id": "c095510d",
   "metadata": {},
   "source": [
    "For plotting of the results of equilibrium path calculation, we load the results into the `data` array:"
   ]
  },
  {
   "cell_type": "code",
   "execution_count": null,
   "id": "82986820",
   "metadata": {},
   "outputs": [],
   "source": [
    "filearray = np.loadtxt(result_file_name, skiprows=1) # load data from the file skipping the one row\n",
    "data = filearray.T  # transpose the matrix with data\n",
    "[time_indx, barite_indx] = np.arange(0, 2)"
   ]
  },
  {
   "cell_type": "markdown",
   "id": "549abb20",
   "metadata": {},
   "source": [
    "To visually analyze the obtained reaction path, we export\n",
    "[bokeh](https://docs.bokeh.org/en/latest/docs/gallery.html#standalone-examples) python plotting package."
   ]
  },
  {
   "cell_type": "code",
   "execution_count": null,
   "id": "ceb60c3c",
   "metadata": {},
   "outputs": [],
   "source": [
    "from bokeh.plotting import figure, show\n",
    "from bokeh.io import output_notebook\n",
    "output_notebook()\n",
    "\n",
    "def custom_figure(title, y_axis_label, y_axis_type='auto'):\n",
    "    return figure(plot_width=400, plot_height=200,\n",
    "                  title=title,\n",
    "                  x_axis_label='time',\n",
    "                  y_axis_label=y_axis_label,\n",
    "                  y_axis_type=y_axis_type,\n",
    "                  background_fill_color=\"#fafafa\")\n",
    "\n",
    "time = data[time_indx, :]  # fetch time from the data matrix\n",
    "\n",
    "fig = custom_figure(title=\"Minerals concentration w.r.t. time\", y_axis_label='Concentration [mol/m3]')\n",
    "fig.line(time, data[barite_indx], line_width=4, color=\"darkviolet\", legend_label=\"Barite\")\n",
    "fig.legend.location = 'bottom_right'\n",
    "show(fig)"
   ]
  },
  {
   "cell_type": "markdown",
   "id": "3d57514b",
   "metadata": {},
   "source": [
    "From the plot, we see that the mineral precipitates right after addition of the seawater. It happens due to the\n",
    "contrasting compositions of the formation water (FW) and seawater (SW). In particular, SW\n",
    "is low on Ba<sup>2+</sup> and high on SO<sub>4</sub><sup>2-</sup> concentrations, whereas FW, on the opposite, is\n",
    "high on Ba<sup>2+</sup> and low on SO<sub>4</sub><sup>2-</sup>. During the mixing, both of these ions react creating\n",
    "barite according to the reaction Ba<sup>2+</sup> + SO<sub>4</sub><sup>2-</sup> &#8594; BaSO<sub>4</sub>(s).\n",
    "Such side effect of waterflooding (as part of the oil recovery techniques) reduces the near-wellbore permeability and\n",
    "hampers well productivity/injectivity.\n",
    "> **Note**: Other minerals that have the potential for scaling (when specific conditions are provided) are\n",
    "CaCO<sub>3</sub> (calcite), CaSO<sub>4</sub> (calcium sulfate), FeCO<sub>3</sub> (siderite)."
   ]
  }
 ],
 "metadata": {},
 "nbformat": 4,
 "nbformat_minor": 5
}
