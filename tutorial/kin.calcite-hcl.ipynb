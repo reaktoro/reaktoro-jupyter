{
 "cells": [
  {
   "cell_type": "markdown",
   "id": "4569d1e2",
   "metadata": {},
   "source": [
    "# Dissolution of calcite in an acidic HCl-solution\n",
    "\n",
    "This tutorial demonstrates how Reaktoro can be used for modeling the dissolution of calcite in an acidic\n",
    "HCl-solution at temperature 30 &deg;C and pressure 1 bar using chemical kinetics. A partial equilibrium\n",
    "assumption is considered here so that aqueous species react using a chemical equilibrium model, while calcite\n",
    "reacts with the aqueous solution using a chemical kinetics model.\n",
    "\n",
    "We start with again import the reaktoro Python package so that we can use its classes and methods for performing the\n",
    "chemical reaction calculations."
   ]
  },
  {
   "cell_type": "code",
   "execution_count": null,
   "id": "ddfc30ee",
   "metadata": {},
   "outputs": [],
   "source": [
    "from reaktoro import *"
   ]
  },
  {
   "cell_type": "markdown",
   "id": "4046ce87",
   "metadata": {},
   "source": [
    "The class [ChemicalEditor](https://reaktoro.org/cpp/classReaktoro_1_1ChemicalEditor.html) is used to conveniently\n",
    "create instances of classes [ChemicalSystem](https://reaktoro.org/cpp/classReaktoro_1_1ChemicalSystem.html) and\n",
    "[ReactionSystem](https://reaktoro.org/cpp/classReaktoro_1_1ReactionSystem.html). In particular, we specify aqueous\n",
    "and mineral phases that should be considered in the chemical system. The aqueous phase is defined by the mixing of\n",
    "H2O, HCl, and CaCO<sub>3</sub> (effectively, collecting all aqueous species in the database that contains elements H,\n",
    "O, C, Cl,\n",
    "and Ca, which are the elements in this list of compounds). There is only one pure mineral phase: the calcite phase."
   ]
  },
  {
   "cell_type": "code",
   "execution_count": null,
   "id": "ba72057d",
   "metadata": {},
   "outputs": [],
   "source": [
    "editor = ChemicalEditor()\n",
    "editor.addAqueousPhaseWithElementsOf(\"H2O HCl CaCO3\")\n",
    "editor.addMineralPhase(\"Calcite\")"
   ]
  },
  {
   "cell_type": "markdown",
   "id": "884dde97",
   "metadata": {},
   "source": [
    "We set the reaction equation using\n",
    "[setEquation](https://reaktoro.org/cpp/classReaktoro_1_1ChemicalEditor.html#af3c6212c6edb42c0e6f110b493ece45c)\n",
    "method of the class [MineralReaction](https://reaktoro.org/cpp/classReaktoro_1_1MineralReaction.html).\n",
    "Then, we add two mineral kinetic mechanisms for the reaction: neutral and acidic. This is done with the\n",
    "[addMechanism](https://reaktoro.org/cpp/classReaktoro_1_1MineralReaction.html#a1bdeff51e51f42e4635208241cd54027)\n",
    "method, where we set, for example, `logk`, the kinetic rate constant of the reaction in log scale, and `Ea`, the\n",
    "Arrhenius activation energy. The values shown for `logk` and `Ea` were collected from:\n",
    "\n",
    "*Palandri, J.L., Kharaka, Y.K. (2004). A compilation of rate parameters of water-mineral interaction kinetics for\n",
    "application to geochemical modeling. U.S. Geological Survey Open File Report (Vol. 2004–1068). Menlo Park,\n",
    "California.*\n",
    "\n",
    "Finally, we provide the specific surface area of the mineral using method\n",
    "[setSpecificSurfaceArea](https://reaktoro.org/cpp/classReaktoro_1_1MineralReaction.html#a9ea2feb68af0beddc856d6a60b863181)\n",
    "of class [MineralReaction](https://reaktoro.org/cpp/classReaktoro_1_1MineralReaction.html), which can be specified\n",
    "in units of m<sup>2</sup>/g or m<sup>2</sup>/m<sup>3</sup>. Compatible units are allowed, such as cm<sup>2</sup>/mg or\n",
    "m<sup>2</sup>/dm<sup>3</sup>, and combinations."
   ]
  },
  {
   "cell_type": "code",
   "execution_count": null,
   "id": "215c9abb",
   "metadata": {},
   "outputs": [],
   "source": [
    "editor.addMineralReaction(\"Calcite\") \\\n",
    "    .setEquation(\"Calcite = Ca++ + CO3--\") \\\n",
    "    .addMechanism(\"logk = -5.81 mol/(m2*s); Ea = 23.5 kJ/mol\") \\\n",
    "    .addMechanism(\"logk = -0.30 mol/(m2*s); Ea = 14.4 kJ/mol; a[H+] = 1.0\") \\\n",
    "    .setSpecificSurfaceArea(10, \"cm2/g\")"
   ]
  },
  {
   "cell_type": "markdown",
   "id": "83058996",
   "metadata": {},
   "source": [
    "Create instances of [ChemicalSystem](https://reaktoro.org/cpp/classReaktoro_1_1ChemicalSystem.html) and\n",
    "[ReactionSystem](https://reaktoro.org/cpp/classReaktoro_1_1ReactionSystem.html).\n",
    "[ChemicalSystem](https://reaktoro.org/cpp/classReaktoro_1_1ChemicalSystem.html) is a class that represents a\n",
    "system and its attributes and properties, such as phases (in our case aqueous and mineral ones), species,\n",
    "elements (5 in total, i.e., H, O, Ca, C, Cl), formula matrix, as well as chemical and thermodynamical model. Class\n",
    "[ReactionSystem](https://reaktoro.org/cpp/classReaktoro_1_1ReactionSystem.html) serves as a system of the chemical\n",
    "reaction by a collection of [Reaction](https://reaktoro.org/cpp/classReaktoro_1_1Reaction.html) class instances.\n",
    "It provides convenient methods that calculate the equilibrium constants, reaction quotients, and rates of the\n",
    "reactions."
   ]
  },
  {
   "cell_type": "code",
   "execution_count": null,
   "id": "ebc05dbf",
   "metadata": {},
   "outputs": [],
   "source": [
    "system = ChemicalSystem(editor)\n",
    "reactions = ReactionSystem(editor)"
   ]
  },
  {
   "cell_type": "markdown",
   "id": "f8e75eda",
   "metadata": {},
   "source": [
    "### Specifying the equilibrium and kinetic species\n",
    "\n",
    "For the partition of a chemical system into equilibrium and kinetic species, we use the class\n",
    "[Partition](https://reaktoro.org/cpp/classReaktoro_1_1Partition.html). We only\n",
    "need to specify which species are kinetic species, and all others will be equilibrium species by default.\n",
    "We set species Calcite (the only species in the mineral phase also called Calcite!) to be the only kinetic species.\n",
    "This will allow us to model the dissolution of calcite using chemical kinetics, while all other species (the\n",
    "aqueous species) are modeled using chemical equilibrium (i.e., their amounts are updated over time using chemical\n",
    "equilibrium calculations)."
   ]
  },
  {
   "cell_type": "code",
   "execution_count": null,
   "id": "e79bad6c",
   "metadata": {
    "lines_to_next_cell": 2
   },
   "outputs": [],
   "source": [
    "partition = Partition(system)\n",
    "partition.setKineticSpecies([\"Calcite\"])"
   ]
  },
  {
   "cell_type": "markdown",
   "id": "b875e7b5",
   "metadata": {},
   "source": [
    "### Defining the initial state of the equilibrium species\n",
    "\n",
    "After constructing the chemical system and specifying the partitioning of the species, we proceed to a chemical\n",
    "equilibrium calculation to set the initial state of the equilibrium species. For this, we use class\n",
    "[EquilibriumProblem](https://reaktoro.org/cpp/classReaktoro_1_1EquilibriumProblem.html), as shown below:"
   ]
  },
  {
   "cell_type": "code",
   "execution_count": null,
   "id": "707c8da2",
   "metadata": {},
   "outputs": [],
   "source": [
    "problem = EquilibriumProblem(system)\n",
    "problem.setPartition(partition)\n",
    "problem.setTemperature(30, \"celsius\")\n",
    "problem.setPressure(1, \"bar\")\n",
    "problem.add(\"H2O\", 1, \"kg\")\n",
    "problem.add(\"HCl\", 1, \"mmol\")"
   ]
  },
  {
   "cell_type": "markdown",
   "id": "fd0b2e43",
   "metadata": {},
   "source": [
    "We specify the equilibrium/kinetic partitioning of the chemical system using the method\n",
    "[setPartition](https://reaktoro.org/cpp/classReaktoro_1_1EquilibriumProblem.html#a53a9496c9d4ffc72a85903146b390e44)\n",
    "of class [EquilibriumProblem](https://reaktoro.org/cpp/classReaktoro_1_1EquilibriumProblem.html). We then prescribe\n",
    "what should be the initial state of the equilibrium species (the aqueous species in this case), before we start the\n",
    "chemical kinetics calculation that will simulate the dissolution of calcite in this aqueous fluid.\n",
    "\n",
    "By mixing 1 kg of H<sub>2</sub>O and 1 mmol of HCl at 30 &deg;C and 1 bar, we should produce a\n",
    "chemical equilibrium state that corresponds to an acidic aqueous fluid. The species in this fluid will be in\n",
    "disequilibrium with Calcite (our single kinetic species in this setup) since only equilibrium species\n",
    "(i.e., the aqueous species) are considered during the next chemical equilibrium calculation.\n",
    "\n",
    "### Calculating the initial chemical equilibrium state of the fluid\n",
    "\n",
    "We now use the function equilibrate to calculate the chemical equilibrium state of the equilibrium partition,\n",
    "not the entire chemical system."
   ]
  },
  {
   "cell_type": "code",
   "execution_count": null,
   "id": "cfa89336",
   "metadata": {},
   "outputs": [],
   "source": [
    "state0 = equilibrate(problem)"
   ]
  },
  {
   "cell_type": "markdown",
   "id": "ff4ccc1d",
   "metadata": {},
   "source": [
    "For this calculation, Reaktoro uses an efficient Gibbs energy minimization algorithm to determine the amounts of\n",
    "the equilibrium species that correspond to a state of minimum Gibbs energy in the equilibrium partition only,\n",
    "at given conditions of temperature, pressure, and element amounts in the equilibrium partition. The result is\n",
    "stored in the object state0 of class [ChemicalState](https://reaktoro.org/cpp/classReaktoro_1_1ChemicalState.html),\n",
    "a computational representation of the state of a multiphase\n",
    "chemical system defined by its temperature (*T*), pressure (*P*), and vector of species amounts (*n*).\n",
    "\n",
    "To simulate the kinetic dissolution of calcite in the aqueous fluid we defined before, we need to specify its\n",
    "initial amount. Below, we set the initial mass of species Calcite to 100 g."
   ]
  },
  {
   "cell_type": "code",
   "execution_count": null,
   "id": "90d53437",
   "metadata": {},
   "outputs": [],
   "source": [
    "state0.setSpeciesMass(\"Calcite\", 100, \"g\")"
   ]
  },
  {
   "cell_type": "markdown",
   "id": "f3ad3a4c",
   "metadata": {},
   "source": [
    "### Performing the kinetic path calculation\n",
    "\n",
    "To be able to simulate the chemical kinetic path, we use class\n",
    "[KineticPath](https://reaktoro.org/cpp/classReaktoro_1_1KineticPath.html). Note that here again, we need to\n",
    "specify the partitioning of the chemical system into equilibrium, kinetic, and inert species."
   ]
  },
  {
   "cell_type": "code",
   "execution_count": null,
   "id": "0857ddb9",
   "metadata": {},
   "outputs": [],
   "source": [
    "path = KineticPath(reactions)\n",
    "path.setPartition(partition)"
   ]
  },
  {
   "cell_type": "markdown",
   "id": "63eb391c",
   "metadata": {},
   "source": [
    "To analyse the result of kinetic simulations, we save the evolution of different properties of the chemical system\n",
    "into file `result.txt`:"
   ]
  },
  {
   "cell_type": "code",
   "execution_count": null,
   "id": "1c1b248b",
   "metadata": {},
   "outputs": [],
   "source": [
    "output = path.output()\n",
    "output.filename(\"results.txt\")\n",
    "output.add(\"time(units=minute)\")\n",
    "output.add(\"elementMolality(Ca units=mmolal)\", \"Ca [mmolal]\")\n",
    "output.add(\"phaseMass(Calcite units=g)\", \"Calcite [units=g]\")\n",
    "output.add(\"speciesMolality(Ca++ units=mmolal)\", \"Ca++ [mmol]\")\n",
    "output.add(\"speciesMolality(HCO3- units=mmolal)\", \"HCO3- [mmol]\")\n",
    "output.add(\"pH\")"
   ]
  },
  {
   "cell_type": "markdown",
   "id": "ae3f44b4",
   "metadata": {},
   "source": [
    "> **Note**: A list of all possible quantities that can be plotted is shown in the class\n",
    "> [ChemicalQuantity](https://reaktoro.org/cpp/classReaktoro_1_1ChemicalQuantity.html),\n",
    "> which provides an interface for convenient ways of their retrieval.\n",
    "\n",
    "### Solving the chemical kinetics problem\n",
    "\n",
    "Finally, we solve the kinetic path problem.\n",
    "This step executes the method solve of class\n",
    "[KineticPath](https://reaktoro.org/cpp/classReaktoro_1_1KineticPath.html), which requires the initial state of the\n",
    "system (100 g of calcite in disequilibrium with a 1 mmolal HCl aqueous solution at 30 &deg;C and 1 bar,\n",
    "represented with the object state0), the initial and final time of the kinetic path calculation (`t0` and `t1`,\n",
    "respectively), and the time unit of the specified time parameters (e.g., s, minute, day, year, etc.)."
   ]
  },
  {
   "cell_type": "code",
   "execution_count": null,
   "id": "52bc70e8",
   "metadata": {},
   "outputs": [],
   "source": [
    "t0, t1 = 0.0, 5.0\n",
    "path.solve(state0, t0, t1, \"minute\")"
   ]
  },
  {
   "cell_type": "markdown",
   "id": "28c614a5",
   "metadata": {},
   "source": [
    "### Plotting the results of equilibrium path calculation\n",
    "\n",
    "To load results from the outputfile, we use [loadtxt](https://docs.scipy.org/doc/numpy/reference/generated/numpy.loadtxt.html)\n",
    "function provided by the *numpy* package:"
   ]
  },
  {
   "cell_type": "code",
   "execution_count": null,
   "id": "17014123",
   "metadata": {},
   "outputs": [],
   "source": [
    "filearray = numpy.loadtxt(\"results.txt\", skiprows=1) # load data from the file skipping the one row\n",
    "data = filearray.T  # transpose the matrix with data\n",
    "[time_indx, ca_elem_indx, calcite_indx, ca_species_indx, hco3_indx, ph_indx] = numpy.arange(0, 6) # assign indices of the corresponding data"
   ]
  },
  {
   "cell_type": "markdown",
   "id": "ccdb9b4d",
   "metadata": {},
   "source": [
    "To visually analyze the obtained reaction path, we export\n",
    "[bokeh](https://docs.bokeh.org/en/latest/docs/gallery.html#standalone-examples) python plotting package."
   ]
  },
  {
   "cell_type": "code",
   "execution_count": null,
   "id": "31542a70",
   "metadata": {
    "lines_to_next_cell": 1
   },
   "outputs": [],
   "source": [
    "from bokeh.plotting import figure, show\n",
    "from bokeh.io import output_notebook\n",
    "output_notebook()"
   ]
  },
  {
   "cell_type": "markdown",
   "id": "fae32b08",
   "metadata": {},
   "source": [
    "Below, we define a custom function that would generate figure of certain size (in this case, 600 by 300) with label\n",
    "`time` on the x-axis:"
   ]
  },
  {
   "cell_type": "code",
   "execution_count": null,
   "id": "bd2c1aad",
   "metadata": {
    "lines_to_next_cell": 1
   },
   "outputs": [],
   "source": [
    "def custom_figure(title, y_axis_label):\n",
    "    return figure(plot_width=600, plot_height=300,\n",
    "                  title=title,\n",
    "                  x_axis_label='time',\n",
    "                  y_axis_label=y_axis_label)"
   ]
  },
  {
   "cell_type": "markdown",
   "id": "5d836cde",
   "metadata": {},
   "source": [
    "The plots below depict different chemical properties (x-axis) with respect to the time interval of the kinetic\n",
    "simulation (y-axis). We start from the behavior of the amount of element Ca with respect to time:"
   ]
  },
  {
   "cell_type": "code",
   "execution_count": null,
   "id": "5c8c7809",
   "metadata": {},
   "outputs": [],
   "source": [
    "time = data[time_indx, :]  # fetch time from the data matrix\n",
    "fig1 = custom_figure(title=\"Amount of Ca w.r.t. time\", y_axis_label='Amount of Ca [mmolal]')\n",
    "fig1.line(time, data[ca_elem_indx], line_width=4, color=\"coral\", legend_label=\"Ca\")\n",
    "show(fig1)"
   ]
  },
  {
   "cell_type": "markdown",
   "id": "0da46809",
   "metadata": {},
   "source": [
    "The increase of the amount of Ca element is happening along the dissolution of calcite on the\n",
    "plot below:"
   ]
  },
  {
   "cell_type": "code",
   "execution_count": null,
   "id": "f8d093e0",
   "metadata": {},
   "outputs": [],
   "source": [
    "fig2 = custom_figure(title=\"Mass of Calcite w.r.t. time\", y_axis_label='Mass [g]')\n",
    "fig2.line(time, data[calcite_indx], line_width=4, color=\"blue\", legend_label=\"Calcite\")\n",
    "show(fig2)"
   ]
  },
  {
   "cell_type": "markdown",
   "id": "c0409498",
   "metadata": {},
   "source": [
    "As calcite dissolves, the molallities of species Ca<sup>2+</sup> and HCO3<sup>-</sup> are growing too:"
   ]
  },
  {
   "cell_type": "code",
   "execution_count": null,
   "id": "de5ea885",
   "metadata": {},
   "outputs": [],
   "source": [
    "fig3 = custom_figure(title=\"Species molality w.r.t. time\", y_axis_label='Molality [mmolal]')\n",
    "fig3.line(time, data[ca_species_indx], line_width=4, legend_label=\"Ca++\", color=\"orange\")\n",
    "fig3.line(time, data[hco3_indx], line_width=4, legend_label=\"HCO3-\", color=\"green\")\n",
    "show(fig3)"
   ]
  },
  {
   "cell_type": "markdown",
   "id": "9428c445",
   "metadata": {},
   "source": [
    "Finally, the pH of the overall chemical system is increasing as well:"
   ]
  },
  {
   "cell_type": "code",
   "execution_count": null,
   "id": "82855bcc",
   "metadata": {
    "lines_to_next_cell": 2
   },
   "outputs": [],
   "source": [
    "fig4 = custom_figure(title=\"pH w.r.t. time\", y_axis_label='pH [-]')\n",
    "fig4.line(time, data[ph_indx], line_width=4, color=\"darkviolet\")\n",
    "show(fig4)"
   ]
  }
 ],
 "metadata": {
  "kernelspec": {
   "display_name": "Python 3",
   "language": "python",
   "name": "python3"
  }
 },
 "nbformat": 4,
 "nbformat_minor": 5
}
