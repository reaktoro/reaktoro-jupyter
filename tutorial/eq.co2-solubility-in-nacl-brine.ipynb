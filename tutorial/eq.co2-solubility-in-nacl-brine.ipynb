{
 "cells": [
  {
   "cell_type": "markdown",
   "metadata": {},
   "source": [
    "# Carbon dioxide gas solubility in the NaCl-brine\n",
    "\n",
    "This tutorial demonstrates how to simulate the solubility of CO2 gas in the NaCl-brine and its dependence of\n",
    "salinity of the brine (also called as a salting-out effect).\n",
    "\n",
    "First, we import all the necessary packages for further simulations:"
   ]
  },
  {
   "cell_type": "code",
   "execution_count": null,
   "metadata": {
    "lines_to_next_cell": 1
   },
   "outputs": [],
   "source": [
    "from reaktoro import *\n",
    "import numpy as np\n",
    "import matplotlib.pyplot as plt"
   ]
  },
  {
   "cell_type": "markdown",
   "metadata": {},
   "source": [
    "Function `solubility_co2()` returns the concentration of  CO<sup>2</sup>(g) that was dissolved in the brined:"
   ]
  },
  {
   "cell_type": "code",
   "execution_count": null,
   "metadata": {
    "lines_to_next_cell": 1
   },
   "outputs": [],
   "source": [
    "def solubility_co2(system, T, P, n0CO2g, mNaCl):\n",
    "\n",
    "    # Define equilibrium problem as a mixture of NaCl-brine with given salinity and\n",
    "    # CO2 of a given initial concentration at fixed T and P\n",
    "    problem = EquilibriumProblem(system)\n",
    "    problem.setTemperature(T, \"celsius\")\n",
    "    problem.setPressure(P, \"bar\")\n",
    "    problem.add(\"H2O\", 1.0, \"kg\")\n",
    "    problem.add(\"CO2\", n0CO2g, \"mol\")\n",
    "    problem.add(\"NaCl\", mNaCl, \"mol\")\n",
    "\n",
    "    # Equilibrate chemical problem\n",
    "    state = equilibrate(problem)\n",
    "\n",
    "    # Return the difference of initial amount of the CO2(g) and remaining one after equilibration\n",
    "    return (n0CO2g - state.speciesAmount(\"CO2(g)\"))"
   ]
  },
  {
   "cell_type": "code",
   "execution_count": null,
   "metadata": {},
   "outputs": [],
   "source": [
    "# Define database\n",
    "database = Database(\"supcrt98.xml\")"
   ]
  },
  {
   "cell_type": "code",
   "execution_count": null,
   "metadata": {},
   "outputs": [],
   "source": [
    "# Initialize phases with chemical editor\n",
    "editor = ChemicalEditor(database)\n",
    "editor.addAqueousPhaseWithElements(\"H O C Na Cl\")\n",
    "editor.addGaseousPhase([\"CO2(g)\"])\n",
    "editor.addMineralPhase(\"Halite\")"
   ]
  },
  {
   "cell_type": "code",
   "execution_count": null,
   "metadata": {},
   "outputs": [],
   "source": [
    "# Create chemical system\n",
    "system = ChemicalSystem(editor)"
   ]
  },
  {
   "cell_type": "code",
   "execution_count": null,
   "metadata": {},
   "outputs": [],
   "source": [
    "# Initialize temperature (in celsius)\n",
    "T = np.arange(20.0, 150.0, 5.0)\n",
    "# Initialize pressure (in bar)\n",
    "P = 1.0\n",
    "# Initial amount of CO2(g) (in mol)\n",
    "n0CO2g = 10.0"
   ]
  },
  {
   "cell_type": "code",
   "execution_count": null,
   "metadata": {},
   "outputs": [],
   "source": [
    "# Generate the lists of CO2(g) mols that got dissolved in NaCl-brine of different salinity\n",
    "deltaCO2_nacl1 = [solubility_co2(system, t, P, n0CO2g, mNaCl=1.0) for t in T]\n",
    "deltaCO2_nacl2 = [solubility_co2(system, t, P, n0CO2g, mNaCl=2.0) for t in T]\n",
    "deltaCO2_nacl4 = [solubility_co2(system, t, P, n0CO2g, mNaCl=4.0) for t in T]\n",
    "deltaCO2_nacl6 = [solubility_co2(system, t, P, n0CO2g, mNaCl=6.0) for t in T]"
   ]
  },
  {
   "cell_type": "markdown",
   "metadata": {},
   "source": [
    "Plot solubility of CO2(g) as function of temperature for different salinities of NaCl-brine:"
   ]
  },
  {
   "cell_type": "code",
   "execution_count": null,
   "metadata": {},
   "outputs": [],
   "source": [
    "fig, ax = plt.subplots()\n",
    "ax.plot(T, deltaCO2_nacl1, label=f\"1 NaCl molal\")\n",
    "ax.plot(T, deltaCO2_nacl2, label=f\"2 NaCl molal\")\n",
    "ax.plot(T, deltaCO2_nacl4, label=f\"4 NaCl molal\")\n",
    "ax.plot(T, deltaCO2_nacl6, label=f\"6 NaCl molal\")\n",
    "ax.legend(loc=\"best\")\n",
    "ax.grid(True)\n",
    "ax.set(xlabel='Temperature [°C]')\n",
    "ax.set(ylabel='Solubility [mol/kgw]')\n",
    "ax.set(title='Solubility of CO2 in NaCl brine, P = ' + str(P) + ' bar')\n",
    "plt.savefig('co2-solubility-nacl-h2o-vs-temperature-1bar.png', bbox_inches='tight')"
   ]
  },
  {
   "cell_type": "markdown",
   "metadata": {},
   "source": [
    "We see the illustration of the so-called salting-out effect. It indicates lower solubility of the CO<sup>2</sup>(g)\n",
    "for more saline NaCl-brines. Moreover, we see that solubility of the carbon dioxide decreases with the growth of the\n",
    "temperature.\n",
    "\n",
    "Alternatively, we can study the dependence of the CO<sup>2</sup>(g) solubility on the pressure increase:"
   ]
  },
  {
   "cell_type": "code",
   "execution_count": null,
   "metadata": {},
   "outputs": [],
   "source": [
    "# Initialize pressure range (in bar)\n",
    "P = np.arange(1.0, 300.0, 1.0)\n",
    "# Initialize pressure (in celsius)\n",
    "T = 300.0\n",
    "# Generate the lists of CO2(g) mols that got dissolved in NaCl-brine of different salinity\n",
    "deltaCO2_nacl1 = [solubility_co2(system, T, p, n0CO2g, mNaCl=1.0) for p in P]\n",
    "deltaCO2_nacl2 = [solubility_co2(system, T, p, n0CO2g, mNaCl=2.0) for p in P]\n",
    "deltaCO2_nacl4 = [solubility_co2(system, T, p, n0CO2g, mNaCl=4.0) for p in P]\n",
    "deltaCO2_nacl6 = [solubility_co2(system, T, p, n0CO2g, mNaCl=6.0) for p in P]"
   ]
  },
  {
   "cell_type": "markdown",
   "metadata": {},
   "source": [
    "Plot solubility of CO2(g) as function of pressure for different salinities of NaCl-brine:"
   ]
  },
  {
   "cell_type": "code",
   "execution_count": null,
   "metadata": {},
   "outputs": [],
   "source": [
    "fig, ax = plt.subplots()\n",
    "ax.plot(P, deltaCO2_nacl1, label=f\"1 NaCl molal\")\n",
    "ax.plot(P, deltaCO2_nacl2, label=f\"2 NaCl molal\")\n",
    "ax.plot(P, deltaCO2_nacl4, label=f\"4 NaCl molal\")\n",
    "ax.plot(P, deltaCO2_nacl6, label=f\"6 NaCl molal\")\n",
    "ax.legend(loc=\"best\")\n",
    "ax.grid(True)\n",
    "ax.set(xlabel='Pressure [bar]')\n",
    "ax.set(ylabel='Solubility [mol/kgw]')\n",
    "ax.set(title='Solubility of CO2 in NaCl brine, T = ' + str(T) + ' celsius')\n",
    "plt.savefig('co2-solubility-nacl-h2o-vs-pressure-300celsius.png', bbox_inches='tight')"
   ]
  }
 ],
 "metadata": {},
 "nbformat": 4,
 "nbformat_minor": 4
}
