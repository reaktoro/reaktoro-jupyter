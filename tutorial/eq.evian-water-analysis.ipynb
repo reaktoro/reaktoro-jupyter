{
 "cells": [
  {
   "cell_type": "markdown",
   "id": "2b91731f",
   "metadata": {},
   "source": [
    "# Analysis of the Evian water\n",
    "\n",
    "The tutorial considers the problem dedicated to checking the quality of the Evian water using\n",
    "Reaktoro with custom-defined chemical composition and the PHREEQC backend.\n",
    "\n",
    "![title](../images/evian-chemical-water-composition.png)\n",
    "\n",
    "## Using Reaktoro backend\n",
    "\n",
    "First, we use purely Reaktoro functionality to define the chemical state . We start from setting a chemical system."
   ]
  },
  {
   "cell_type": "code",
   "execution_count": null,
   "id": "2ab23ca2",
   "metadata": {},
   "outputs": [],
   "source": [
    "from reaktoro import *\n",
    "from math import *\n",
    "\n",
    "db = Database(\"supcrt98.xml\")\n",
    "\n",
    "editor = ChemicalEditor(db)\n",
    "\n",
    "editor.addAqueousPhaseWithElements(\"C Ca Cl H K Mg N Na O S Si\")\n",
    "editor.addMineralPhase(\"Calcite\")\n",
    "editor.addMineralPhase(\"Dolomite\")\n",
    "editor.addMineralPhase(\"Quartz\")\n",
    "\n",
    "system = ChemicalSystem(editor)"
   ]
  },
  {
   "cell_type": "markdown",
   "id": "a158c715",
   "metadata": {},
   "source": [
    "To evaluate the saturation indices of the mineral phases later, we define the corresponding reactions:"
   ]
  },
  {
   "cell_type": "code",
   "execution_count": null,
   "id": "f3536309",
   "metadata": {},
   "outputs": [],
   "source": [
    "# Define reaction equations for each phase\n",
    "reaction_equation_calcite = ReactionEquation(\"Calcite + H+ = Ca++ + HCO3-\")\n",
    "reaction_equation_dolomite = ReactionEquation(\"Dolomite + 2*H+ = Ca++ + Mg++ + 2*HCO3-\")\n",
    "reaction_equation_quartz = ReactionEquation(\"Quartz + H2O(l) = H+ + HSiO3-\")\n",
    "\n",
    "# Define chemical reactions based on the reaction equation and chemical system\n",
    "reaction_calcite = Reaction(reaction_equation_calcite, system)\n",
    "reaction_dolomite = Reaction(reaction_equation_dolomite, system)\n",
    "reaction_quartz = Reaction(reaction_equation_quartz, system)"
   ]
  },
  {
   "cell_type": "markdown",
   "id": "0d4b652e",
   "metadata": {},
   "source": [
    "To define the equilibrium problem with fixed pH, we use\n",
    "[EquilibriumInverseProblem](https://reaktoro.org/cpp/classReaktoro_1_1EquilibriumInverseProblem.html) class."
   ]
  },
  {
   "cell_type": "code",
   "execution_count": null,
   "id": "ed434e8c",
   "metadata": {},
   "outputs": [],
   "source": [
    "problem = EquilibriumInverseProblem(system)\n",
    "\n",
    "problem.setTemperature(25, \"celsius\")\n",
    "problem.setPressure(1.01325, \"bar\") # 1 atm\n",
    "problem.add(\"H2O\", 1.0, \"kg\")"
   ]
  },
  {
   "cell_type": "markdown",
   "id": "dd3e9afb",
   "metadata": {},
   "source": [
    "Since the concentration of the species in Evian water (see picture above) are defined in milligrams per liter (mg/L),\n",
    "we need to convert these values to moles using species molar masses. The latter can be obtained using function\n",
    "`system.species(\"H+\").molarMass()`. Also, to convert `mg` into `kg`, we multiply the values by 1e-6."
   ]
  },
  {
   "cell_type": "code",
   "execution_count": null,
   "id": "6bef10e3",
   "metadata": {},
   "outputs": [],
   "source": [
    "# Calcium, Ca++\n",
    "problem.add(\"Ca++\", 80 * 1e-6 / system.species(\"Ca++\").molarMass(), \"mol\")  # 80 * 1e-6 kg / (MW(Ca++) kg / mol)\n",
    "# Chloride, Cl-\n",
    "problem.add(\"Cl-\", 6.8 * 1e-6 / system.species(\"Cl-\").molarMass(), \"mol\")  # 6.8 * 1e-6 kg / (MW(Cl-) kg / mol)\n",
    "# Bicarbonate, HCO3-\n",
    "problem.add(\"HCO3-\", 350 * 1e-6 / system.species(\"HCO3-\").molarMass(), \"mol\")  # 350 * 1e-6 kg / (MW(HCO3-) kg / mol)\n",
    "# Magnesium, Mg++\n",
    "problem.add(\"Mg++\", 26 * 1e-6 / system.species(\"Mg++\").molarMass(), \"mol\")   # 26 * 1e-6 kg / (MW(Mg++) kg / mol)\n",
    "# Nitrate, NO3-\n",
    "problem.add(\"NO3-\", 3.7 * 1e-6 / system.species(\"NO3-\").molarMass(), \"mol\")  # 3.7 * 1e-6 kg / (MW(NO3-) kg / mol)\n",
    "# Potassium, K\n",
    "problem.add(\"K+\", 1 * 1e-6 / system.species(\"K+\").molarMass(), \"mol\")  # 1 * 1e-6 kg / (MW(K+) kg / mol)\n",
    "# Sodium, Na+\n",
    "problem.add(\"Na+\", 6.5 * 1e-6 / system.species(\"Na+\").molarMass(), \"mol\")  # 6.5 * 1e-6 kg / (MW(Na+) kg / mol)\n",
    "# Sulfates, SO4\n",
    "problem.add(\"SO4--\", 12.6 * 1e-6 / system.species(\"S2O4--\").molarMass(), \"mol\")  # 12.6 * 1e-6 kg / (MW(SO4--) kg / mol)"
   ]
  },
  {
   "cell_type": "markdown",
   "id": "a35ec628",
   "metadata": {},
   "source": [
    "We also add silica amount manually, using molar weight 28 g/mol:"
   ]
  },
  {
   "cell_type": "code",
   "execution_count": null,
   "id": "4b55b95f",
   "metadata": {},
   "outputs": [],
   "source": [
    "# Silica, Si\n",
    "problem.add(\"Si\", 15 * 1e-3 / 28.0855, \"mol\")  # 15 * 1e-3 g / (28.0855 g) * mol, where Molar Weight of Si = 28.0855"
   ]
  },
  {
   "cell_type": "markdown",
   "id": "3f1d674d",
   "metadata": {},
   "source": [
    "Initial calcite, dolomite, and quartz phases are set to zero and pH is set to 7.2 according to the picture above."
   ]
  },
  {
   "cell_type": "code",
   "execution_count": null,
   "id": "b0a6dff1",
   "metadata": {},
   "outputs": [],
   "source": [
    "problem.add(\"Calcite\", 0.0, \"mol\")\n",
    "problem.add(\"Dolomite\", 0.0, \"mol\")\n",
    "problem.add(\"Quartz\", 0.0, \"mol\")\n",
    "problem.pH(7.2, \"HCl\", \"NaOH\")"
   ]
  },
  {
   "cell_type": "markdown",
   "id": "d6e952bf",
   "metadata": {},
   "source": [
    "Finally, we equilibrate the above-defined problem."
   ]
  },
  {
   "cell_type": "code",
   "execution_count": null,
   "id": "9900b45c",
   "metadata": {},
   "outputs": [],
   "source": [
    "state = equilibrate(problem)\n",
    "print(state)"
   ]
  },
  {
   "cell_type": "markdown",
   "id": "69839a3e",
   "metadata": {},
   "source": [
    "In order to obtain saturation indices of the carbonates and quartz, we need to access chemical properties of the\n",
    "calculated chemical state. The saturation index is defined as a log10 of the ratio of equilibrium constant and\n",
    "reaction quotient. It is 0 for minerals that are precipitated (i.e., in equilibrium with the solution), SI > 0 for\n",
    "supersaturated minerals, and SI < 0 for undersaturated minerals."
   ]
  },
  {
   "cell_type": "code",
   "execution_count": null,
   "id": "7e24e8de",
   "metadata": {},
   "outputs": [],
   "source": [
    "# Calculate calcite's saturation index\n",
    "\n",
    "# Fetch chemical properties\n",
    "props = state.properties()\n",
    "# Calculate equilibrium constant\n",
    "lnK_calcite = reaction_calcite.lnEquilibriumConstant(props)\n",
    "# Calculate reaction quotient\n",
    "lnQ_calcite = reaction_calcite.lnReactionQuotient(props)\n",
    "# Calculate saturation ratio\n",
    "lnSR_calcite = lnQ_calcite.val - lnK_calcite.val\n",
    "SI_calcite = lnSR_calcite / log(10)\n",
    "\n",
    "# Calculate dolomite's saturation index\n",
    "lnK_dolomite = reaction_dolomite.lnEquilibriumConstant(props)\n",
    "lnQ_dolomite = reaction_dolomite.lnReactionQuotient(props)\n",
    "lnSR_dolomite = lnQ_dolomite.val - lnK_dolomite.val\n",
    "SI_dolomite = lnSR_dolomite / log(10)\n",
    "\n",
    "# Calculate quartz's saturation index\n",
    "lnK_quartz = reaction_quartz.lnEquilibriumConstant(props)\n",
    "lnQ_quartz = reaction_quartz.lnReactionQuotient(props)\n",
    "lnSR_quartz = lnQ_quartz.val - lnK_quartz.val\n",
    "SI_quartz = lnSR_quartz / log(10)\n",
    "\n",
    "print(\"Saturation Index (Calcite) = \", SI_calcite)\n",
    "print(\"Saturation Index (Dolomite) = \", SI_dolomite)\n",
    "print(\"Saturation Index (Quartz) = \", SI_quartz)"
   ]
  },
  {
   "cell_type": "markdown",
   "id": "3cbbec98",
   "metadata": {},
   "source": [
    "Based on the obtained results, we see that the water is saturated with dolomite and quartz. Whereas calcite is\n",
    "undersaturated. Similarly, we can analyze the stability indices of the calcite,\n",
    "dolomite, and quartz phases. It is 0 if the phase is stable, bigger than 0 if the phase is supersaturated, and less\n",
    "than 0 if the phase is undersaturated. Stability indices confirm the results we have obtained for saturation indices."
   ]
  },
  {
   "cell_type": "code",
   "execution_count": null,
   "id": "076a3a06",
   "metadata": {},
   "outputs": [],
   "source": [
    "# Fetch the list of stability indices\n",
    "phase_stability_indices = state.phaseStabilityIndices()\n",
    "\n",
    "# Get the index of calcite, dolomite, and quartz\n",
    "calcite_phase_index = system.indexPhase(\"Calcite\")\n",
    "dolomite_phase_index = system.indexPhase(\"Dolomite\")\n",
    "quartz_phase_index = system.indexPhase(\"Quartz\")\n",
    "\n",
    "# Output\n",
    "print(\"Stability Index (Calcite)  = \", phase_stability_indices[calcite_phase_index])\n",
    "print(\"Stability Index (Dolomite) = \", phase_stability_indices[dolomite_phase_index])\n",
    "print(\"Stability Index (Quartz)   = \", phase_stability_indices[quartz_phase_index])"
   ]
  },
  {
   "cell_type": "markdown",
   "id": "65fed4e3",
   "metadata": {},
   "source": [
    "## Using PHREEQC backend\n",
    "\n",
    "Similarly, PHREEQC simulations can be executed using the PHREEQC backend. For this, we first define the problem using\n",
    "the following script:"
   ]
  },
  {
   "cell_type": "code",
   "execution_count": null,
   "id": "f6d67efb",
   "metadata": {},
   "outputs": [],
   "source": [
    "ex1 = r'''(\n",
    "SOLUTION 1\n",
    "    temp      25\n",
    "    pH        7.2\n",
    "    pe        4\n",
    "    redox     pe\n",
    "    units     mg/kgw\n",
    "    density   1\n",
    "    C(4)      350\n",
    "    Ca        80\n",
    "    Cl        6.8\n",
    "    K         1\n",
    "    Mg        26\n",
    "    N(5)      3.7\n",
    "    Na        6.5\n",
    "    S(6)      12.6\n",
    "    Si        15\n",
    "    -water    1 # kg\n",
    "EQUILIBRIUM_PHASES 1\n",
    "    Dolomite 0 0\n",
    "    Calcite 0 0\n",
    "    Quartz 0 0\n",
    "end\n",
    ")'''"
   ]
  },
  {
   "cell_type": "markdown",
   "id": "aa16494e",
   "metadata": {},
   "source": [
    "Next, we initialize a Phreeqc instance with the official phreeqc.dat database file:"
   ]
  },
  {
   "cell_type": "code",
   "execution_count": null,
   "id": "6956ff64",
   "metadata": {},
   "outputs": [],
   "source": [
    "phreeqc = Phreeqc('../databases/phreeqc/phreeqc.dat')"
   ]
  },
  {
   "cell_type": "markdown",
   "id": "59df8421",
   "metadata": {},
   "source": [
    "To define a geochemical problem, we execute a PHREEQC script `ex1`. Here, `ex1` could also be a string containing\n",
    "the path to a script file. The method `execute()` automatically identifies if the content is embedded in the string or\n",
    "if the string is a path to a script file."
   ]
  },
  {
   "cell_type": "code",
   "execution_count": null,
   "id": "884577bf",
   "metadata": {},
   "outputs": [],
   "source": [
    "phreeqc.execute(ex1)"
   ]
  },
  {
   "cell_type": "markdown",
   "id": "de34d7cc",
   "metadata": {},
   "source": [
    "Next, we initialize a [ChemicalSystem](https://reaktoro.org/cpp/classReaktoro_1_1ChemicalSystem.html) instance using\n",
    "the current state of the Phreeqc instance `phreeqc`. It will allow using both PHREEQC thermodynamic data and\n",
    "activity models in the subsequent equilibrium calculations using Reaktoro's algorithms."
   ]
  },
  {
   "cell_type": "code",
   "execution_count": null,
   "id": "e6a9f494",
   "metadata": {},
   "outputs": [],
   "source": [
    "system = ChemicalSystem(phreeqc)"
   ]
  },
  {
   "cell_type": "markdown",
   "id": "29dc3d5a",
   "metadata": {},
   "source": [
    "Finally, to initialize a [ChemicalState](https://reaktoro.org/cpp/classReaktoro_1_1ChemicalState.html) instance,\n",
    "using the current state of `phreeqc`."
   ]
  },
  {
   "cell_type": "code",
   "execution_count": null,
   "id": "7db1adf0",
   "metadata": {},
   "outputs": [],
   "source": [
    "state = phreeqc.state(system)"
   ]
  },
  {
   "cell_type": "markdown",
   "id": "c95922d0",
   "metadata": {},
   "source": [
    "The final equilibrium state calculated by PHREEQC is output into the file `state-water-analysis-with-phreeqc.txt` and\n",
    "printed out to the console:"
   ]
  },
  {
   "cell_type": "code",
   "execution_count": null,
   "id": "0cfc3d0c",
   "metadata": {},
   "outputs": [],
   "source": [
    "print(state)"
   ]
  }
 ],
 "metadata": {},
 "nbformat": 4,
 "nbformat_minor": 5
}
