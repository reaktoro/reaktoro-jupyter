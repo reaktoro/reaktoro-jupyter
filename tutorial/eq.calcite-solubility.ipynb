{
 "cells": [
  {
   "cell_type": "markdown",
   "id": "f30a4e37",
   "metadata": {},
   "source": [
    "# Calcite solubility in water and CO<sub>2</sub>-saturated rainwater\n",
    "\n",
    "In this tutorial, we investigate the dependence of calcite solubility in water (closed system) and carbon-dioxide\n",
    "saturated rainwater (open system) on temperature and pressure change.\n",
    "\n",
    "We begin by importing necessary packages:"
   ]
  },
  {
   "cell_type": "code",
   "execution_count": null,
   "id": "b4a08e6b",
   "metadata": {
    "lines_to_next_cell": 1
   },
   "outputs": [],
   "source": [
    "from reaktoro import *\n",
    "import numpy as np\n",
    "import matplotlib.pyplot as plt"
   ]
  },
  {
   "cell_type": "markdown",
   "id": "24aa29ed",
   "metadata": {},
   "source": [
    "Function below defines the chemical problem corresponding to the pure water (also referred as a closed system):"
   ]
  },
  {
   "cell_type": "code",
   "execution_count": null,
   "id": "49f49bf8",
   "metadata": {
    "lines_to_next_cell": 1
   },
   "outputs": [],
   "source": [
    "def water_problem(system, T, P):\n",
    "\n",
    "    problem = EquilibriumProblem(system)\n",
    "    problem.setTemperature(T, \"celsius\")\n",
    "    problem.setPressure(P, \"bar\")\n",
    "    problem.add(\"H2O\", 1.0, \"kg\")\n",
    "\n",
    "    return problem"
   ]
  },
  {
   "cell_type": "markdown",
   "id": "0ce2367d",
   "metadata": {},
   "source": [
    "Function `rainwater_problem()` defines the chemical problem corresponding to rainwater saturated with carbon-dioxide:"
   ]
  },
  {
   "cell_type": "code",
   "execution_count": null,
   "id": "61012d24",
   "metadata": {
    "lines_to_next_cell": 1
   },
   "outputs": [],
   "source": [
    "def rainwater_problem(system, T, P):\n",
    "\n",
    "    problem = EquilibriumProblem(system)\n",
    "    problem.setTemperature(T, \"celsius\")\n",
    "    problem.setPressure(P, \"bar\")\n",
    "    # Rainwater composition\n",
    "    problem.add(\"H2O\", 1.0, \"kg\")\n",
    "    problem.add(\"Na\", 2.05, \"mg\") # Sodium, 2.05 ppm = 2.05 mg/L ~ 2.05 mg/kgw\n",
    "    problem.add(\"K\", 0.35, \"mg\") # Potassium\n",
    "    problem.add(\"Ca\", 1.42, \"mg\") # Calcium\n",
    "    problem.add(\"Mg\", 0.39, \"mg\") # Magnesium\n",
    "    problem.add(\"Cl\", 3.47, \"mg\") # Chloride\n",
    "    problem.add(\"SO4\", 2.19, \"mg\")\n",
    "    problem.add(\"NO3\", 0.27, \"mg\")\n",
    "    problem.add(\"NH4\", 0.41, \"mg\")\n",
    "    #  Saturated with carbon dioxide\n",
    "    problem.add(\"CO2\", 0.36, \"mol\")  # amount of carbon dioxide to saturate water\n",
    "\n",
    "    return problem"
   ]
  },
  {
   "cell_type": "markdown",
   "id": "7275e77d",
   "metadata": {},
   "source": [
    "Finally, function `water_co2_problem` defines the chemical problem corresponding to an open system, i.e.,\n",
    "the carbon-dioxide saturated water with the partial pressure of the atmosphere pCO2 = 3.408. To convert the amount\n",
    "of CO<sub>2</sub> gas from millimeters of mercury to parts per million (ppm) we use the instruction on the\n",
    "[following website](https://sciencing.com/calculate-ppm-vapor-pressure-6457861.html). In particular, pCO2 = 3.408\n",
    "corresponds to (3.408 / 760) * 106 = 0.475 ppm, which converts to mol/L by formula 0.475 / 44.01 = 0.010793 mol/L,\n",
    "where 44.01 g/mol is the CO2 molar amount."
   ]
  },
  {
   "cell_type": "code",
   "execution_count": null,
   "id": "377cc399",
   "metadata": {
    "lines_to_next_cell": 1
   },
   "outputs": [],
   "source": [
    "def water_co2_problem(system, T, P):\n",
    "\n",
    "    problem = EquilibriumProblem(system)\n",
    "    problem.setTemperature(T, \"celsius\")\n",
    "    problem.setPressure(P, \"bar\")\n",
    "    problem.add(\"H2O\", 1.0, \"kg\")\n",
    "    problem.add(\"CO2\", 0.010793, \"mol\")\n",
    "\n",
    "    return problem"
   ]
  },
  {
   "cell_type": "markdown",
   "id": "1157cba9",
   "metadata": {},
   "source": [
    "Function that numerically models chemical equilibrium of 10 mol calcite with a given solute (defined by the input\n",
    "instance `problem`):"
   ]
  },
  {
   "cell_type": "code",
   "execution_count": null,
   "id": "52ac7673",
   "metadata": {
    "lines_to_next_cell": 1
   },
   "outputs": [],
   "source": [
    "def solubility_of_calcite(problem, system):\n",
    "\n",
    "    n0Calcite = 10.0\n",
    "\n",
    "    # Define solver to calculate equilibrium and the initial chemical state\n",
    "    solver = EquilibriumSolver(system)\n",
    "    state = ChemicalState(system)\n",
    "\n",
    "    # Equilibrate the solution given by the chemical problem `problem`\n",
    "    solver.solve(state, problem)\n",
    "\n",
    "    # Add `n0Calcite` amount of calcite\n",
    "    state.setSpeciesAmount(\"Calcite\", n0Calcite, \"mol\")\n",
    "\n",
    "    # Equilibrate solution with added calcite\n",
    "    solver.solve(state)\n",
    "\n",
    "    # Calculate ph of the current state\n",
    "    evaluate_pH = ChemicalProperty.pH(system)\n",
    "    print(f\"P = {problem.pressure() * 1e-5:.1f} bar, \"\n",
    "          f\"T = {problem.temperature() - 273.15} C: \"\n",
    "          f\"ph = {evaluate_pH(state.properties()).val:.2f}\")\n",
    "\n",
    "    # Fetch the amount of final calcite in the equilibrium state\n",
    "    nCalcite = state.speciesAmount(\"Calcite\")\n",
    "\n",
    "    # Return the difference between the initially added and remaining calcite\n",
    "    return n0Calcite - nCalcite"
   ]
  },
  {
   "cell_type": "markdown",
   "id": "62567377",
   "metadata": {},
   "source": [
    "Initialize chemical system with aqueous, gaseous, and calcite phases:"
   ]
  },
  {
   "cell_type": "code",
   "execution_count": null,
   "id": "27b2ed99",
   "metadata": {},
   "outputs": [],
   "source": [
    "db = Database(\"supcrt98.xml\")\n",
    "editor = ChemicalEditor(db)\n",
    "editor.addAqueousPhaseWithElements(\"H O C Ca Mg K Cl Na S N\")\n",
    "editor.addGaseousPhase([\"CO2(g)\"])\n",
    "editor.addMineralPhase(\"Calcite\")\n",
    "system = ChemicalSystem(editor)"
   ]
  },
  {
   "cell_type": "markdown",
   "id": "e31b7ff4",
   "metadata": {},
   "source": [
    "Initialize the array of temperatures from 20 &deg;C till 90 &deg;C:"
   ]
  },
  {
   "cell_type": "code",
   "execution_count": null,
   "id": "0e89243b",
   "metadata": {},
   "outputs": [],
   "source": [
    "temperatures = np.arange(20.0, 91.0, 5.0)"
   ]
  },
  {
   "cell_type": "markdown",
   "id": "df32a96c",
   "metadata": {},
   "source": [
    "Calculate solubilities of calcite in water and CO<sub>2</sub>-saturated rainwater for pressure P = 1 bar\n",
    "and save it in txt-file:"
   ]
  },
  {
   "cell_type": "code",
   "execution_count": null,
   "id": "d241be6c",
   "metadata": {},
   "outputs": [],
   "source": [
    "P = 1.0 # in bar\n",
    "print(f\"Solubility in water (closed system):\")\n",
    "delta_calcite_water_P1 = [solubility_of_calcite(water_problem(system, T, P), system) for T in temperatures]\n",
    "print(f\"Solubility in rainwater:\")\n",
    "delta_calcite_rainwater_P1 = [solubility_of_calcite(rainwater_problem(system, T, P), system) for T in temperatures]\n",
    "np.savetxt('reaktoro-water-delta-calcite-p-' + str(P) + '.txt', delta_calcite_water_P1)\n",
    "np.savetxt('reaktoro-rainwater-delta-calcite-p-' + str(P) + '.txt', delta_calcite_rainwater_P1)"
   ]
  },
  {
   "cell_type": "markdown",
   "id": "d40de3a5",
   "metadata": {},
   "source": [
    "Check if the obtained value for 25 &deg;C (second element of the list `delta_calcite_water_P1`) corresponds to the\n",
    "values of Wikipedia, i.e., the solubility in water equals to 0.013 g/L (25 &deg;C). Below, we use 100.0869 g/mol as\n",
    "the calcite molar mass:"
   ]
  },
  {
   "cell_type": "code",
   "execution_count": null,
   "id": "5e7637d8",
   "metadata": {},
   "outputs": [],
   "source": [
    "print(f\"Solubility of calcite in water (closed system) equals to {delta_calcite_water_P1[1]:.6f} mol/kgw = ... = \"\n",
    "      f\"{delta_calcite_water_P1[1] * 0.1000869 * 1e3:.6f} g/L\")"
   ]
  },
  {
   "cell_type": "markdown",
   "id": "8c06f7b5",
   "metadata": {},
   "source": [
    "Thus, in the closed system (with the pure water), approximately 0.124 mmol of calcite dissolve.\n",
    "The amount of calcite that dissolves is independent of the initial value (provided that it exceeds the solubility\n",
    "limit)."
   ]
  },
  {
   "cell_type": "markdown",
   "id": "16462eb9",
   "metadata": {},
   "source": [
    "Calculate solubilities of calcite in water and CO<sub>2</sub>-saturated rainwater for pressure P = 100 bar and save it in\n",
    "txt-file:"
   ]
  },
  {
   "cell_type": "code",
   "execution_count": null,
   "id": "aaffcd2b",
   "metadata": {},
   "outputs": [],
   "source": [
    "P = 100.0 # in bar\n",
    "print(f\"Solubility in water (closed system):\")\n",
    "delta_calcite_water_P100 = [solubility_of_calcite(water_problem(system, T, P), system) for T in temperatures]\n",
    "print(f\"Solubility in rainwater (open system):\")\n",
    "delta_calcite_rainwater_P100 = [solubility_of_calcite(rainwater_problem(system, T, P), system) for T in temperatures]\n",
    "np.savetxt('reaktoro-water-delta-calcite-p-' + str(P) + '.txt', delta_calcite_water_P100)\n",
    "np.savetxt('reaktoro-rainwater-delta-calcite-p-' + str(P) + '.txt', delta_calcite_rainwater_P100)"
   ]
  },
  {
   "cell_type": "markdown",
   "id": "155b7f00",
   "metadata": {},
   "source": [
    "Plot solubilities of calcite in water and CO<sub>2</sub>-saturated rainwater for pressure P = 1:"
   ]
  },
  {
   "cell_type": "code",
   "execution_count": null,
   "id": "a20f8d89",
   "metadata": {},
   "outputs": [],
   "source": [
    "fig, ax = plt.subplots()\n",
    "ax.plot(temperatures, delta_calcite_water_P1, label=f\"Calcite in water\", color='C1')\n",
    "ax.plot(temperatures, delta_calcite_rainwater_P1, label=f\"Calcite in rainwater\", color='C3')\n",
    "ax.legend(loc=\"upper right\")\n",
    "ax.set(xlabel=r'Temperature [$^\\circ$C]',\n",
    "       ylabel='Solubility [mol/kgw]',\n",
    "       title='Comparison of calcite solubility')\n",
    "ax.grid()\n",
    "fig.savefig('calcite-solubility-P-1bar.png')"
   ]
  },
  {
   "cell_type": "markdown",
   "id": "b8c6bc94",
   "metadata": {},
   "source": [
    "The plot illustrates that calcium carbonate has very low solubility in pure water, but in rainwater saturated with\n",
    "carbon dioxide, its solubility increases due to the formation of more soluble calcium bicarbonate. Calcium carbonate\n",
    "is unusual in that its solubility increases as the temperature of the rainwater decreases.\n",
    "\n",
    "Let us now plot solubilities on the different scales and for different pressure:"
   ]
  },
  {
   "cell_type": "code",
   "execution_count": null,
   "id": "1b56ca1f",
   "metadata": {},
   "outputs": [],
   "source": [
    "fig, (ax1, ax2) = plt.subplots(2, 1)\n",
    "\n",
    "ax1.plot(temperatures, delta_calcite_water_P1, label=\"P = 1\", color='C1')\n",
    "ax1.plot(temperatures, delta_calcite_water_P100, label=\"P = 100\", color='C2')\n",
    "ax1.legend(loc=\"best\")\n",
    "ax1.set_title('Calcite in water')\n",
    "ax1.grid()\n",
    "ax1.set_ylabel('Solubility [mol/kgw]')\n",
    "\n",
    "ax2.plot(temperatures, delta_calcite_rainwater_P1, label=f\"P = 1\", color='C3')\n",
    "ax2.plot(temperatures, delta_calcite_rainwater_P100, label=f\"P = 100\", color='C4')\n",
    "ax2.set_title('Calcite in rainwater')\n",
    "ax2.legend(loc=\"best\")\n",
    "ax2.grid()\n",
    "ax2.set_ylabel('Solubility [mol/kgw]')\n",
    "ax2.set_xlabel(r'Temperature [$^\\circ$C]')\n",
    "\n",
    "fig.tight_layout()\n",
    "fig.savefig('calcite-solubility.png', bbox_inches='tight')"
   ]
  },
  {
   "cell_type": "markdown",
   "id": "1c6be902",
   "metadata": {},
   "source": [
    "We see that increasing pressure also increases the solubility of calcium carbonate."
   ]
  },
  {
   "cell_type": "markdown",
   "id": "95c0475f",
   "metadata": {},
   "source": [
    "Finally, the solubility of calcite in the open system is simulated using the function `water_co2_problem()`,\n",
    "representing pure water and CO<sub>2</sub>. The pressure corresponding to the partial pressure of the atmosphere\n",
    "pCO2 = 3.408 is equal to 39 = $\\mathsf{10^{-3.408}}$ Pa."
   ]
  },
  {
   "cell_type": "code",
   "execution_count": null,
   "id": "bb8ae17e",
   "metadata": {},
   "outputs": [],
   "source": [
    "P = 39 * 1e-5 # in bar\n",
    "print(f\"Solubility in water and CO2 (open system, P = 39 Pascal):\")\n",
    "delta_calcite_water_co2_P1 = [solubility_of_calcite(water_co2_problem(system, T, P), system) for T in temperatures]\n",
    "print(f\"Solubility of calcite in open system equals to {delta_calcite_water_co2_P1[1]:.6f} mol/kgw = ... = \"\n",
    "   f\"{delta_calcite_water_co2_P1[1] * 0.1000869 * 1e3:.6f} g/L\")"
   ]
  },
  {
   "cell_type": "markdown",
   "id": "046d506b",
   "metadata": {},
   "source": [
    "We see that the solubility of calcite in the open system is about four times higher than in the closed system (\n",
    "0.000124 mol/kgw or 0.012455 g/L)."
   ]
  }
 ],
 "metadata": {},
 "nbformat": 4,
 "nbformat_minor": 5
}
