{
 "cells": [
  {
   "cell_type": "markdown",
   "metadata": {},
   "source": [
    "# Dissolution of carbonate minerals in a CO<sub>2</sub>-saturated brine\n",
    "\n",
    "In this tutorial, we demonstrate how Reaktoro can be used to kinetically model the dissolution of carbonate\n",
    "minerals (calcite, magnesite, and dolomite) in a CO<sub>2</sub>-saturated brine.\n",
    "\n",
    "### Defining the chemical system\n",
    "\n",
    "We start with importing the **reaktoro** Python package to enable us to use all its library components (classes,\n",
    "methods, constants)."
   ]
  },
  {
   "cell_type": "code",
   "execution_count": 1,
   "metadata": {},
   "outputs": [],
   "source": [
    "from reaktoro import *"
   ]
  },
  {
   "cell_type": "markdown",
   "metadata": {},
   "source": [
    "In this simulation, we consider an *aqueous phase* (to model the brine solution), a *gaseous phase* (to model the\n",
    "CO<sub>2</sub>-rich phase with water vapor), and four pure *mineral phases*: halite, calcite, magnesite,\n",
    "and dolomite. These are the phases that will either exist initially during the simulation, or that could\n",
    "potentially appear later as the calculations proceed.\n",
    "\n",
    "All potential phases that could appear in a reactive process should ideally be considered when defining the\n",
    "chemical system. If one or more of these phases are ignored, then the equilibrium and kinetics calculations cannot\n",
    "identify if they should be present or not with positive amounts. Unrealistic results may occur, such as,\n",
    "for example, an aqueous phase containing more CO<sub>2</sub> dissolved than it could, because a gaseous phase,\n",
    "which should contain the excess of CO<sub>2</sub>, was not considered in the chemical system.\n",
    "\n",
    "The code below uses class [ChemicalEditor](https://reaktoro.org/cpp/classReaktoro_1_1ChemicalEditor.html) to define\n",
    "our chemical system with the phases of interest and their species:"
   ]
  },
  {
   "cell_type": "code",
   "execution_count": 2,
   "metadata": {},
   "outputs": [
    {
     "data": {
      "text/plain": [
       "<reaktoro.PyReaktoro.MineralPhase at 0x7f5f85a7e2f0>"
      ]
     },
     "execution_count": 2,
     "metadata": {},
     "output_type": "execute_result"
    }
   ],
   "source": [
    "editor = ChemicalEditor()\n",
    "editor.addAqueousPhaseWithElementsOf(\"H2O NaCl CaCO3 MgCO3\")\n",
    "editor.addGaseousPhase([\"H2O(g)\", \"CO2(g)\"])\n",
    "editor.addMineralPhase(\"Calcite\")\n",
    "editor.addMineralPhase(\"Magnesite\")\n",
    "editor.addMineralPhase(\"Dolomite\")\n",
    "editor.addMineralPhase(\"Halite\")"
   ]
  },
  {
   "cell_type": "markdown",
   "metadata": {},
   "source": [
    "The aqueous phase is defined by considering all aqueous species in the database that could form once the substances\n",
    "H<sub>2</sub>O, NaCl, CaCO<sub>3</sub>, and MgCO<sub>3</sub> are mixed. The gaseous phase is defined\n",
    "so that only the gaseous species H<sub>2</sub>O(g) and CO<sub>2</sub>(g) are considered. There are four pure\n",
    "mineral phases: calcite (CaCO<sub>3</sub>), magnesite (MgCO<sub>3</sub>), dolomite (CaMg(CO<sub>3</sub>)<sub>2</sub>),\n",
    "and halite (NaCl).\n",
    "\n",
    "### Defining the kinetically-controlled reactions\n",
    "\n",
    "A *partial equilibrium assumption* is considered in this simulation. This simplifies the problem by assuming that\n",
    "those species that react at much faster rates do so *continually in chemical equilibrium*. They are referred to as\n",
    "*equilibrium species*. The remaining species (those reacting at relatively slower rates) are referred to as\n",
    "*kinetic species*.\n",
    "\n",
    "Because aqueous and gaseous species, as well as halite, react at relatively fast rates, they are reasonable\n",
    "candidates in this problem for being equilibrium species. The kinetic species are thus the carbonate minerals:\n",
    "calcite, magnesite, and dolomite.\n",
    "\n",
    "With this partial equilibrium assumption, there is no need to specify kinetic rate laws for the fast-reacting\n",
    "equilibrium species. For these species, chemical equilibrium calculations are performed to update their amounts as the\n",
    "amounts of each kinetic species change over time (i.e., the equilibrium species react instantaneously to a new\n",
    "state of equilibrium as the kinetic species react and perturb the current partial equilibrium state).\n",
    "\n",
    "Thus, we only need to define kinetic rates for the relatively slow-reacting carbonate minerals (our kinetic species\n",
    "in this simulation), which is shown below"
   ]
  },
  {
   "cell_type": "code",
   "execution_count": 3,
   "metadata": {},
   "outputs": [
    {
     "data": {
      "text/plain": [
       "<reaktoro.PyReaktoro.MineralReaction at 0x7f5f85a8db30>"
      ]
     },
     "execution_count": 3,
     "metadata": {},
     "output_type": "execute_result"
    }
   ],
   "source": [
    "editor.addMineralReaction(\"Calcite\") \\\n",
    "    .setEquation(\"Calcite = Ca++ + CO3--\") \\\n",
    "    .addMechanism(\"logk = -5.81 mol/(m2*s); Ea = 23.5 kJ/mol\") \\\n",
    "    .addMechanism(\"logk = -0.30 mol/(m2*s); Ea = 14.4 kJ/mol; a[H+] = 1.0\") \\\n",
    "    .setSpecificSurfaceArea(10, \"cm2/g\")\n",
    "\n",
    "editor.addMineralReaction(\"Magnesite\") \\\n",
    "    .setEquation(\"Magnesite = Mg++ + CO3--\") \\\n",
    "    .addMechanism(\"logk = -9.34 mol/(m2*s); Ea = 23.5 kJ/mol\") \\\n",
    "    .addMechanism(\"logk = -6.38 mol/(m2*s); Ea = 14.4 kJ/mol; a[H+] = 1.0\") \\\n",
    "    .setSpecificSurfaceArea(10, \"cm2/g\")\n",
    "\n",
    "editor.addMineralReaction(\"Dolomite\") \\\n",
    "    .setEquation(\"Dolomite = Ca++ + Mg++ + 2*CO3--\") \\\n",
    "    .addMechanism(\"logk = -7.53 mol/(m2*s); Ea = 52.2 kJ/mol\") \\\n",
    "    .addMechanism(\"logk = -3.19 mol/(m2*s); Ea = 36.1 kJ/mol; a[H+] = 0.5\") \\\n",
    "    .setSpecificSurfaceArea(10, \"cm2/g\")"
   ]
  },
  {
   "cell_type": "markdown",
   "metadata": {},
   "source": [
    "We set the equation of each mineral reaction using method\n",
    "[MineralReaction::setEquation](https://reaktoro.org/cpp/classReaktoro_1_1MineralReaction.html#a6edcfede18eff82f74a7bd8a56f1bea8).\n",
    "\n",
    "It follows by prescribtion of neutral and acidic mechanisms for each mineral reaction using the method\n",
    "[MineralReaction::addMechanism](https://reaktoro.org/cpp/classReaktoro_1_1MineralReaction.html#a1bdeff51e51f42e4635208241cd54027)\n",
    "In particular, we set values for `logk`, the kinetic rate constant of the reaction in log scale, and `Ea`,\n",
    "the Arrhenius activation energy. The units of both parameters must be provided as shown in the example,\n",
    "and other compatible units are allowed.\n",
    "\n",
    "Finally, we define the specific surface area of the mineral using the method\n",
    "[MineralReaction::setSpecificSurfaceArea](https://reaktoro.org/cpp/classReaktoro_1_1MineralReaction.html#a9ea2feb68af0beddc856d6a60b863181).\n",
    "Any units compatible to m<sup>2</sup>/kg or m<sup>2</sup>/m<sup>3</sup> are allowed (e.g., cm<sup>2</sup>/g,\n",
    "mm<sup>2</sup>/mm<sup>3</sup>).\n",
    "\n",
    "### Creating the chemical and reaction systems\n",
    "\n",
    "Create instances of\n",
    "[ChemicalSystem](https://reaktoro.org/cpp/classReaktoro_1_1ChemicalSystem.html) and\n",
    "[ReactionSystem](https://reaktoro.org/cpp/classReaktoro_1_1ReactionSystem.html)."
   ]
  },
  {
   "cell_type": "code",
   "execution_count": 4,
   "metadata": {},
   "outputs": [],
   "source": [
    "system = ChemicalSystem(editor)\n",
    "reactions = ReactionSystem(editor)"
   ]
  },
  {
   "cell_type": "markdown",
   "metadata": {},
   "source": [
    "Class [ChemicalSystem](https://reaktoro.org/cpp/classReaktoro_1_1ChemicalSystem.html) is used to represent a\n",
    "chemical system, containing one or more phases  (in this problem, aqueous, gaseous, and mineral phases). Each\n",
    "phase can contain one or more species (the aqueous phase includes many aqueous species, the gaseous phase two,\n",
    "and each mineral phase containing a single mineral species with the same name as the name of the phase). This class\n",
    "is also used to calculate the thermodynamic properties of the phases and species (standard thermodynamic properties,\n",
    "activities, chemical potentials, phase molar volume, etc.).\n",
    "\n",
    "Class [ReactionSystem](https://reaktoro.org/cpp/classReaktoro_1_1ReactionSystem.html) is a collection of\n",
    "[Reaction](https://reaktoro.org/cpp/classReaktoro_1_1Reaction.html) objects used to represent a system of chemical\n",
    "reactions that are controlled by chemical kinetics. These classes provide convenient methods for the calculation of\n",
    "equilibrium constants, reaction quotients, and rates of the reactions.\n",
    "\n",
    "### Specifying equilibrium and kinetic species\n",
    "\n",
    "In Reaktoro, the species in a chemical system can be partitioned into groups of:\n",
    "*equilibrium species*, *kinetic species*, and *inert species*.\n",
    "For the *equilibrium species*, their amounts are governed by chemical equilibrium (calculated via a Gibbs energy\n",
    "minimization). The amount of *kinetic species* are controlled by chemical kinetics (by solving a system of ordinary\n",
    "differential equations that models the kinetics of a system of reactions). The *inert species* maintain their\n",
    "amounts constant in all chemical equilibrium or kinetics calculations.\n",
    "\n",
    "This classification of species can be done using class\n",
    "[Partition](https://reaktoro.org/cpp/classReaktoro_1_1Partition.html). By default, all species are considered to\n",
    "be equilibrium species in this class. Thus, we only need to specify which are kinetic ones:"
   ]
  },
  {
   "cell_type": "code",
   "execution_count": 5,
   "metadata": {},
   "outputs": [],
   "source": [
    "partition = Partition(system)\n",
    "partition.setKineticSpecies([\"Calcite\", \"Magnesite\", \"Dolomite\"])"
   ]
  },
  {
   "cell_type": "markdown",
   "metadata": {},
   "source": [
    "In this case, the mineral species calcite, magnesite, and dolomite are specified to be *kinetic species* using\n",
    "method [Partition::setKineticSpecies](https://reaktoro.org/cpp/classReaktoro_1_1Partition.html#a9691b3689b8a09280595f2b898cc5e3e).\n",
    "Method [Partition::setKineticPhases](\n",
    "https://reaktoro.org/cpp/classReaktoro_1_1Partition.html#a235c673476b0d6682148b70b04024499) could also\n",
    "be used here. It sets all species in the given phases to be kinetic species, and it is more convenient if\n",
    "a phase has many species. However, since each of the mineral phases considered here only contains a single mineral\n",
    "species, the method [Partition::setKineticSpecies](https://reaktoro.org/cpp/classReaktoro_1_1Partition.html#a9691b3689b8a09280595f2b898cc5e3e)\n",
    "is a convenient alternative.\n",
    "\n",
    "### Defining the initial state of the equilibrium species\n",
    "\n",
    "In a chemical kinetics calculation, an *initial condition* is needed for the amounts of both equilibrium and\n",
    "kinetic species.\n",
    "\n",
    "The equilibrium problem formulated below, using class\n",
    "[EquilibriumProblem](https://reaktoro.org/cpp/classReaktoro_1_1EquilibriumProblem.html), is done so that the\n",
    "initial condition for the amounts of each equilibrium species result from the solution of a chemical equilibrium\n",
    "problem in which 1 kg of water is mixed with 1 mol of NaCl and 1 mol of CO<sub>2</sub> at 60 &deg;C\n",
    "and 100 bar. This amount of CO<sub>2</sub> is sufficient to saturate the brine solution. The excess will exist in\n",
    "the CO<sub>2</sub>-rich gaseous phase."
   ]
  },
  {
   "cell_type": "code",
   "execution_count": 6,
   "metadata": {},
   "outputs": [
    {
     "data": {
      "text/plain": [
       "<reaktoro.PyReaktoro.EquilibriumProblem at 0x7f5f85a8e630>"
      ]
     },
     "execution_count": 6,
     "metadata": {},
     "output_type": "execute_result"
    }
   ],
   "source": [
    "problem = EquilibriumProblem(system)\n",
    "problem.setPartition(partition)\n",
    "problem.setTemperature(60, \"celsius\")\n",
    "problem.setPressure(100, \"bar\")\n",
    "problem.add(\"H2O\", 1, \"kg\")\n",
    "problem.add(\"NaCl\", 1, \"mol\")\n",
    "problem.add(\"CO2\", 1, \"mol\")"
   ]
  },
  {
   "cell_type": "markdown",
   "metadata": {},
   "source": [
    "> **Note:** To ensure that the equilibrium calculation performed in the next step ignores the kinetic species in the\n",
    "> system so that we maintain a disequilibrium state between equilibrium and kinetic species, **it is important!** not to\n",
    "> forget to call\n",
    "> [EquilibriumProblem::setPartition](https://reaktoro.org/cpp/classReaktoro_1_1EquilibriumProblem.html#a53a9496c9d4ffc72a85903146b390e44)\n",
    "> method. Ignoring this step will produce an initial condition for the amounts of equilibrium and kinetic species\n",
    "> that correspond to a complete equilibrium state in the system so that no kinetics calculation makes sense afterwards.\n",
    "\n",
    "### Calculating the initial amounts of the equilibrium species\n",
    "\n",
    "We now use the convenient [equilibrate](https://reaktoro.org/cpp/namespaceReaktoro.html#af2d3b39d3e0b8f9cb5a4d9bbb06b697e)\n",
    "function to calculate the amounts of the equilibrium species by minimizing\n",
    "the Gibbs energy of the equilibrium partition only, and not of the entire system. The result is stored in the\n",
    "object `state0` of class [ChemicalState](https://reaktoro.org/cpp/classReaktoro_1_1ChemicalState.html),\n",
    "a computational representation of the state of a multiphase chemical system defined by its temperature (*T*),\n",
    "pressure (*P*), and vector of species amounts (*n*). We then output this chemical state to a file.\n",
    "\n",
    "We have now to prescribe the initial amounts of the kinetic species (i.e., the carbonate minerals). This is done\n",
    "below by setting the initial mass of calcite to 100 g and of dolomite to 50 g. The initial amount of magnesite is\n",
    "zero."
   ]
  },
  {
   "cell_type": "code",
   "execution_count": 7,
   "metadata": {},
   "outputs": [],
   "source": [
    "state0 = equilibrate(problem)\n",
    "state0.output('demo-kineticpath-carbonates-co2-before-kinetics.txt')\n",
    "\n",
    "state0.setSpeciesMass(\"Calcite\", 100, \"g\")\n",
    "state0.setSpeciesMass(\"Dolomite\", 50, \"g\")"
   ]
  },
  {
   "cell_type": "markdown",
   "metadata": {},
   "source": [
    "### Setting the kinetic path calculations\n",
    "\n",
    "To be able to simulate the kinetic process of mineral dissolution/precipitation, we introduce the\n",
    "instance of the class [KineticPath](https://reaktoro.org/cpp/classReaktoro_1_1KineticPath.html) that enables this\n",
    "functionality. The instance of kinetic path solver is provided with the partition to the equilibrium, kinetic,\n",
    "and inert species defined above."
   ]
  },
  {
   "cell_type": "code",
   "execution_count": 8,
   "metadata": {},
   "outputs": [],
   "source": [
    "path = KineticPath(reactions)\n",
    "path.setPartition(partition)"
   ]
  },
  {
   "cell_type": "markdown",
   "metadata": {},
   "source": [
    "> **Note**: For repeated chemical kinetics calculations (e.g., in a reactive transport simulation, where kinetics is\n",
    "performed for each mesh cell/node), consider using the class\n",
    "[KineticSolver](https://reaktoro.org/cpp/classReaktoro_1_1KineticSolver.html) instead for avoiding some overhead of\n",
    "class [KineticPath](https://reaktoro.org/cpp/classReaktoro_1_1KineticPath.html). For equilibrium calculations,\n",
    "consider also the class [EquilibriumSolver](https://reaktoro.org/cpp/classReaktoro_1_1EquilibriumSolver.html),\n",
    "instead of method [equilibrate](https://reaktoro.org/cpp/namespaceReaktoro.html#af2d3b39d3e0b8f9cb5a4d9bbb06b697e),\n",
    "for similar reasons.\n",
    "\n",
    "To analyze the result of kinetic simulations, we save the evolution of different properties of the chemical system\n",
    "into file `result.txt`."
   ]
  },
  {
   "cell_type": "code",
   "execution_count": 9,
   "metadata": {},
   "outputs": [],
   "source": [
    "output = path.output()\n",
    "output.filename(\"results.txt\")\n",
    "output.add(\"time(units=minute)\")\n",
    "output.add(\"pH\")\n",
    "output.add(\"elementMolality(Ca units=mmolal)\", \"Ca [mmolal]\")\n",
    "output.add(\"elementMolality(Mg units=mmolal)\", \"Mg [mmolal]\")\n",
    "output.add(\"phaseMass(Calcite units=g)\", \"Calcite [units=g]\")\n",
    "output.add(\"phaseMass(Dolomite units=g)\", \"Dolomite [units=g]\")"
   ]
  },
  {
   "cell_type": "markdown",
   "metadata": {},
   "source": [
    "> **Note**: A list of all possible quantities that can be plotted is shown in the class\n",
    "[ChemicalQuantity](https://reaktoro.org/cpp/classReaktoro_1_1ChemicalQuantity.html), which provides an interface\n",
    "for convenient ways of their retrieval.\n",
    "\n",
    "To perform the calculation of the kinetic path, we need to provide time interval, on which this path must be\n",
    "recovered. In this case, we choose 25 hours of simulations. The initial chemical state provided by the instance\n",
    "`state0`, as well as the time interval with units, in which time is measured, are given with a call of the function\n",
    "`solve`."
   ]
  },
  {
   "cell_type": "code",
   "execution_count": 10,
   "metadata": {},
   "outputs": [],
   "source": [
    "t0, t1 = 0.0, 25.0\n",
    "path.solve(state0, t0, t1, \"hours\")"
   ]
  },
  {
   "cell_type": "markdown",
   "metadata": {},
   "source": [
    "### Plotting the results of equilibrium path calculation\n",
    "\n",
    "To load results from the outputfile, we use [loadtxt](https://docs.scipy.org/doc/numpy/reference/generated/numpy.loadtxt.html)\n",
    "function provided by the *numpy* package:"
   ]
  },
  {
   "cell_type": "code",
   "execution_count": 11,
   "metadata": {},
   "outputs": [],
   "source": [
    "import numpy\n",
    "\n",
    "filearray = numpy.loadtxt(\"results.txt\", skiprows=1) # load data from the file skipping the one row\n",
    "data = filearray.T  # transpose the matrix with data\n",
    "[time_indx, ph_indx, ca_elem_indx, mg_elem_indx, calcite_indx, dolomite_indx] \\\n",
    "    = numpy.arange(0, 6) # assign indices of the corresponding data"
   ]
  },
  {
   "cell_type": "markdown",
   "metadata": {},
   "source": [
    "To visually analyze the obtained reaction path, we export\n",
    "[bokeh](https://docs.bokeh.org/en/latest/docs/gallery.html#standalone-examples) python plotting package."
   ]
  },
  {
   "cell_type": "code",
   "execution_count": 12,
   "metadata": {
    "lines_to_next_cell": 1
   },
   "outputs": [
    {
     "data": {
      "text/html": [
       "\n",
       "    <div class=\"bk-root\">\n",
       "        <a href=\"https://bokeh.org\" target=\"_blank\" class=\"bk-logo bk-logo-small bk-logo-notebook\"></a>\n",
       "        <span id=\"1002\">Loading BokehJS ...</span>\n",
       "    </div>"
      ]
     },
     "metadata": {},
     "output_type": "display_data"
    },
    {
     "data": {
      "application/javascript": [
       "\n",
       "(function(root) {\n",
       "  function now() {\n",
       "    return new Date();\n",
       "  }\n",
       "\n",
       "  var force = true;\n",
       "\n",
       "  if (typeof root._bokeh_onload_callbacks === \"undefined\" || force === true) {\n",
       "    root._bokeh_onload_callbacks = [];\n",
       "    root._bokeh_is_loading = undefined;\n",
       "  }\n",
       "\n",
       "  var JS_MIME_TYPE = 'application/javascript';\n",
       "  var HTML_MIME_TYPE = 'text/html';\n",
       "  var EXEC_MIME_TYPE = 'application/vnd.bokehjs_exec.v0+json';\n",
       "  var CLASS_NAME = 'output_bokeh rendered_html';\n",
       "\n",
       "  /**\n",
       "   * Render data to the DOM node\n",
       "   */\n",
       "  function render(props, node) {\n",
       "    var script = document.createElement(\"script\");\n",
       "    node.appendChild(script);\n",
       "  }\n",
       "\n",
       "  /**\n",
       "   * Handle when an output is cleared or removed\n",
       "   */\n",
       "  function handleClearOutput(event, handle) {\n",
       "    var cell = handle.cell;\n",
       "\n",
       "    var id = cell.output_area._bokeh_element_id;\n",
       "    var server_id = cell.output_area._bokeh_server_id;\n",
       "    // Clean up Bokeh references\n",
       "    if (id != null && id in Bokeh.index) {\n",
       "      Bokeh.index[id].model.document.clear();\n",
       "      delete Bokeh.index[id];\n",
       "    }\n",
       "\n",
       "    if (server_id !== undefined) {\n",
       "      // Clean up Bokeh references\n",
       "      var cmd = \"from bokeh.io.state import curstate; print(curstate().uuid_to_server['\" + server_id + \"'].get_sessions()[0].document.roots[0]._id)\";\n",
       "      cell.notebook.kernel.execute(cmd, {\n",
       "        iopub: {\n",
       "          output: function(msg) {\n",
       "            var id = msg.content.text.trim();\n",
       "            if (id in Bokeh.index) {\n",
       "              Bokeh.index[id].model.document.clear();\n",
       "              delete Bokeh.index[id];\n",
       "            }\n",
       "          }\n",
       "        }\n",
       "      });\n",
       "      // Destroy server and session\n",
       "      var cmd = \"import bokeh.io.notebook as ion; ion.destroy_server('\" + server_id + \"')\";\n",
       "      cell.notebook.kernel.execute(cmd);\n",
       "    }\n",
       "  }\n",
       "\n",
       "  /**\n",
       "   * Handle when a new output is added\n",
       "   */\n",
       "  function handleAddOutput(event, handle) {\n",
       "    var output_area = handle.output_area;\n",
       "    var output = handle.output;\n",
       "\n",
       "    // limit handleAddOutput to display_data with EXEC_MIME_TYPE content only\n",
       "    if ((output.output_type != \"display_data\") || (!Object.prototype.hasOwnProperty.call(output.data, EXEC_MIME_TYPE))) {\n",
       "      return\n",
       "    }\n",
       "\n",
       "    var toinsert = output_area.element.find(\".\" + CLASS_NAME.split(' ')[0]);\n",
       "\n",
       "    if (output.metadata[EXEC_MIME_TYPE][\"id\"] !== undefined) {\n",
       "      toinsert[toinsert.length - 1].firstChild.textContent = output.data[JS_MIME_TYPE];\n",
       "      // store reference to embed id on output_area\n",
       "      output_area._bokeh_element_id = output.metadata[EXEC_MIME_TYPE][\"id\"];\n",
       "    }\n",
       "    if (output.metadata[EXEC_MIME_TYPE][\"server_id\"] !== undefined) {\n",
       "      var bk_div = document.createElement(\"div\");\n",
       "      bk_div.innerHTML = output.data[HTML_MIME_TYPE];\n",
       "      var script_attrs = bk_div.children[0].attributes;\n",
       "      for (var i = 0; i < script_attrs.length; i++) {\n",
       "        toinsert[toinsert.length - 1].firstChild.setAttribute(script_attrs[i].name, script_attrs[i].value);\n",
       "        toinsert[toinsert.length - 1].firstChild.textContent = bk_div.children[0].textContent\n",
       "      }\n",
       "      // store reference to server id on output_area\n",
       "      output_area._bokeh_server_id = output.metadata[EXEC_MIME_TYPE][\"server_id\"];\n",
       "    }\n",
       "  }\n",
       "\n",
       "  function register_renderer(events, OutputArea) {\n",
       "\n",
       "    function append_mime(data, metadata, element) {\n",
       "      // create a DOM node to render to\n",
       "      var toinsert = this.create_output_subarea(\n",
       "        metadata,\n",
       "        CLASS_NAME,\n",
       "        EXEC_MIME_TYPE\n",
       "      );\n",
       "      this.keyboard_manager.register_events(toinsert);\n",
       "      // Render to node\n",
       "      var props = {data: data, metadata: metadata[EXEC_MIME_TYPE]};\n",
       "      render(props, toinsert[toinsert.length - 1]);\n",
       "      element.append(toinsert);\n",
       "      return toinsert\n",
       "    }\n",
       "\n",
       "    /* Handle when an output is cleared or removed */\n",
       "    events.on('clear_output.CodeCell', handleClearOutput);\n",
       "    events.on('delete.Cell', handleClearOutput);\n",
       "\n",
       "    /* Handle when a new output is added */\n",
       "    events.on('output_added.OutputArea', handleAddOutput);\n",
       "\n",
       "    /**\n",
       "     * Register the mime type and append_mime function with output_area\n",
       "     */\n",
       "    OutputArea.prototype.register_mime_type(EXEC_MIME_TYPE, append_mime, {\n",
       "      /* Is output safe? */\n",
       "      safe: true,\n",
       "      /* Index of renderer in `output_area.display_order` */\n",
       "      index: 0\n",
       "    });\n",
       "  }\n",
       "\n",
       "  // register the mime type if in Jupyter Notebook environment and previously unregistered\n",
       "  if (root.Jupyter !== undefined) {\n",
       "    var events = require('base/js/events');\n",
       "    var OutputArea = require('notebook/js/outputarea').OutputArea;\n",
       "\n",
       "    if (OutputArea.prototype.mime_types().indexOf(EXEC_MIME_TYPE) == -1) {\n",
       "      register_renderer(events, OutputArea);\n",
       "    }\n",
       "  }\n",
       "\n",
       "  \n",
       "  if (typeof (root._bokeh_timeout) === \"undefined\" || force === true) {\n",
       "    root._bokeh_timeout = Date.now() + 5000;\n",
       "    root._bokeh_failed_load = false;\n",
       "  }\n",
       "\n",
       "  var NB_LOAD_WARNING = {'data': {'text/html':\n",
       "     \"<div style='background-color: #fdd'>\\n\"+\n",
       "     \"<p>\\n\"+\n",
       "     \"BokehJS does not appear to have successfully loaded. If loading BokehJS from CDN, this \\n\"+\n",
       "     \"may be due to a slow or bad network connection. Possible fixes:\\n\"+\n",
       "     \"</p>\\n\"+\n",
       "     \"<ul>\\n\"+\n",
       "     \"<li>re-rerun `output_notebook()` to attempt to load from CDN again, or</li>\\n\"+\n",
       "     \"<li>use INLINE resources instead, as so:</li>\\n\"+\n",
       "     \"</ul>\\n\"+\n",
       "     \"<code>\\n\"+\n",
       "     \"from bokeh.resources import INLINE\\n\"+\n",
       "     \"output_notebook(resources=INLINE)\\n\"+\n",
       "     \"</code>\\n\"+\n",
       "     \"</div>\"}};\n",
       "\n",
       "  function display_loaded() {\n",
       "    var el = document.getElementById(\"1002\");\n",
       "    if (el != null) {\n",
       "      el.textContent = \"BokehJS is loading...\";\n",
       "    }\n",
       "    if (root.Bokeh !== undefined) {\n",
       "      if (el != null) {\n",
       "        el.textContent = \"BokehJS \" + root.Bokeh.version + \" successfully loaded.\";\n",
       "      }\n",
       "    } else if (Date.now() < root._bokeh_timeout) {\n",
       "      setTimeout(display_loaded, 100)\n",
       "    }\n",
       "  }\n",
       "\n",
       "\n",
       "  function run_callbacks() {\n",
       "    try {\n",
       "      root._bokeh_onload_callbacks.forEach(function(callback) {\n",
       "        if (callback != null)\n",
       "          callback();\n",
       "      });\n",
       "    } finally {\n",
       "      delete root._bokeh_onload_callbacks\n",
       "    }\n",
       "    console.debug(\"Bokeh: all callbacks have finished\");\n",
       "  }\n",
       "\n",
       "  function load_libs(css_urls, js_urls, callback) {\n",
       "    if (css_urls == null) css_urls = [];\n",
       "    if (js_urls == null) js_urls = [];\n",
       "\n",
       "    root._bokeh_onload_callbacks.push(callback);\n",
       "    if (root._bokeh_is_loading > 0) {\n",
       "      console.debug(\"Bokeh: BokehJS is being loaded, scheduling callback at\", now());\n",
       "      return null;\n",
       "    }\n",
       "    if (js_urls == null || js_urls.length === 0) {\n",
       "      run_callbacks();\n",
       "      return null;\n",
       "    }\n",
       "    console.debug(\"Bokeh: BokehJS not loaded, scheduling load and callback at\", now());\n",
       "    root._bokeh_is_loading = css_urls.length + js_urls.length;\n",
       "\n",
       "    function on_load() {\n",
       "      root._bokeh_is_loading--;\n",
       "      if (root._bokeh_is_loading === 0) {\n",
       "        console.debug(\"Bokeh: all BokehJS libraries/stylesheets loaded\");\n",
       "        run_callbacks()\n",
       "      }\n",
       "    }\n",
       "\n",
       "    function on_error(url) {\n",
       "      console.error(\"failed to load \" + url);\n",
       "    }\n",
       "\n",
       "    for (let i = 0; i < css_urls.length; i++) {\n",
       "      const url = css_urls[i];\n",
       "      const element = document.createElement(\"link\");\n",
       "      element.onload = on_load;\n",
       "      element.onerror = on_error.bind(null, url);\n",
       "      element.rel = \"stylesheet\";\n",
       "      element.type = \"text/css\";\n",
       "      element.href = url;\n",
       "      console.debug(\"Bokeh: injecting link tag for BokehJS stylesheet: \", url);\n",
       "      document.body.appendChild(element);\n",
       "    }\n",
       "\n",
       "    const hashes = {\"https://cdn.bokeh.org/bokeh/release/bokeh-2.3.2.min.js\": \"XypntL49z55iwGVUW4qsEu83zKL3XEcz0MjuGOQ9SlaaQ68X/g+k1FcioZi7oQAc\", \"https://cdn.bokeh.org/bokeh/release/bokeh-tables-2.3.2.min.js\": \"bEsM86IHGDTLCS0Zod8a8WM6Y4+lafAL/eSiyQcuPzinmWNgNO2/olUF0Z2Dkn5i\", \"https://cdn.bokeh.org/bokeh/release/bokeh-widgets-2.3.2.min.js\": \"TX0gSQTdXTTeScqxj6PVQxTiRW8DOoGVwinyi1D3kxv7wuxQ02XkOxv0xwiypcAH\"};\n",
       "\n",
       "    for (let i = 0; i < js_urls.length; i++) {\n",
       "      const url = js_urls[i];\n",
       "      const element = document.createElement('script');\n",
       "      element.onload = on_load;\n",
       "      element.onerror = on_error.bind(null, url);\n",
       "      element.async = false;\n",
       "      element.src = url;\n",
       "      if (url in hashes) {\n",
       "        element.crossOrigin = \"anonymous\";\n",
       "        element.integrity = \"sha384-\" + hashes[url];\n",
       "      }\n",
       "      console.debug(\"Bokeh: injecting script tag for BokehJS library: \", url);\n",
       "      document.head.appendChild(element);\n",
       "    }\n",
       "  };\n",
       "\n",
       "  function inject_raw_css(css) {\n",
       "    const element = document.createElement(\"style\");\n",
       "    element.appendChild(document.createTextNode(css));\n",
       "    document.body.appendChild(element);\n",
       "  }\n",
       "\n",
       "  \n",
       "  var js_urls = [\"https://cdn.bokeh.org/bokeh/release/bokeh-2.3.2.min.js\", \"https://cdn.bokeh.org/bokeh/release/bokeh-widgets-2.3.2.min.js\", \"https://cdn.bokeh.org/bokeh/release/bokeh-tables-2.3.2.min.js\"];\n",
       "  var css_urls = [];\n",
       "  \n",
       "\n",
       "  var inline_js = [\n",
       "    function(Bokeh) {\n",
       "      Bokeh.set_log_level(\"info\");\n",
       "    },\n",
       "    function(Bokeh) {\n",
       "    \n",
       "    \n",
       "    }\n",
       "  ];\n",
       "\n",
       "  function run_inline_js() {\n",
       "    \n",
       "    if (root.Bokeh !== undefined || force === true) {\n",
       "      \n",
       "    for (var i = 0; i < inline_js.length; i++) {\n",
       "      inline_js[i].call(root, root.Bokeh);\n",
       "    }\n",
       "    if (force === true) {\n",
       "        display_loaded();\n",
       "      }} else if (Date.now() < root._bokeh_timeout) {\n",
       "      setTimeout(run_inline_js, 100);\n",
       "    } else if (!root._bokeh_failed_load) {\n",
       "      console.log(\"Bokeh: BokehJS failed to load within specified timeout.\");\n",
       "      root._bokeh_failed_load = true;\n",
       "    } else if (force !== true) {\n",
       "      var cell = $(document.getElementById(\"1002\")).parents('.cell').data().cell;\n",
       "      cell.output_area.append_execute_result(NB_LOAD_WARNING)\n",
       "    }\n",
       "\n",
       "  }\n",
       "\n",
       "  if (root._bokeh_is_loading === 0) {\n",
       "    console.debug(\"Bokeh: BokehJS loaded, going straight to plotting\");\n",
       "    run_inline_js();\n",
       "  } else {\n",
       "    load_libs(css_urls, js_urls, function() {\n",
       "      console.debug(\"Bokeh: BokehJS plotting callback run at\", now());\n",
       "      run_inline_js();\n",
       "    });\n",
       "  }\n",
       "}(window));"
      ],
      "application/vnd.bokehjs_load.v0+json": "\n(function(root) {\n  function now() {\n    return new Date();\n  }\n\n  var force = true;\n\n  if (typeof root._bokeh_onload_callbacks === \"undefined\" || force === true) {\n    root._bokeh_onload_callbacks = [];\n    root._bokeh_is_loading = undefined;\n  }\n\n  \n\n  \n  if (typeof (root._bokeh_timeout) === \"undefined\" || force === true) {\n    root._bokeh_timeout = Date.now() + 5000;\n    root._bokeh_failed_load = false;\n  }\n\n  var NB_LOAD_WARNING = {'data': {'text/html':\n     \"<div style='background-color: #fdd'>\\n\"+\n     \"<p>\\n\"+\n     \"BokehJS does not appear to have successfully loaded. If loading BokehJS from CDN, this \\n\"+\n     \"may be due to a slow or bad network connection. Possible fixes:\\n\"+\n     \"</p>\\n\"+\n     \"<ul>\\n\"+\n     \"<li>re-rerun `output_notebook()` to attempt to load from CDN again, or</li>\\n\"+\n     \"<li>use INLINE resources instead, as so:</li>\\n\"+\n     \"</ul>\\n\"+\n     \"<code>\\n\"+\n     \"from bokeh.resources import INLINE\\n\"+\n     \"output_notebook(resources=INLINE)\\n\"+\n     \"</code>\\n\"+\n     \"</div>\"}};\n\n  function display_loaded() {\n    var el = document.getElementById(\"1002\");\n    if (el != null) {\n      el.textContent = \"BokehJS is loading...\";\n    }\n    if (root.Bokeh !== undefined) {\n      if (el != null) {\n        el.textContent = \"BokehJS \" + root.Bokeh.version + \" successfully loaded.\";\n      }\n    } else if (Date.now() < root._bokeh_timeout) {\n      setTimeout(display_loaded, 100)\n    }\n  }\n\n\n  function run_callbacks() {\n    try {\n      root._bokeh_onload_callbacks.forEach(function(callback) {\n        if (callback != null)\n          callback();\n      });\n    } finally {\n      delete root._bokeh_onload_callbacks\n    }\n    console.debug(\"Bokeh: all callbacks have finished\");\n  }\n\n  function load_libs(css_urls, js_urls, callback) {\n    if (css_urls == null) css_urls = [];\n    if (js_urls == null) js_urls = [];\n\n    root._bokeh_onload_callbacks.push(callback);\n    if (root._bokeh_is_loading > 0) {\n      console.debug(\"Bokeh: BokehJS is being loaded, scheduling callback at\", now());\n      return null;\n    }\n    if (js_urls == null || js_urls.length === 0) {\n      run_callbacks();\n      return null;\n    }\n    console.debug(\"Bokeh: BokehJS not loaded, scheduling load and callback at\", now());\n    root._bokeh_is_loading = css_urls.length + js_urls.length;\n\n    function on_load() {\n      root._bokeh_is_loading--;\n      if (root._bokeh_is_loading === 0) {\n        console.debug(\"Bokeh: all BokehJS libraries/stylesheets loaded\");\n        run_callbacks()\n      }\n    }\n\n    function on_error(url) {\n      console.error(\"failed to load \" + url);\n    }\n\n    for (let i = 0; i < css_urls.length; i++) {\n      const url = css_urls[i];\n      const element = document.createElement(\"link\");\n      element.onload = on_load;\n      element.onerror = on_error.bind(null, url);\n      element.rel = \"stylesheet\";\n      element.type = \"text/css\";\n      element.href = url;\n      console.debug(\"Bokeh: injecting link tag for BokehJS stylesheet: \", url);\n      document.body.appendChild(element);\n    }\n\n    const hashes = {\"https://cdn.bokeh.org/bokeh/release/bokeh-2.3.2.min.js\": \"XypntL49z55iwGVUW4qsEu83zKL3XEcz0MjuGOQ9SlaaQ68X/g+k1FcioZi7oQAc\", \"https://cdn.bokeh.org/bokeh/release/bokeh-tables-2.3.2.min.js\": \"bEsM86IHGDTLCS0Zod8a8WM6Y4+lafAL/eSiyQcuPzinmWNgNO2/olUF0Z2Dkn5i\", \"https://cdn.bokeh.org/bokeh/release/bokeh-widgets-2.3.2.min.js\": \"TX0gSQTdXTTeScqxj6PVQxTiRW8DOoGVwinyi1D3kxv7wuxQ02XkOxv0xwiypcAH\"};\n\n    for (let i = 0; i < js_urls.length; i++) {\n      const url = js_urls[i];\n      const element = document.createElement('script');\n      element.onload = on_load;\n      element.onerror = on_error.bind(null, url);\n      element.async = false;\n      element.src = url;\n      if (url in hashes) {\n        element.crossOrigin = \"anonymous\";\n        element.integrity = \"sha384-\" + hashes[url];\n      }\n      console.debug(\"Bokeh: injecting script tag for BokehJS library: \", url);\n      document.head.appendChild(element);\n    }\n  };\n\n  function inject_raw_css(css) {\n    const element = document.createElement(\"style\");\n    element.appendChild(document.createTextNode(css));\n    document.body.appendChild(element);\n  }\n\n  \n  var js_urls = [\"https://cdn.bokeh.org/bokeh/release/bokeh-2.3.2.min.js\", \"https://cdn.bokeh.org/bokeh/release/bokeh-widgets-2.3.2.min.js\", \"https://cdn.bokeh.org/bokeh/release/bokeh-tables-2.3.2.min.js\"];\n  var css_urls = [];\n  \n\n  var inline_js = [\n    function(Bokeh) {\n      Bokeh.set_log_level(\"info\");\n    },\n    function(Bokeh) {\n    \n    \n    }\n  ];\n\n  function run_inline_js() {\n    \n    if (root.Bokeh !== undefined || force === true) {\n      \n    for (var i = 0; i < inline_js.length; i++) {\n      inline_js[i].call(root, root.Bokeh);\n    }\n    if (force === true) {\n        display_loaded();\n      }} else if (Date.now() < root._bokeh_timeout) {\n      setTimeout(run_inline_js, 100);\n    } else if (!root._bokeh_failed_load) {\n      console.log(\"Bokeh: BokehJS failed to load within specified timeout.\");\n      root._bokeh_failed_load = true;\n    } else if (force !== true) {\n      var cell = $(document.getElementById(\"1002\")).parents('.cell').data().cell;\n      cell.output_area.append_execute_result(NB_LOAD_WARNING)\n    }\n\n  }\n\n  if (root._bokeh_is_loading === 0) {\n    console.debug(\"Bokeh: BokehJS loaded, going straight to plotting\");\n    run_inline_js();\n  } else {\n    load_libs(css_urls, js_urls, function() {\n      console.debug(\"Bokeh: BokehJS plotting callback run at\", now());\n      run_inline_js();\n    });\n  }\n}(window));"
     },
     "metadata": {},
     "output_type": "display_data"
    }
   ],
   "source": [
    "from bokeh.plotting import figure, show\n",
    "from bokeh.io import output_notebook\n",
    "output_notebook()"
   ]
  },
  {
   "cell_type": "markdown",
   "metadata": {},
   "source": [
    "We define a custom function that would generate figure of certain size (in this case, 600 by 300) with label `time`\n",
    "on the x-axis:"
   ]
  },
  {
   "cell_type": "code",
   "execution_count": 13,
   "metadata": {},
   "outputs": [],
   "source": [
    "def custom_figure(title, y_axis_label):\n",
    "    return figure(plot_width=600, plot_height=300,\n",
    "                  title=title,\n",
    "                  x_axis_label='time',\n",
    "                  y_axis_label=y_axis_label)"
   ]
  },
  {
   "cell_type": "markdown",
   "metadata": {},
   "source": [
    "The plots below depict different chemical properties (x-axis) with respect to the time interval of the kinetic\n",
    "simulation (y-axis).\n",
    "In the first plot, we see the growth in the molality of Ca element. At the same time, the molality of Mg is first\n",
    "increasing and later decreasing. This coincides with the behavior of the mass of minerals on the plots below."
   ]
  },
  {
   "cell_type": "code",
   "execution_count": 14,
   "metadata": {},
   "outputs": [
    {
     "data": {
      "text/html": [
       "\n",
       "\n",
       "\n",
       "\n",
       "\n",
       "\n",
       "  <div class=\"bk-root\" id=\"eabb282c-fb04-486f-b916-318734981364\" data-root-id=\"1003\"></div>\n"
      ]
     },
     "metadata": {},
     "output_type": "display_data"
    },
    {
     "data": {
      "application/javascript": [
       "(function(root) {\n",
       "  function embed_document(root) {\n",
       "    \n",
       "  var docs_json = {\"8de7a7d4-b6f6-4257-b0b2-66454862853d\":{\"defs\":[],\"roots\":{\"references\":[{\"attributes\":{\"below\":[{\"id\":\"1014\"}],\"center\":[{\"id\":\"1017\"},{\"id\":\"1021\"},{\"id\":\"1051\"}],\"height\":300,\"left\":[{\"id\":\"1018\"}],\"renderers\":[{\"id\":\"1039\"},{\"id\":\"1056\"}],\"title\":{\"id\":\"1004\"},\"toolbar\":{\"id\":\"1029\"},\"x_range\":{\"id\":\"1006\"},\"x_scale\":{\"id\":\"1010\"},\"y_range\":{\"id\":\"1008\"},\"y_scale\":{\"id\":\"1012\"}},\"id\":\"1003\",\"subtype\":\"Figure\",\"type\":\"Plot\"},{\"attributes\":{\"line_color\":\"green\",\"line_width\":4,\"x\":{\"field\":\"x\"},\"y\":{\"field\":\"y\"}},\"id\":\"1054\",\"type\":\"Line\"},{\"attributes\":{},\"id\":\"1046\",\"type\":\"AllLabels\"},{\"attributes\":{},\"id\":\"1022\",\"type\":\"PanTool\"},{\"attributes\":{},\"id\":\"1047\",\"type\":\"BasicTickFormatter\"},{\"attributes\":{\"active_multi\":null,\"tools\":[{\"id\":\"1022\"},{\"id\":\"1023\"},{\"id\":\"1024\"},{\"id\":\"1025\"},{\"id\":\"1026\"},{\"id\":\"1027\"}]},\"id\":\"1029\",\"type\":\"Toolbar\"},{\"attributes\":{\"axis\":{\"id\":\"1018\"},\"dimension\":1,\"ticker\":null},\"id\":\"1021\",\"type\":\"Grid\"},{\"attributes\":{\"axis_label\":\"Amount of Ca and Mg [mmolal]\",\"formatter\":{\"id\":\"1047\"},\"major_label_policy\":{\"id\":\"1046\"},\"ticker\":{\"id\":\"1019\"}},\"id\":\"1018\",\"type\":\"LinearAxis\"},{\"attributes\":{\"overlay\":{\"id\":\"1028\"}},\"id\":\"1024\",\"type\":\"BoxZoomTool\"},{\"attributes\":{\"source\":{\"id\":\"1036\"}},\"id\":\"1040\",\"type\":\"CDSView\"},{\"attributes\":{},\"id\":\"1026\",\"type\":\"ResetTool\"},{\"attributes\":{\"data_source\":{\"id\":\"1036\"},\"glyph\":{\"id\":\"1037\"},\"hover_glyph\":null,\"muted_glyph\":null,\"nonselection_glyph\":{\"id\":\"1038\"},\"view\":{\"id\":\"1040\"}},\"id\":\"1039\",\"type\":\"GlyphRenderer\"},{\"attributes\":{\"line_color\":\"orange\",\"line_width\":4,\"x\":{\"field\":\"x\"},\"y\":{\"field\":\"y\"}},\"id\":\"1037\",\"type\":\"Line\"},{\"attributes\":{\"data\":{\"x\":{\"__ndarray__\":\"AAAAAAAAAABfn3MLF07DPhb4SFLrYIE/xwA/mTVnoz/WWMLaGDuxP0gx5eiWwrg/iqw1lNqLwj8c6ndha7bIP2Ram8b2WtE/56c4Drxa1j89DRgkfVrbP2Ct2jUhLeA/C2DKwAGt4j+2ErpL4izlP4FaDB6m/eg/HRzsTQzJ7j8gJAuYwC30P9dppKXy9vg/AHSYLy/A/T/b3JiesEQBQOC+DpwzIgVA38Mlx53SB0DeyDzyB4MKQBYwgVt3Mw1AFjWYhuHjD0AKndfYJUoRQIofY+5aohJACqLuA5D6E0CJJHoZxVIVQHh6pSxD/BZAaNDQP8GlGEBXJvxSP08aQEZ8J2a9+BtANdJSeTuiHUAkKH6MuUsfQAq/1M+beiBAAWpq2VpPIUD5FADjGSQiQPC/lezY+CJA6Gor9pfNI0CEDU+vlOUkQFr1udqK/SVAL90kBoEVJ0CTOgFNhC0oQGgibHh6RSlA7MA5I0r7KkD+1HjpJrEsQIJzRpT2Zi5AysNCrWkOMECx4emVsowxQHqlLEMcCzRARGlv8IWJNkAOLbKd7wc5QL3jFB3JtT1ANs07TtExQUD3deCcEUVFQBx8YTJVWElA3SQGgZVrTUCBlUOLbL9QQJMYBFYOyVJA9GxWfa7SVEAH8BZIUNxWQOF6FK5HcVtAQmDl0CIDYEASg8DKoU1iQOOlm8QgmGRAtMh2vp/iZkCF61G4Hi1pQFYOLbKdd2tAJzEIrBzCbUD8qfHSTQZwQG3n+6nxeHJAwcqhRbYLdEBYObTIdp51QPCnxks3MXdAhxbZzvfDeEAfhetRuFZ6QLbz/dR46XtACtejcD18fUCiRbbz/Q5/QB1aZDvfUIBAYOXQItuSgUCkcD0K19SCQIlBYOXQFoRAzczMzMxYhUAQWDm0yJqGQFTjpZvE3IdAmG4Sg8AeiUDb+X5qvGCKQMHKoUW2ootABFYOLbLkjEBI4XoUriaOQHE9CtejaI9AuB6F61FVkEC4HoXrUfaQQLgehetRl5FA4XoUrkc4kkDhehSuR9mSQOF6FK5HepNA4XoUrkcblEDhehSuR7yUQArXo3A9XZVACtejcD3+lUAK16NwPZ+WQArXo3A9QJdA\",\"dtype\":\"float64\",\"order\":\"little\",\"shape\":[105]},\"y\":{\"__ndarray__\":\"nT3Rn3BLkTxVOIA2WkjkPiPRFbawuKE/gT6RJ0nXwj8h5Lz/jxPQP1jLnZlgONY/LJ0PzxJk3z+PNo5Yi8/jP8TPfw9eu+k/kzfAzHfw7j/hC5OpgtHxP9GRXP5D+vM/B/AWSFD89T8EyqZc4d33PymWW1oNifo/EeSghJk2/j8r9pfdk8cBQEErMGR1KwRA46qy74pgBkAouFhRg2kIQPNxbagYZwtAgxd9BWlGDUBiEFg5tAgPQDpY/+cwXxBA2V92Tx42EUCjHqLRHQQSQKUUdHtJwxJAoblOIy11E0AXZTbIJCMUQCUjZ2FP+xRALxfxnZjVFUAMzXUaaakWQHk7wmnBaxdACJRNucIbGEBJ10y+2cYYQMxFfCdmfRlAfZbnwd05GkCbrFEP0egaQA/R6A5ihxtApRR0e0kjHEDjpZvEIPAcQHicoiO5vB1AniRdM/mGHkA+BcB4Bk0fQGVwlLw6ByBAJ07udyiaIEBGJXUCmighQMHFihpMsyFAX5hMFYw6IkDJAiZw6x4jQNSa5h2niCRAd76fGi/dJUBWn6ut2B8nQIZa07zjVClAObTIdr5fK0AEVg4tsp0uQPW52or9xTBAdZMYBFYeMkDrc7UV+1szQFR0JJf/gDRAcvkP6bePNUBCPujZrIo2QD2bVZ+rfThA30+Nl24iOkBNFYxK6oQ7QOkmMQisrDxAi2zn+6mhPUDlYaHWNG8+QKkT0ETYID9Akst/SL+9P0A/xty1hCRAQNobfGEypUBAeHqlLEPsQECTOgFNhC1BQBfZzvdTa0FAoBov3SSmQUBoke18P91BQDhnRGlvEEJAVOOlm8RAQkABTYQNT29CQMBbIEHxm0JAaJHtfD/dQkCt+lxtxRZDQOxRuB6FS0NA54wo7Q1+Q0BB8WPMXatDQDy9UpYhzkNAHHxhMlXoQ0DPZtXnagNEQMRCrWneIURAMnctIR88REBn1edqK05EQEtZhjjWXURAcoqO5PJvREA4+MJkqoBEQM9m1edqi0RAJQaBlUOTREDM7snDQp1EQCuHFtnOp0RALSEf9GyuREAnMQisHLJEQK7YX3ZPtkRApN++Dpy7RECq8dJNYsBEQN21hHzQw0RA\",\"dtype\":\"float64\",\"order\":\"little\",\"shape\":[105]}},\"selected\":{\"id\":\"1048\"},\"selection_policy\":{\"id\":\"1049\"}},\"id\":\"1036\",\"type\":\"ColumnDataSource\"},{\"attributes\":{\"line_alpha\":0.1,\"line_color\":\"orange\",\"line_width\":4,\"x\":{\"field\":\"x\"},\"y\":{\"field\":\"y\"}},\"id\":\"1038\",\"type\":\"Line\"},{\"attributes\":{},\"id\":\"1023\",\"type\":\"WheelZoomTool\"},{\"attributes\":{\"source\":{\"id\":\"1053\"}},\"id\":\"1057\",\"type\":\"CDSView\"},{\"attributes\":{\"axis\":{\"id\":\"1014\"},\"ticker\":null},\"id\":\"1017\",\"type\":\"Grid\"},{\"attributes\":{\"label\":{\"value\":\"Ca\"},\"renderers\":[{\"id\":\"1039\"}]},\"id\":\"1052\",\"type\":\"LegendItem\"},{\"attributes\":{},\"id\":\"1008\",\"type\":\"DataRange1d\"},{\"attributes\":{\"label\":{\"value\":\"Mg\"},\"renderers\":[{\"id\":\"1056\"}]},\"id\":\"1070\",\"type\":\"LegendItem\"},{\"attributes\":{\"data_source\":{\"id\":\"1053\"},\"glyph\":{\"id\":\"1054\"},\"hover_glyph\":null,\"muted_glyph\":null,\"nonselection_glyph\":{\"id\":\"1055\"},\"view\":{\"id\":\"1057\"}},\"id\":\"1056\",\"type\":\"GlyphRenderer\"},{\"attributes\":{\"text\":\"Ca and Mg molality w.r.t. time\"},\"id\":\"1004\",\"type\":\"Title\"},{\"attributes\":{\"items\":[{\"id\":\"1052\"},{\"id\":\"1070\"}]},\"id\":\"1051\",\"type\":\"Legend\"},{\"attributes\":{\"line_alpha\":0.1,\"line_color\":\"green\",\"line_width\":4,\"x\":{\"field\":\"x\"},\"y\":{\"field\":\"y\"}},\"id\":\"1055\",\"type\":\"Line\"},{\"attributes\":{\"data\":{\"x\":{\"__ndarray__\":\"AAAAAAAAAABfn3MLF07DPhb4SFLrYIE/xwA/mTVnoz/WWMLaGDuxP0gx5eiWwrg/iqw1lNqLwj8c6ndha7bIP2Ram8b2WtE/56c4Drxa1j89DRgkfVrbP2Ct2jUhLeA/C2DKwAGt4j+2ErpL4izlP4FaDB6m/eg/HRzsTQzJ7j8gJAuYwC30P9dppKXy9vg/AHSYLy/A/T/b3JiesEQBQOC+DpwzIgVA38Mlx53SB0DeyDzyB4MKQBYwgVt3Mw1AFjWYhuHjD0AKndfYJUoRQIofY+5aohJACqLuA5D6E0CJJHoZxVIVQHh6pSxD/BZAaNDQP8GlGEBXJvxSP08aQEZ8J2a9+BtANdJSeTuiHUAkKH6MuUsfQAq/1M+beiBAAWpq2VpPIUD5FADjGSQiQPC/lezY+CJA6Gor9pfNI0CEDU+vlOUkQFr1udqK/SVAL90kBoEVJ0CTOgFNhC0oQGgibHh6RSlA7MA5I0r7KkD+1HjpJrEsQIJzRpT2Zi5AysNCrWkOMECx4emVsowxQHqlLEMcCzRARGlv8IWJNkAOLbKd7wc5QL3jFB3JtT1ANs07TtExQUD3deCcEUVFQBx8YTJVWElA3SQGgZVrTUCBlUOLbL9QQJMYBFYOyVJA9GxWfa7SVEAH8BZIUNxWQOF6FK5HcVtAQmDl0CIDYEASg8DKoU1iQOOlm8QgmGRAtMh2vp/iZkCF61G4Hi1pQFYOLbKdd2tAJzEIrBzCbUD8qfHSTQZwQG3n+6nxeHJAwcqhRbYLdEBYObTIdp51QPCnxks3MXdAhxbZzvfDeEAfhetRuFZ6QLbz/dR46XtACtejcD18fUCiRbbz/Q5/QB1aZDvfUIBAYOXQItuSgUCkcD0K19SCQIlBYOXQFoRAzczMzMxYhUAQWDm0yJqGQFTjpZvE3IdAmG4Sg8AeiUDb+X5qvGCKQMHKoUW2ootABFYOLbLkjEBI4XoUriaOQHE9CtejaI9AuB6F61FVkEC4HoXrUfaQQLgehetRl5FA4XoUrkc4kkDhehSuR9mSQOF6FK5HepNA4XoUrkcblEDhehSuR7yUQArXo3A9XZVACtejcD3+lUAK16NwPZ+WQArXo3A9QJdA\",\"dtype\":\"float64\",\"order\":\"little\",\"shape\":[105]},\"y\":{\"__ndarray__\":\"BbxcChHTjDz5KhftEHyiPmNcWNSzYmA/4J7nTxvVgT9Y/iGiPQOPPypAb4UL1JU/oi6t4X2wnz/Pnzaq04GkP0ADoECOnKs/6u6V1GQhsT/aEC3DyUe0P7jZabXRSrc/iL1QwHYwuj9slstG5/y8P5WCbi9pjMA/RIfAkUCDwz+fceFASBbIP7+AXrhzYcw/Bkzg1t080D8dVyO70jLSPyE9RQ4RN9U/x5xn7Es21z9pOjsZHCXZPzW0AdiACNs/f9+/eXHi3D8Jw4AlV7HeP8HEH0WdOeA/7DAm/b0U4T+ES8ecZ+zhP+KsiJro8+I/H2lwW1v44z82dR4V//fkP4cx6e+l8OU/rMd9q3Xi5j+1U3O5wdDnP9k+5C1Xv+g/KNcUyOys6T+4rS08L5XqP9Y5BmSvd+s/e6NWmL5X7D9RZ+4h4XvtP+kOYmcKne4/QrKACdy67z9D5zV2iWrwP9mxEYjX9fA/eJeL+E7M8T+sqME0DJ/yP+aRPxh4bvM/e6AVGLI69D+4WFGDaZj1PwNDVrd6zvc/4umVsgzx+T+m8naE0wL8P8xFfCdmvf8/ZmZmZmamAUAxJZLoZZQEQN4f71UrUwdA8Z2Y9WLoCUAw9fOmIlUMQA2mYfiImA5ADVTGv89YEECPqiaIuk8RQNQOf03WKBNAzQaZZOSMFEB3Sgfr/3wVQIqryr4rAhZAIzKs4o0sFkCscwzIXg8WQJSHhVrTvBVA+BkXDoREFUBszywJULMUQIj029eBUxNAYMjqVs9pEkAuVtRgGoYRQM3MzMzMrBBAxxFr8SnAD0CKq8q+K0IOQKgY529C4QxAk6mCUUmdC0BNSkG3l3QKQL6fGi/dZAlAwf9WsmPjB0C3nEtxVZkGQBzTE5Z4gAVABRcrajCNBEBDyk+qfboDQIenV8oyBANATwZHyatzAkC/ZU6XxQQCQHOiXYWUnwFAu37Bbtg2AUDRyyiWW9oAQAouVtRgmgBAtvP91HhpAED/7EeKyDAAQM7Cnnb46/8/jxmojH+f/z+5quy7Inj/P2tgqwSLQ/8/1jkGZK/3/j/fbHNjesL+PzojSnuDr/4//5WVJqWg/j/gEKrU7IH+PzpY/+cwX/4/\",\"dtype\":\"float64\",\"order\":\"little\",\"shape\":[105]}},\"selected\":{\"id\":\"1067\"},\"selection_policy\":{\"id\":\"1068\"}},\"id\":\"1053\",\"type\":\"ColumnDataSource\"},{\"attributes\":{},\"id\":\"1006\",\"type\":\"DataRange1d\"},{\"attributes\":{},\"id\":\"1010\",\"type\":\"LinearScale\"},{\"attributes\":{},\"id\":\"1048\",\"type\":\"Selection\"},{\"attributes\":{\"bottom_units\":\"screen\",\"fill_alpha\":0.5,\"fill_color\":\"lightgrey\",\"left_units\":\"screen\",\"level\":\"overlay\",\"line_alpha\":1.0,\"line_color\":\"black\",\"line_dash\":[4,4],\"line_width\":2,\"right_units\":\"screen\",\"syncable\":false,\"top_units\":\"screen\"},\"id\":\"1028\",\"type\":\"BoxAnnotation\"},{\"attributes\":{},\"id\":\"1027\",\"type\":\"HelpTool\"},{\"attributes\":{},\"id\":\"1012\",\"type\":\"LinearScale\"},{\"attributes\":{},\"id\":\"1049\",\"type\":\"UnionRenderers\"},{\"attributes\":{\"axis_label\":\"time\",\"formatter\":{\"id\":\"1044\"},\"major_label_policy\":{\"id\":\"1043\"},\"ticker\":{\"id\":\"1015\"}},\"id\":\"1014\",\"type\":\"LinearAxis\"},{\"attributes\":{},\"id\":\"1067\",\"type\":\"Selection\"},{\"attributes\":{},\"id\":\"1015\",\"type\":\"BasicTicker\"},{\"attributes\":{},\"id\":\"1068\",\"type\":\"UnionRenderers\"},{\"attributes\":{},\"id\":\"1019\",\"type\":\"BasicTicker\"},{\"attributes\":{},\"id\":\"1043\",\"type\":\"AllLabels\"},{\"attributes\":{},\"id\":\"1025\",\"type\":\"SaveTool\"},{\"attributes\":{},\"id\":\"1044\",\"type\":\"BasicTickFormatter\"}],\"root_ids\":[\"1003\"]},\"title\":\"Bokeh Application\",\"version\":\"2.3.2\"}};\n",
       "  var render_items = [{\"docid\":\"8de7a7d4-b6f6-4257-b0b2-66454862853d\",\"root_ids\":[\"1003\"],\"roots\":{\"1003\":\"eabb282c-fb04-486f-b916-318734981364\"}}];\n",
       "  root.Bokeh.embed.embed_items_notebook(docs_json, render_items);\n",
       "\n",
       "  }\n",
       "  if (root.Bokeh !== undefined) {\n",
       "    embed_document(root);\n",
       "  } else {\n",
       "    var attempts = 0;\n",
       "    var timer = setInterval(function(root) {\n",
       "      if (root.Bokeh !== undefined) {\n",
       "        clearInterval(timer);\n",
       "        embed_document(root);\n",
       "      } else {\n",
       "        attempts++;\n",
       "        if (attempts > 100) {\n",
       "          clearInterval(timer);\n",
       "          console.log(\"Bokeh: ERROR: Unable to run BokehJS code because BokehJS library is missing\");\n",
       "        }\n",
       "      }\n",
       "    }, 10, root)\n",
       "  }\n",
       "})(window);"
      ],
      "application/vnd.bokehjs_exec.v0+json": ""
     },
     "metadata": {
      "application/vnd.bokehjs_exec.v0+json": {
       "id": "1003"
      }
     },
     "output_type": "display_data"
    }
   ],
   "source": [
    "time = data[time_indx, :]  # fetch time from the data matrix\n",
    "fig1 = custom_figure(title=\"Ca and Mg molality w.r.t. time\", y_axis_label=\"Amount of Ca and Mg [mmolal]\")\n",
    "fig1.line(time, data[ca_elem_indx], line_width=4, legend_label=\"Ca\", color=\"orange\")\n",
    "fig1.line(time, data[mg_elem_indx], line_width=4, legend_label=\"Mg\", color=\"green\")\n",
    "show(fig1)"
   ]
  },
  {
   "cell_type": "markdown",
   "metadata": {},
   "source": [
    "We see the dissolution of the calcite along the time, which is aligned with the earlier plot, where the amount of Ca\n",
    "element monotonically grows (getting released)."
   ]
  },
  {
   "cell_type": "code",
   "execution_count": 15,
   "metadata": {},
   "outputs": [
    {
     "data": {
      "text/html": [
       "\n",
       "\n",
       "\n",
       "\n",
       "\n",
       "\n",
       "  <div class=\"bk-root\" id=\"6747eea9-2d75-40d2-8f23-75b28bce65d4\" data-root-id=\"1143\"></div>\n"
      ]
     },
     "metadata": {},
     "output_type": "display_data"
    },
    {
     "data": {
      "application/javascript": [
       "(function(root) {\n",
       "  function embed_document(root) {\n",
       "    \n",
       "  var docs_json = {\"b97cc249-4729-4df8-81c5-bad69dae4f9d\":{\"defs\":[],\"roots\":{\"references\":[{\"attributes\":{\"below\":[{\"id\":\"1154\"}],\"center\":[{\"id\":\"1157\"},{\"id\":\"1161\"},{\"id\":\"1191\"}],\"height\":300,\"left\":[{\"id\":\"1158\"}],\"renderers\":[{\"id\":\"1179\"}],\"title\":{\"id\":\"1144\"},\"toolbar\":{\"id\":\"1169\"},\"x_range\":{\"id\":\"1146\"},\"x_scale\":{\"id\":\"1150\"},\"y_range\":{\"id\":\"1148\"},\"y_scale\":{\"id\":\"1152\"}},\"id\":\"1143\",\"subtype\":\"Figure\",\"type\":\"Plot\"},{\"attributes\":{},\"id\":\"1186\",\"type\":\"AllLabels\"},{\"attributes\":{},\"id\":\"1148\",\"type\":\"DataRange1d\"},{\"attributes\":{},\"id\":\"1187\",\"type\":\"BasicTickFormatter\"},{\"attributes\":{\"active_multi\":null,\"tools\":[{\"id\":\"1162\"},{\"id\":\"1163\"},{\"id\":\"1164\"},{\"id\":\"1165\"},{\"id\":\"1166\"},{\"id\":\"1167\"}]},\"id\":\"1169\",\"type\":\"Toolbar\"},{\"attributes\":{\"axis\":{\"id\":\"1158\"},\"dimension\":1,\"ticker\":null},\"id\":\"1161\",\"type\":\"Grid\"},{\"attributes\":{\"line_color\":\"#1f77b4\",\"line_width\":4,\"x\":{\"field\":\"x\"},\"y\":{\"field\":\"y\"}},\"id\":\"1177\",\"type\":\"Line\"},{\"attributes\":{\"line_alpha\":0.1,\"line_color\":\"#1f77b4\",\"line_width\":4,\"x\":{\"field\":\"x\"},\"y\":{\"field\":\"y\"}},\"id\":\"1178\",\"type\":\"Line\"},{\"attributes\":{\"data_source\":{\"id\":\"1176\"},\"glyph\":{\"id\":\"1177\"},\"hover_glyph\":null,\"muted_glyph\":null,\"nonselection_glyph\":{\"id\":\"1178\"},\"view\":{\"id\":\"1180\"}},\"id\":\"1179\",\"type\":\"GlyphRenderer\"},{\"attributes\":{},\"id\":\"1146\",\"type\":\"DataRange1d\"},{\"attributes\":{\"axis\":{\"id\":\"1154\"},\"ticker\":null},\"id\":\"1157\",\"type\":\"Grid\"},{\"attributes\":{},\"id\":\"1183\",\"type\":\"AllLabels\"},{\"attributes\":{},\"id\":\"1155\",\"type\":\"BasicTicker\"},{\"attributes\":{},\"id\":\"1184\",\"type\":\"BasicTickFormatter\"},{\"attributes\":{},\"id\":\"1189\",\"type\":\"UnionRenderers\"},{\"attributes\":{\"axis_label\":\"time\",\"formatter\":{\"id\":\"1184\"},\"major_label_policy\":{\"id\":\"1183\"},\"ticker\":{\"id\":\"1155\"}},\"id\":\"1154\",\"type\":\"LinearAxis\"},{\"attributes\":{},\"id\":\"1188\",\"type\":\"Selection\"},{\"attributes\":{},\"id\":\"1150\",\"type\":\"LinearScale\"},{\"attributes\":{},\"id\":\"1152\",\"type\":\"LinearScale\"},{\"attributes\":{},\"id\":\"1163\",\"type\":\"WheelZoomTool\"},{\"attributes\":{\"axis_label\":\"Mass of Calcite [g]\",\"formatter\":{\"id\":\"1187\"},\"major_label_policy\":{\"id\":\"1186\"},\"ticker\":{\"id\":\"1159\"}},\"id\":\"1158\",\"type\":\"LinearAxis\"},{\"attributes\":{\"items\":[{\"id\":\"1192\"}]},\"id\":\"1191\",\"type\":\"Legend\"},{\"attributes\":{\"source\":{\"id\":\"1176\"}},\"id\":\"1180\",\"type\":\"CDSView\"},{\"attributes\":{},\"id\":\"1159\",\"type\":\"BasicTicker\"},{\"attributes\":{\"text\":\"Calcite dissolution w.r.t. time\"},\"id\":\"1144\",\"type\":\"Title\"},{\"attributes\":{},\"id\":\"1167\",\"type\":\"HelpTool\"},{\"attributes\":{\"bottom_units\":\"screen\",\"fill_alpha\":0.5,\"fill_color\":\"lightgrey\",\"left_units\":\"screen\",\"level\":\"overlay\",\"line_alpha\":1.0,\"line_color\":\"black\",\"line_dash\":[4,4],\"line_width\":2,\"right_units\":\"screen\",\"syncable\":false,\"top_units\":\"screen\"},\"id\":\"1168\",\"type\":\"BoxAnnotation\"},{\"attributes\":{},\"id\":\"1162\",\"type\":\"PanTool\"},{\"attributes\":{\"overlay\":{\"id\":\"1168\"}},\"id\":\"1164\",\"type\":\"BoxZoomTool\"},{\"attributes\":{},\"id\":\"1165\",\"type\":\"SaveTool\"},{\"attributes\":{},\"id\":\"1166\",\"type\":\"ResetTool\"},{\"attributes\":{\"label\":{\"value\":\"Calcite\"},\"renderers\":[{\"id\":\"1179\"}]},\"id\":\"1192\",\"type\":\"LegendItem\"},{\"attributes\":{\"data\":{\"x\":{\"__ndarray__\":\"AAAAAAAAAABfn3MLF07DPhb4SFLrYIE/xwA/mTVnoz/WWMLaGDuxP0gx5eiWwrg/iqw1lNqLwj8c6ndha7bIP2Ram8b2WtE/56c4Drxa1j89DRgkfVrbP2Ct2jUhLeA/C2DKwAGt4j+2ErpL4izlP4FaDB6m/eg/HRzsTQzJ7j8gJAuYwC30P9dppKXy9vg/AHSYLy/A/T/b3JiesEQBQOC+DpwzIgVA38Mlx53SB0DeyDzyB4MKQBYwgVt3Mw1AFjWYhuHjD0AKndfYJUoRQIofY+5aohJACqLuA5D6E0CJJHoZxVIVQHh6pSxD/BZAaNDQP8GlGEBXJvxSP08aQEZ8J2a9+BtANdJSeTuiHUAkKH6MuUsfQAq/1M+beiBAAWpq2VpPIUD5FADjGSQiQPC/lezY+CJA6Gor9pfNI0CEDU+vlOUkQFr1udqK/SVAL90kBoEVJ0CTOgFNhC0oQGgibHh6RSlA7MA5I0r7KkD+1HjpJrEsQIJzRpT2Zi5AysNCrWkOMECx4emVsowxQHqlLEMcCzRARGlv8IWJNkAOLbKd7wc5QL3jFB3JtT1ANs07TtExQUD3deCcEUVFQBx8YTJVWElA3SQGgZVrTUCBlUOLbL9QQJMYBFYOyVJA9GxWfa7SVEAH8BZIUNxWQOF6FK5HcVtAQmDl0CIDYEASg8DKoU1iQOOlm8QgmGRAtMh2vp/iZkCF61G4Hi1pQFYOLbKdd2tAJzEIrBzCbUD8qfHSTQZwQG3n+6nxeHJAwcqhRbYLdEBYObTIdp51QPCnxks3MXdAhxbZzvfDeEAfhetRuFZ6QLbz/dR46XtACtejcD18fUCiRbbz/Q5/QB1aZDvfUIBAYOXQItuSgUCkcD0K19SCQIlBYOXQFoRAzczMzMxYhUAQWDm0yJqGQFTjpZvE3IdAmG4Sg8AeiUDb+X5qvGCKQMHKoUW2ootABFYOLbLkjEBI4XoUriaOQHE9CtejaI9AuB6F61FVkEC4HoXrUfaQQLgehetRl5FA4XoUrkc4kkDhehSuR9mSQOF6FK5HepNA4XoUrkcblEDhehSuR7yUQArXo3A9XZVACtejcD3+lUAK16NwPZ+WQArXo3A9QJdA\",\"dtype\":\"float64\",\"order\":\"little\",\"shape\":[105]},\"y\":{\"__ndarray__\":\"AAAAAAAAWUAAAAAAAABZQBb7y+7J/1hAeqUsQxz/WEAf9GxWff5YQKCJsOHp/VhAkxgEVg79WEA/NV66SfxYQIEExY8x+1hAWKg1zTv6WEBMN4lBYPlYQDGZKhiV+FhAB84ZUdr3WEC6SQwCK/dYQJHtfD819lhA1CtlGeL0WEA0orQ3+PJYQDBMpgpG8VhAwcqhRbbvWEA17zhFR+5YQCNKe4Mv7FhALUMc6+LqWEA9m1Wfq+lYQHgLJCh+6FhAyAc9m1XnWECneccpOuZYQIxK6gQ05VhAeHqlLEPkWEB6Nqs+V+NYQC6QoPgx4lhAfoy5awnhWEBHcvkP6d9YQN5xio7k3lhAklz+Q/rdWEC+MJkqGN1YQEcDeAsk3FhApb3BFybbWEBYqDXNO9pYQCh+jLlr2VhAW7G/7J7YWEDImLuWkNdYQOauJeSD1lhAtvP91HjVWEBN845TdNRYQKyt2F9201hAfdCzWfXRWECNl24Sg9BYQBdIUPwYz1hAfT81XrrNWEDPZtXnastYQLKd76fGx1hA+MJkqmDEWEATYcPTK8FYQEGC4seYu1hAbcX+snu2WED129eBc65YQCUGgZVDp1hAeJyiI7mgWEAfhetRuJpYQD55WKg1lVhAMnctIR+QWEAIrBxaZItYQHZxGw3ggVhAhA1Pr5R5WED1SlmGOHJYQDJVMCqpa1hA0m9fB85lWEDG3LWEfGBYQJ2AJsKGW1hAtFn1udpWWEBYObTIdlJYQJkqGJXUSVhA4lgXt9FEWECV1AloIkBYQPkP6bevO1hArK3YX3Y3WEDsUbgehTNYQAfOGVHaL1hAhjjWxW0sWEATYcPTKylYQBKlvcEXJlhAYVRSJ6AhWEAZ4lgXtx1YQOC+DpwzGlhApSxDHOsWWEBO0ZFc/hNYQKH4MeauEVhAq8/VVuwPWED1SlmGOA5YQKrx0k1iDFhA5j+k374KWEC9UpYhjglYQM07TtGRCFhAOiNKe4MHWECDUUmdgAZYQAu1pnnHBVhAfh04Z0QFWEAUP8bctQRYQGq8dJMYBFhAz/dT46UDWEClTkATYQNYQPOOU3QkA1hAtFn1udoCWEB0JJf/kAJYQCfChqdXAlhA\",\"dtype\":\"float64\",\"order\":\"little\",\"shape\":[105]}},\"selected\":{\"id\":\"1188\"},\"selection_policy\":{\"id\":\"1189\"}},\"id\":\"1176\",\"type\":\"ColumnDataSource\"}],\"root_ids\":[\"1143\"]},\"title\":\"Bokeh Application\",\"version\":\"2.3.2\"}};\n",
       "  var render_items = [{\"docid\":\"b97cc249-4729-4df8-81c5-bad69dae4f9d\",\"root_ids\":[\"1143\"],\"roots\":{\"1143\":\"6747eea9-2d75-40d2-8f23-75b28bce65d4\"}}];\n",
       "  root.Bokeh.embed.embed_items_notebook(docs_json, render_items);\n",
       "\n",
       "  }\n",
       "  if (root.Bokeh !== undefined) {\n",
       "    embed_document(root);\n",
       "  } else {\n",
       "    var attempts = 0;\n",
       "    var timer = setInterval(function(root) {\n",
       "      if (root.Bokeh !== undefined) {\n",
       "        clearInterval(timer);\n",
       "        embed_document(root);\n",
       "      } else {\n",
       "        attempts++;\n",
       "        if (attempts > 100) {\n",
       "          clearInterval(timer);\n",
       "          console.log(\"Bokeh: ERROR: Unable to run BokehJS code because BokehJS library is missing\");\n",
       "        }\n",
       "      }\n",
       "    }, 10, root)\n",
       "  }\n",
       "})(window);"
      ],
      "application/vnd.bokehjs_exec.v0+json": ""
     },
     "metadata": {
      "application/vnd.bokehjs_exec.v0+json": {
       "id": "1143"
      }
     },
     "output_type": "display_data"
    }
   ],
   "source": [
    "fig2 = custom_figure(title=\"Calcite dissolution w.r.t. time\", y_axis_label=\"Mass of Calcite [g]\")\n",
    "fig2.line(time, data[calcite_indx], line_width=4, legend_label=\"Calcite\")\n",
    "show(fig2)"
   ]
  },
  {
   "cell_type": "markdown",
   "metadata": {},
   "source": [
    "Similar correspondence can be seen from the dolomite plot with respect to time. We see below that amount of\n",
    "dolomite first decreases and then grows due to the initial dissolution and later precipitation of it in the\n",
    "chemical system."
   ]
  },
  {
   "cell_type": "code",
   "execution_count": 16,
   "metadata": {},
   "outputs": [
    {
     "data": {
      "text/html": [
       "\n",
       "\n",
       "\n",
       "\n",
       "\n",
       "\n",
       "  <div class=\"bk-root\" id=\"b5f139b8-c052-441a-94de-7c834cf6503f\" data-root-id=\"1265\"></div>\n"
      ]
     },
     "metadata": {},
     "output_type": "display_data"
    },
    {
     "data": {
      "application/javascript": [
       "(function(root) {\n",
       "  function embed_document(root) {\n",
       "    \n",
       "  var docs_json = {\"56de59eb-f4df-4240-896a-a91da87dd01e\":{\"defs\":[],\"roots\":{\"references\":[{\"attributes\":{\"below\":[{\"id\":\"1276\"}],\"center\":[{\"id\":\"1279\"},{\"id\":\"1283\"},{\"id\":\"1313\"}],\"height\":300,\"left\":[{\"id\":\"1280\"}],\"renderers\":[{\"id\":\"1301\"}],\"title\":{\"id\":\"1266\"},\"toolbar\":{\"id\":\"1291\"},\"x_range\":{\"id\":\"1268\"},\"x_scale\":{\"id\":\"1272\"},\"y_range\":{\"id\":\"1270\"},\"y_scale\":{\"id\":\"1274\"}},\"id\":\"1265\",\"subtype\":\"Figure\",\"type\":\"Plot\"},{\"attributes\":{},\"id\":\"1268\",\"type\":\"DataRange1d\"},{\"attributes\":{\"label\":{\"value\":\"Dolomite\"},\"renderers\":[{\"id\":\"1301\"}]},\"id\":\"1314\",\"type\":\"LegendItem\"},{\"attributes\":{},\"id\":\"1270\",\"type\":\"DataRange1d\"},{\"attributes\":{\"data_source\":{\"id\":\"1298\"},\"glyph\":{\"id\":\"1299\"},\"hover_glyph\":null,\"muted_glyph\":null,\"nonselection_glyph\":{\"id\":\"1300\"},\"view\":{\"id\":\"1302\"}},\"id\":\"1301\",\"type\":\"GlyphRenderer\"},{\"attributes\":{\"line_color\":\"coral\",\"line_width\":4,\"x\":{\"field\":\"x\"},\"y\":{\"field\":\"y\"}},\"id\":\"1299\",\"type\":\"Line\"},{\"attributes\":{},\"id\":\"1308\",\"type\":\"AllLabels\"},{\"attributes\":{},\"id\":\"1309\",\"type\":\"BasicTickFormatter\"},{\"attributes\":{},\"id\":\"1274\",\"type\":\"LinearScale\"},{\"attributes\":{\"active_multi\":null,\"tools\":[{\"id\":\"1284\"},{\"id\":\"1285\"},{\"id\":\"1286\"},{\"id\":\"1287\"},{\"id\":\"1288\"},{\"id\":\"1289\"}]},\"id\":\"1291\",\"type\":\"Toolbar\"},{\"attributes\":{\"line_alpha\":0.1,\"line_color\":\"coral\",\"line_width\":4,\"x\":{\"field\":\"x\"},\"y\":{\"field\":\"y\"}},\"id\":\"1300\",\"type\":\"Line\"},{\"attributes\":{\"bottom_units\":\"screen\",\"fill_alpha\":0.5,\"fill_color\":\"lightgrey\",\"left_units\":\"screen\",\"level\":\"overlay\",\"line_alpha\":1.0,\"line_color\":\"black\",\"line_dash\":[4,4],\"line_width\":2,\"right_units\":\"screen\",\"syncable\":false,\"top_units\":\"screen\"},\"id\":\"1290\",\"type\":\"BoxAnnotation\"},{\"attributes\":{\"axis\":{\"id\":\"1276\"},\"ticker\":null},\"id\":\"1279\",\"type\":\"Grid\"},{\"attributes\":{\"axis_label\":\"Mass of Dolomite [g]\",\"formatter\":{\"id\":\"1309\"},\"major_label_policy\":{\"id\":\"1308\"},\"ticker\":{\"id\":\"1281\"}},\"id\":\"1280\",\"type\":\"LinearAxis\"},{\"attributes\":{\"items\":[{\"id\":\"1314\"}]},\"id\":\"1313\",\"type\":\"Legend\"},{\"attributes\":{\"axis\":{\"id\":\"1280\"},\"dimension\":1,\"ticker\":null},\"id\":\"1283\",\"type\":\"Grid\"},{\"attributes\":{},\"id\":\"1277\",\"type\":\"BasicTicker\"},{\"attributes\":{},\"id\":\"1281\",\"type\":\"BasicTicker\"},{\"attributes\":{},\"id\":\"1288\",\"type\":\"ResetTool\"},{\"attributes\":{},\"id\":\"1310\",\"type\":\"Selection\"},{\"attributes\":{\"axis_label\":\"time\",\"formatter\":{\"id\":\"1306\"},\"major_label_policy\":{\"id\":\"1305\"},\"ticker\":{\"id\":\"1277\"}},\"id\":\"1276\",\"type\":\"LinearAxis\"},{\"attributes\":{},\"id\":\"1287\",\"type\":\"SaveTool\"},{\"attributes\":{},\"id\":\"1311\",\"type\":\"UnionRenderers\"},{\"attributes\":{\"overlay\":{\"id\":\"1290\"}},\"id\":\"1286\",\"type\":\"BoxZoomTool\"},{\"attributes\":{},\"id\":\"1284\",\"type\":\"PanTool\"},{\"attributes\":{\"source\":{\"id\":\"1298\"}},\"id\":\"1302\",\"type\":\"CDSView\"},{\"attributes\":{},\"id\":\"1305\",\"type\":\"AllLabels\"},{\"attributes\":{},\"id\":\"1285\",\"type\":\"WheelZoomTool\"},{\"attributes\":{},\"id\":\"1306\",\"type\":\"BasicTickFormatter\"},{\"attributes\":{\"data\":{\"x\":{\"__ndarray__\":\"AAAAAAAAAABfn3MLF07DPhb4SFLrYIE/xwA/mTVnoz/WWMLaGDuxP0gx5eiWwrg/iqw1lNqLwj8c6ndha7bIP2Ram8b2WtE/56c4Drxa1j89DRgkfVrbP2Ct2jUhLeA/C2DKwAGt4j+2ErpL4izlP4FaDB6m/eg/HRzsTQzJ7j8gJAuYwC30P9dppKXy9vg/AHSYLy/A/T/b3JiesEQBQOC+DpwzIgVA38Mlx53SB0DeyDzyB4MKQBYwgVt3Mw1AFjWYhuHjD0AKndfYJUoRQIofY+5aohJACqLuA5D6E0CJJHoZxVIVQHh6pSxD/BZAaNDQP8GlGEBXJvxSP08aQEZ8J2a9+BtANdJSeTuiHUAkKH6MuUsfQAq/1M+beiBAAWpq2VpPIUD5FADjGSQiQPC/lezY+CJA6Gor9pfNI0CEDU+vlOUkQFr1udqK/SVAL90kBoEVJ0CTOgFNhC0oQGgibHh6RSlA7MA5I0r7KkD+1HjpJrEsQIJzRpT2Zi5AysNCrWkOMECx4emVsowxQHqlLEMcCzRARGlv8IWJNkAOLbKd7wc5QL3jFB3JtT1ANs07TtExQUD3deCcEUVFQBx8YTJVWElA3SQGgZVrTUCBlUOLbL9QQJMYBFYOyVJA9GxWfa7SVEAH8BZIUNxWQOF6FK5HcVtAQmDl0CIDYEASg8DKoU1iQOOlm8QgmGRAtMh2vp/iZkCF61G4Hi1pQFYOLbKdd2tAJzEIrBzCbUD8qfHSTQZwQG3n+6nxeHJAwcqhRbYLdEBYObTIdp51QPCnxks3MXdAhxbZzvfDeEAfhetRuFZ6QLbz/dR46XtACtejcD18fUCiRbbz/Q5/QB1aZDvfUIBAYOXQItuSgUCkcD0K19SCQIlBYOXQFoRAzczMzMxYhUAQWDm0yJqGQFTjpZvE3IdAmG4Sg8AeiUDb+X5qvGCKQMHKoUW2ootABFYOLbLkjEBI4XoUriaOQHE9CtejaI9AuB6F61FVkEC4HoXrUfaQQLgehetRl5FA4XoUrkc4kkDhehSuR9mSQOF6FK5HepNA4XoUrkcblEDhehSuR7yUQArXo3A9XZVACtejcD3+lUAK16NwPZ+WQArXo3A9QJdA\",\"dtype\":\"float64\",\"order\":\"little\",\"shape\":[105]},\"y\":{\"__ndarray__\":\"AAAAAAAASUAAAAAAAABJQHKKjuTy/0hAxyk6ksv/SEAdyeU/pP9IQNbFbTSA/0hA1zTvOEX/SEA7AU2EDf9IQILix5i7/khALSEf9Gz+SEA8vVKWIf5IQK62Yn/Z/UhAhA1Pr5T9SEC+wRcmU/1IQHctIR/0/EhAv30dOGf8SEAWak3zjvtIQPvL7snD+khAC0YldQL6SEBF2PD0SvlIQHEbDeAt+EhA5fIf0m/3SECC4seYu/ZIQCDSb18H9khAhXzQs1n1SEBNhA1Pr/RIQHnpJjEI9EhAbAn5oGfzSEBfKcsQx/JIQG6jAbwF8khAfh04Z0TxSEBUUiegifBIQI/k8h/S70hALNSa5h3vSECRfvs6cO5IQJLLf0i/7UhA93XgnBHtSEBcIEHxY+xIQIiFWtO860hAF0hQ/BjrSEBuNIC3QOpIQCh+jLlr6UhARiV1AproSEBkzF1LyOdIQEku/yH95khAkst/SL/lSECjI7n8h+RIQHo2qz5X40hAtaZ5xyniSECqYFRSJ+BIQIZa07zj3EhA4JwRpb3ZSEBYyjLEsdZIQCntDb4w0UhAwFsgQfHLSEBPHhZqTcNIQJeQD3o2u0hAQYLix5izSEDqlbIMcaxIQFmGONbFpUhAj1N0JJefSECL/WX35JlIQKyL22gAj0hA1xLyQc+GSEDhehSuR4FIQPVKWYY4fkhABTQRNjx9SECgibDh6X1IQI/k8h/Sf0hAirDh6ZWCSEBnRGlv8IVIQIMvTKYKjkhAM8SxLm6TSEA4+MJkqphIQD2bVZ+rnUhAtTf4wmSiSEB0tRX7y6ZIQLRZ9bnaqkhAO99PjZeuSEALRiV1ArJIQOlILv8htUhA097gC5O5SEBMN4lBYL1IQKqCUUmdwEhAz2bV52rDSEBLWYY41sVIQA4tsp3vx0hAmpmZmZnJSEB7FK5H4cpIQNxGA3gLzEhAaJHtfD/NSECu2F92T85IQDsBTYQNz0hAVg4tsp3PSEAqqRPQRNBIQMX+snvy0EhA/mX35GHRSED99nXgnNFIQFK4HoXr0UhAih9j7lrSSEDf4AuTqdJIQPvL7snD0khAtFn1udrSSEAldQKaCNNIQPrt68A500hA\",\"dtype\":\"float64\",\"order\":\"little\",\"shape\":[105]}},\"selected\":{\"id\":\"1310\"},\"selection_policy\":{\"id\":\"1311\"}},\"id\":\"1298\",\"type\":\"ColumnDataSource\"},{\"attributes\":{},\"id\":\"1272\",\"type\":\"LinearScale\"},{\"attributes\":{\"text\":\"Dolomite behaviour w.r.t. time\"},\"id\":\"1266\",\"type\":\"Title\"},{\"attributes\":{},\"id\":\"1289\",\"type\":\"HelpTool\"}],\"root_ids\":[\"1265\"]},\"title\":\"Bokeh Application\",\"version\":\"2.3.2\"}};\n",
       "  var render_items = [{\"docid\":\"56de59eb-f4df-4240-896a-a91da87dd01e\",\"root_ids\":[\"1265\"],\"roots\":{\"1265\":\"b5f139b8-c052-441a-94de-7c834cf6503f\"}}];\n",
       "  root.Bokeh.embed.embed_items_notebook(docs_json, render_items);\n",
       "\n",
       "  }\n",
       "  if (root.Bokeh !== undefined) {\n",
       "    embed_document(root);\n",
       "  } else {\n",
       "    var attempts = 0;\n",
       "    var timer = setInterval(function(root) {\n",
       "      if (root.Bokeh !== undefined) {\n",
       "        clearInterval(timer);\n",
       "        embed_document(root);\n",
       "      } else {\n",
       "        attempts++;\n",
       "        if (attempts > 100) {\n",
       "          clearInterval(timer);\n",
       "          console.log(\"Bokeh: ERROR: Unable to run BokehJS code because BokehJS library is missing\");\n",
       "        }\n",
       "      }\n",
       "    }, 10, root)\n",
       "  }\n",
       "})(window);"
      ],
      "application/vnd.bokehjs_exec.v0+json": ""
     },
     "metadata": {
      "application/vnd.bokehjs_exec.v0+json": {
       "id": "1265"
      }
     },
     "output_type": "display_data"
    }
   ],
   "source": [
    "fig3 = custom_figure(title=\"Dolomite behaviour w.r.t. time\", y_axis_label=\"Mass of Dolomite [g]\")\n",
    "fig3.line(time, data[dolomite_indx], line_width=4, legend_label=\"Dolomite\", color=\"coral\")\n",
    "show(fig3)"
   ]
  },
  {
   "cell_type": "markdown",
   "metadata": {},
   "source": [
    "As this happens, the chemical system becomes less acidic with pH growing with time:"
   ]
  },
  {
   "cell_type": "code",
   "execution_count": 17,
   "metadata": {
    "lines_to_next_cell": 2
   },
   "outputs": [
    {
     "data": {
      "text/html": [
       "\n",
       "\n",
       "\n",
       "\n",
       "\n",
       "\n",
       "  <div class=\"bk-root\" id=\"0027f0b1-1d16-4924-8eb9-d33d92dcaebe\" data-root-id=\"1397\"></div>\n"
      ]
     },
     "metadata": {},
     "output_type": "display_data"
    },
    {
     "data": {
      "application/javascript": [
       "(function(root) {\n",
       "  function embed_document(root) {\n",
       "    \n",
       "  var docs_json = {\"41f8ad6d-69d1-408e-89a4-ef60fc1ebc6a\":{\"defs\":[],\"roots\":{\"references\":[{\"attributes\":{\"below\":[{\"id\":\"1408\"}],\"center\":[{\"id\":\"1411\"},{\"id\":\"1415\"}],\"height\":300,\"left\":[{\"id\":\"1412\"}],\"renderers\":[{\"id\":\"1433\"}],\"title\":{\"id\":\"1398\"},\"toolbar\":{\"id\":\"1423\"},\"x_range\":{\"id\":\"1400\"},\"x_scale\":{\"id\":\"1404\"},\"y_range\":{\"id\":\"1402\"},\"y_scale\":{\"id\":\"1406\"}},\"id\":\"1397\",\"subtype\":\"Figure\",\"type\":\"Plot\"},{\"attributes\":{},\"id\":\"1402\",\"type\":\"DataRange1d\"},{\"attributes\":{},\"id\":\"1404\",\"type\":\"LinearScale\"},{\"attributes\":{\"axis_label\":\"time\",\"formatter\":{\"id\":\"1470\"},\"major_label_policy\":{\"id\":\"1469\"},\"ticker\":{\"id\":\"1409\"}},\"id\":\"1408\",\"type\":\"LinearAxis\"},{\"attributes\":{},\"id\":\"1469\",\"type\":\"AllLabels\"},{\"attributes\":{},\"id\":\"1470\",\"type\":\"BasicTickFormatter\"},{\"attributes\":{\"active_multi\":null,\"tools\":[{\"id\":\"1416\"},{\"id\":\"1417\"},{\"id\":\"1418\"},{\"id\":\"1419\"},{\"id\":\"1420\"},{\"id\":\"1421\"}]},\"id\":\"1423\",\"type\":\"Toolbar\"},{\"attributes\":{},\"id\":\"1406\",\"type\":\"LinearScale\"},{\"attributes\":{\"source\":{\"id\":\"1430\"}},\"id\":\"1434\",\"type\":\"CDSView\"},{\"attributes\":{},\"id\":\"1400\",\"type\":\"DataRange1d\"},{\"attributes\":{},\"id\":\"1409\",\"type\":\"BasicTicker\"},{\"attributes\":{\"axis\":{\"id\":\"1408\"},\"ticker\":null},\"id\":\"1411\",\"type\":\"Grid\"},{\"attributes\":{},\"id\":\"1417\",\"type\":\"WheelZoomTool\"},{\"attributes\":{\"text\":\"pH behaviour w.r.t. time\"},\"id\":\"1398\",\"type\":\"Title\"},{\"attributes\":{\"data\":{\"x\":{\"__ndarray__\":\"AAAAAAAAAABfn3MLF07DPhb4SFLrYIE/xwA/mTVnoz/WWMLaGDuxP0gx5eiWwrg/iqw1lNqLwj8c6ndha7bIP2Ram8b2WtE/56c4Drxa1j89DRgkfVrbP2Ct2jUhLeA/C2DKwAGt4j+2ErpL4izlP4FaDB6m/eg/HRzsTQzJ7j8gJAuYwC30P9dppKXy9vg/AHSYLy/A/T/b3JiesEQBQOC+DpwzIgVA38Mlx53SB0DeyDzyB4MKQBYwgVt3Mw1AFjWYhuHjD0AKndfYJUoRQIofY+5aohJACqLuA5D6E0CJJHoZxVIVQHh6pSxD/BZAaNDQP8GlGEBXJvxSP08aQEZ8J2a9+BtANdJSeTuiHUAkKH6MuUsfQAq/1M+beiBAAWpq2VpPIUD5FADjGSQiQPC/lezY+CJA6Gor9pfNI0CEDU+vlOUkQFr1udqK/SVAL90kBoEVJ0CTOgFNhC0oQGgibHh6RSlA7MA5I0r7KkD+1HjpJrEsQIJzRpT2Zi5AysNCrWkOMECx4emVsowxQHqlLEMcCzRARGlv8IWJNkAOLbKd7wc5QL3jFB3JtT1ANs07TtExQUD3deCcEUVFQBx8YTJVWElA3SQGgZVrTUCBlUOLbL9QQJMYBFYOyVJA9GxWfa7SVEAH8BZIUNxWQOF6FK5HcVtAQmDl0CIDYEASg8DKoU1iQOOlm8QgmGRAtMh2vp/iZkCF61G4Hi1pQFYOLbKdd2tAJzEIrBzCbUD8qfHSTQZwQG3n+6nxeHJAwcqhRbYLdEBYObTIdp51QPCnxks3MXdAhxbZzvfDeEAfhetRuFZ6QLbz/dR46XtACtejcD18fUCiRbbz/Q5/QB1aZDvfUIBAYOXQItuSgUCkcD0K19SCQIlBYOXQFoRAzczMzMxYhUAQWDm0yJqGQFTjpZvE3IdAmG4Sg8AeiUDb+X5qvGCKQMHKoUW2ootABFYOLbLkjEBI4XoUriaOQHE9CtejaI9AuB6F61FVkEC4HoXrUfaQQLgehetRl5FA4XoUrkc4kkDhehSuR9mSQOF6FK5HepNA4XoUrkcblEDhehSuR7yUQArXo3A9XZVACtejcD3+lUAK16NwPZ+WQArXo3A9QJdA\",\"dtype\":\"float64\",\"order\":\"little\",\"shape\":[105]},\"y\":{\"__ndarray__\":\"O8eA7PUuCUA7x4Ds9S4JQHwPlxx3SglAiIVa07yjCUC+3v3xXvUJQDoGZK93PwpA0AoMWd2qCkCBW3fzVAcLQIV3uYjvhAtAste7P97rC0DCacGLvkIMQCBe1y/YjQxAcjPcgM/PDEBDrWnecQoNQPCiryDNWA1AlZ9U+3S8DUADYDyDhj4OQIPdsG1Rpg5AzEV8J2b9DkAsgv+tZEcPQO317o/3qg9Ao0CfyJPkD0DrOel94wsQQKSIDKt4IxBAYf2fw3w5EEA9m1Wfq00QQABSmzi5XxBAcqd0sP5vEEAeG4F4XX8QQP0wQni0kRBAbCbfbHOjEEAyPWGJB7QQQMKjjSPWwhBAAOMZNPTPEECxFp8CYNwQQAwfEVMi6RBAEhQ/xtz1EECojH+fcQERQM9OBkfJCxFAvcYuUb0VEUCmCkYldSIRQHS1FfvLLhFACty6m6c6EUC8V61M+EURQOI7MevFUBFAqbwd4bRgEUDI0ocuqG8RQK98lufBfRFAQkP/BBeLEUBU46WbxKARQFPL1voiwRFAduCcEaXdEUCeew+XHPcRQP9byY6NIBJAT135LM9DEkAtz4O7s3YSQI7pCUs8oBJA+u3rwDnDEkAao3VUNeESQEJg5dAi+xJAi6azk8ERE0BL5e0IpyUTQAoRcAhVShNA9aEL6ltmE0CyutVz0nsTQCMQr+sXjBNAnG1uTE+YE0DEd2LWi6ETQH/Bbti2qBNAPGu3XWiuE0Deq1Ym/LITQEOQgxJmuhNAdcjNcAO+E0CMLQQ5KMETQIdtizIbxBNA9P3UeOnGE0BhGoaPiMkTQLIRiNf1yxNA5x2n6EjOE0D/eK9amdATQIleRrHc0hNA2ZlC5zXWE0Ap7Q2+MNkTQM7fhEIE3BNAO3DOiNLeE0DFA8qmXOETQMGLvoI04xNATS1b64vkE0BnuAGfH+YTQLlTOlj/5xNARGlv8IXpE0CYwK27eeoTQEHxY8xd6xNAzR5oBYbsE0DLnC6Lie0TQJKWytsR7hNAH/RsVn3uE0BX7C+7J+8TQMdGIF7X7xNAObnfoSjwE0DjGTT0T/ATQOPHmLuW8BNA4q/JGvXwE0D+DkWBPvETQOHRxhFr8RNA\",\"dtype\":\"float64\",\"order\":\"little\",\"shape\":[105]}},\"selected\":{\"id\":\"1474\"},\"selection_policy\":{\"id\":\"1475\"}},\"id\":\"1430\",\"type\":\"ColumnDataSource\"},{\"attributes\":{\"axis_label\":\"pH [-]\",\"formatter\":{\"id\":\"1473\"},\"major_label_policy\":{\"id\":\"1472\"},\"ticker\":{\"id\":\"1413\"}},\"id\":\"1412\",\"type\":\"LinearAxis\"},{\"attributes\":{},\"id\":\"1472\",\"type\":\"AllLabels\"},{\"attributes\":{\"bottom_units\":\"screen\",\"fill_alpha\":0.5,\"fill_color\":\"lightgrey\",\"left_units\":\"screen\",\"level\":\"overlay\",\"line_alpha\":1.0,\"line_color\":\"black\",\"line_dash\":[4,4],\"line_width\":2,\"right_units\":\"screen\",\"syncable\":false,\"top_units\":\"screen\"},\"id\":\"1422\",\"type\":\"BoxAnnotation\"},{\"attributes\":{\"axis\":{\"id\":\"1412\"},\"dimension\":1,\"ticker\":null},\"id\":\"1415\",\"type\":\"Grid\"},{\"attributes\":{},\"id\":\"1473\",\"type\":\"BasicTickFormatter\"},{\"attributes\":{},\"id\":\"1413\",\"type\":\"BasicTicker\"},{\"attributes\":{},\"id\":\"1421\",\"type\":\"HelpTool\"},{\"attributes\":{},\"id\":\"1416\",\"type\":\"PanTool\"},{\"attributes\":{\"overlay\":{\"id\":\"1422\"}},\"id\":\"1418\",\"type\":\"BoxZoomTool\"},{\"attributes\":{},\"id\":\"1419\",\"type\":\"SaveTool\"},{\"attributes\":{},\"id\":\"1420\",\"type\":\"ResetTool\"},{\"attributes\":{},\"id\":\"1474\",\"type\":\"Selection\"},{\"attributes\":{},\"id\":\"1475\",\"type\":\"UnionRenderers\"},{\"attributes\":{\"line_alpha\":0.1,\"line_color\":\"darkviolet\",\"line_width\":4,\"x\":{\"field\":\"x\"},\"y\":{\"field\":\"y\"}},\"id\":\"1432\",\"type\":\"Line\"},{\"attributes\":{\"line_color\":\"darkviolet\",\"line_width\":4,\"x\":{\"field\":\"x\"},\"y\":{\"field\":\"y\"}},\"id\":\"1431\",\"type\":\"Line\"},{\"attributes\":{\"data_source\":{\"id\":\"1430\"},\"glyph\":{\"id\":\"1431\"},\"hover_glyph\":null,\"muted_glyph\":null,\"nonselection_glyph\":{\"id\":\"1432\"},\"view\":{\"id\":\"1434\"}},\"id\":\"1433\",\"type\":\"GlyphRenderer\"}],\"root_ids\":[\"1397\"]},\"title\":\"Bokeh Application\",\"version\":\"2.3.2\"}};\n",
       "  var render_items = [{\"docid\":\"41f8ad6d-69d1-408e-89a4-ef60fc1ebc6a\",\"root_ids\":[\"1397\"],\"roots\":{\"1397\":\"0027f0b1-1d16-4924-8eb9-d33d92dcaebe\"}}];\n",
       "  root.Bokeh.embed.embed_items_notebook(docs_json, render_items);\n",
       "\n",
       "  }\n",
       "  if (root.Bokeh !== undefined) {\n",
       "    embed_document(root);\n",
       "  } else {\n",
       "    var attempts = 0;\n",
       "    var timer = setInterval(function(root) {\n",
       "      if (root.Bokeh !== undefined) {\n",
       "        clearInterval(timer);\n",
       "        embed_document(root);\n",
       "      } else {\n",
       "        attempts++;\n",
       "        if (attempts > 100) {\n",
       "          clearInterval(timer);\n",
       "          console.log(\"Bokeh: ERROR: Unable to run BokehJS code because BokehJS library is missing\");\n",
       "        }\n",
       "      }\n",
       "    }, 10, root)\n",
       "  }\n",
       "})(window);"
      ],
      "application/vnd.bokehjs_exec.v0+json": ""
     },
     "metadata": {
      "application/vnd.bokehjs_exec.v0+json": {
       "id": "1397"
      }
     },
     "output_type": "display_data"
    }
   ],
   "source": [
    "fig4 = custom_figure(title=\"pH behaviour w.r.t. time\", y_axis_label=\"pH [-]\")\n",
    "fig4.line(time, data[ph_indx], line_width=4, color=\"darkviolet\")\n",
    "show(fig4)"
   ]
  }
 ],
 "metadata": {
  "kernelspec": {
   "display_name": "Python 3",
   "language": "python",
   "name": "python3"
  },
  "language_info": {
   "codemirror_mode": {
    "name": "ipython",
    "version": 3
   },
   "file_extension": ".py",
   "mimetype": "text/x-python",
   "name": "python",
   "nbconvert_exporter": "python",
   "pygments_lexer": "ipython3",
   "version": "3.9.4"
  }
 },
 "nbformat": 4,
 "nbformat_minor": 4
}
