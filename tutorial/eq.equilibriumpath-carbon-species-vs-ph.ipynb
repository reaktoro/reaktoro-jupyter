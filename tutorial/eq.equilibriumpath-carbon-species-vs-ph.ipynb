{
 "cells": [
  {
   "cell_type": "markdown",
   "metadata": {},
   "source": [
    "# Change of the carbon species in the reaction path vs. pH\n",
    "\n",
    "This tutorial demonstrates how to calculate a reaction path between two different chemical states in\n",
    "equilibrium, referred to as the *initial state* and *final state*.\n",
    "These states can have different temperatures, pressures, and/or molar amounts of elements. If we gradually adjust\n",
    "temperature, pressure, and elemental amounts in the system to bring the initial state to the final state, slowly\n",
    "enough so that **every intermediate state is in equilibrium**, the system would trace a co-called *reaction path*.\n",
    "\n",
    "Let the initial state have 0.5 mol of carbon-dioxide (CO<sub>2</sub>) and 1 mol of hydrogen chloride (HCl) mixed\n",
    "with 1 kg of water. We want to see how the addition of 2 mol of sodium hydroxide (NaOH) and removal of hydrogen\n",
    "chloride contributes to the chemical system. Thus, our initial and final states for a reaction path calculation can\n",
    "be described as follows:\n",
    "\n",
    "| Initial state    | Final state      |\n",
    "|------------------|------------------|\n",
    "| 1 kg of H2O      | 1 kg of H2O      |\n",
    "| 0.5 mol of CO2   | 0.5 mol of CO2   |\n",
    "| 1 mol of HCl     | 2 mol of NaOH    |\n",
    "\n",
    "As usual, we start by importing the `reaktoro` package:"
   ]
  },
  {
   "cell_type": "code",
   "execution_count": null,
   "metadata": {},
   "outputs": [],
   "source": [
    "from reaktoro import *"
   ]
  },
  {
   "cell_type": "markdown",
   "metadata": {},
   "source": [
    "Note that the object `editor` from class\n",
    "[ChemicalEditor](https://reaktoro.org/cpp/classReaktoro_1_1ChemicalEditor.html) was not initialized with a given\n",
    "[Database](https://reaktoro.org/cpp/classReaktoro_1_1Database.html) object. Instead, it is initialized using the\n",
    "default built-in database file\n",
    "[supcrt98.xml](https://github.com/reaktoro/reaktoro/blob/master/databases/supcrt/supcrt98.xml)."
   ]
  },
  {
   "cell_type": "code",
   "execution_count": null,
   "metadata": {},
   "outputs": [],
   "source": [
    "editor = ChemicalEditor()"
   ]
  },
  {
   "cell_type": "markdown",
   "metadata": {},
   "source": [
    "For the aqueous phases, we list the chemical elements composing the phase instead of the species' exact names.\n",
    "Class [ChemicalEditor](https://reaktoro.org/cpp/classReaktoro_1_1ChemicalEditor.html) searches for all species in\n",
    "the database those elements can form. Only species corresponding to the phase-type are selected\n",
    "(e.g., only aqueous species are searched in the current case)."
   ]
  },
  {
   "cell_type": "code",
   "execution_count": null,
   "metadata": {},
   "outputs": [],
   "source": [
    "editor.addAqueousPhaseWithElements(\"H O C Cl Na\")\n",
    "editor.addGaseousPhase(\"CO2(g)\")\n",
    "\n",
    "system = ChemicalSystem(editor)"
   ]
  },
  {
   "cell_type": "markdown",
   "metadata": {},
   "source": [
    "In the code below, two instances of the class\n",
    "[EquilibriumProblem](https://reaktoro.org/cpp/classReaktoro_1_1EquilibriumProblem.html) are created:\n",
    "`initial_problem` describes the initial state, and `final_problem` corresponds to the final state."
   ]
  },
  {
   "cell_type": "code",
   "execution_count": null,
   "metadata": {},
   "outputs": [],
   "source": [
    "initial_problem = EquilibriumProblem(system)\n",
    "initial_problem.setTemperature(30.0, \"celsius\")\n",
    "initial_problem.setPressure(1.0, \"bar\")\n",
    "initial_problem.add(\"H2O\", 1, \"kg\")\n",
    "initial_problem.add('CO2', 0.5, 'mol')\n",
    "initial_problem.add('HCl', 1, 'mol')\n",
    "\n",
    "final_problem = EquilibriumProblem(system)\n",
    "final_problem.setTemperature(30.0, \"celsius\")\n",
    "final_problem.setPressure(1.0, \"bar\")\n",
    "final_problem.add(\"H2O\", 1, \"kg\")\n",
    "final_problem.add('CO2', 0.5, 'mol')\n",
    "final_problem.add('NaOH', 2, 'mol')"
   ]
  },
  {
   "cell_type": "markdown",
   "metadata": {},
   "source": [
    "Two instances of the class [ChemicalState](https://reaktoro.org/cpp/classReaktoro_1_1ChemicalState.html) are created\n",
    "to store the initial and final equilibrium states calculated by the method\n",
    "[equilibrate](https://reaktoro.org/cpp/namespaceReaktoro.html#af2d3b39d3e0b8f9cb5a4d9bbb06b697e)."
   ]
  },
  {
   "cell_type": "code",
   "execution_count": null,
   "metadata": {},
   "outputs": [],
   "source": [
    "initial_state = equilibrate(initial_problem)\n",
    "final_state = equilibrate(final_problem)"
   ]
  },
  {
   "cell_type": "markdown",
   "metadata": {},
   "source": [
    "Once the initial and final equilibrium states have been calculated, it is now time to trace the reaction path\n",
    "between them, with each intermediate state in chemical equilibrium. For this, we use the class\n",
    "[EquilibriumPath](https://reaktoro.org/cpp/classReaktoro_1_1EquilibriumPath.html). Note that its initialization\n",
    "requires a [ChemicalSystem](https://reaktoro.org/cpp/classReaktoro_1_1ChemicalSystem.html) instance:"
   ]
  },
  {
   "cell_type": "code",
   "execution_count": null,
   "metadata": {},
   "outputs": [],
   "source": [
    "path = EquilibriumPath(system)"
   ]
  },
  {
   "cell_type": "markdown",
   "metadata": {},
   "source": [
    "Before calling the method\n",
    "[EquilibriumPath::solve](https://reaktoro.org/cpp/classReaktoro_1_1EquilibriumPath.html#a008b74301618ed186caa95ec059eb204)\n",
    ", one can configure output-file to be generated during the calculation.\n",
    "To output quantities to a file or terminal during the calculation, use method\n",
    "[EquilibriumPath::output](https://reaktoro.org/cpp/classReaktoro_1_1EquilibriumPath.html#ac700ac6f939acbd4a8524e1346a1e588),\n",
    "which returns an instance of class [ChemicalOutput](https://reaktoro.org/cpp/classReaktoro_1_1ChemicalOutput.html):"
   ]
  },
  {
   "cell_type": "code",
   "execution_count": null,
   "metadata": {},
   "outputs": [],
   "source": [
    "output = path.output()\n",
    "output.filename(\"result.txt\")\n",
    "output.add(\"speciesMolality(CO2(aq) units=mmolal)\", \"CO2(aq) [mmolal]\")\n",
    "output.add(\"speciesMolality(H+ units=mmolal)\", \"H+ [mmolal]\")\n",
    "output.add(\"speciesMolality(Cl- units=mmolal)\", \"Cl- [mmolal]\")\n",
    "output.add(\"speciesMolality(Na+ units=mmolal)\", \"Na+ [mmolal]\")\n",
    "output.add(\"speciesMolality(OH- units=mmolal)\", \"OH- [mmolal]\")\n",
    "output.add('speciesMolality(HCO3- units=mmolal)', 'HCO3- [mmolal]')\n",
    "output.add('speciesMolality(CO3-- units=mmolal)', 'CO3-- [mmolal]')\n",
    "output.add('chemicalPotential(CO2(aq) units=kJ/mol)', 'mu(CO2(aq)) [kJ/mol]')\n",
    "output.add('chemicalPotential(HCO3- units=kJ/mol)', 'mu(HCO3-) [kJ/mol]')\n",
    "output.add('chemicalPotential(CO3-- units=kJ/mol)', 'mu(CO3--) [kJ/mol]')\n",
    "output.add(\"pH\")"
   ]
  },
  {
   "cell_type": "markdown",
   "metadata": {},
   "source": [
    "The method [ChemicalOutput::add](https://reaktoro.org/cpp/classReaktoro_1_1ChemicalOutput.html#af3b5a7d6b0fbbc870664d6ad100b10dd)\n",
    "adds a quantity, which we want to be output to the file `result.txt`. The latter filename is specified in the call of\n",
    "the method [ChemicalOutput::filename](https://reaktoro.org/cpp/classReaktoro_1_1ChemicalOutput.html#ac5cc9d0f90cfe5c6e0972a55b7f7bf5d).\n",
    "Each call to [ChemicalOutput::add](https://reaktoro.org/cpp/classReaktoro_1_1ChemicalOutput.html#af3b5a7d6b0fbbc870664d6ad100b10dd)\n",
    "results in a new column of data in the output file.\n",
    "\n",
    "> **Note**: When two arguments are provided to the method\n",
    "[ChemicalOutput::add](https://reaktoro.org/cpp/classReaktoro_1_1ChemicalOutput.html#a54b0e4fd28823c4d1d1884c32eed1cf3),\n",
    "the first one is the name of the quantity to be output (e.g.,\n",
    "`time`, `elementAmount(Cl)`, `ionicStrength`). The second one is a label used as the heading of the column of data\n",
    "in the output file. When only one argument is provided, this single argument is both the label and the quantity name.\n",
    "\n",
    "Finally, after output files have been configured, the equilibrium path can be calculated using:"
   ]
  },
  {
   "cell_type": "code",
   "execution_count": null,
   "metadata": {},
   "outputs": [],
   "source": [
    "path = path.solve(initial_state, final_state)"
   ]
  },
  {
   "cell_type": "markdown",
   "metadata": {},
   "source": [
    "### Plotting the results of equilibrium path calculation\n",
    "\n",
    "We now use [bokeh](https://docs.bokeh.org/en/latest/docs/gallery.html#standalone-examples)\n",
    "to do the plotting."
   ]
  },
  {
   "cell_type": "code",
   "execution_count": null,
   "metadata": {
    "lines_to_next_cell": 1
   },
   "outputs": [],
   "source": [
    "from bokeh.plotting import figure, show\n",
    "from bokeh.io import output_notebook\n",
    "output_notebook()"
   ]
  },
  {
   "cell_type": "markdown",
   "metadata": {},
   "source": [
    "Besides, we define a custom function that would generate figure of a size 600 x 300:"
   ]
  },
  {
   "cell_type": "code",
   "execution_count": null,
   "metadata": {},
   "outputs": [],
   "source": [
    "def custom_figure(x_axis_label, y_axis_label):\n",
    "    return figure(plot_width=600, plot_height=300,\n",
    "                  x_axis_label=x_axis_label,\n",
    "                  y_axis_label=y_axis_label)"
   ]
  },
  {
   "cell_type": "markdown",
   "metadata": {},
   "source": [
    "To load results from the outputfile, we use `loadtxt` function provided by the `numpy` package:"
   ]
  },
  {
   "cell_type": "code",
   "execution_count": null,
   "metadata": {},
   "outputs": [],
   "source": [
    "filearray = numpy.loadtxt(\"result.txt\", skiprows=1)\n",
    "data = filearray.T\n",
    "[co2aq_indx, h_indx, cl_indx, na_indx, oh_indx, hco3_indx, co3_indx,\n",
    " mu_co2aq_indx, mu_hco3_indx, mu_co3_indx, ph_indx] = numpy.arange(11)"
   ]
  },
  {
   "cell_type": "markdown",
   "metadata": {},
   "source": [
    "The first plot depicts the amount of species Cl<sup>-</sup> and H<sup>+</sup> in units of mmolal (on the *y*-axis)\n",
    "and the pH of the aqueous phase (on the *x*-axis). Below, we see how the concentration of both ions decrease,\n",
    "which is expected, as the initial state contains 1 mol of HCl and the final one none of it."
   ]
  },
  {
   "cell_type": "code",
   "execution_count": null,
   "metadata": {},
   "outputs": [],
   "source": [
    "fig1 = custom_figure(x_axis_label=\"pH\", y_axis_label=\"Species molality [mmolal]\")\n",
    "fig1.line(data[ph_indx], data[cl_indx], legend_label=\"Cl-\", line_width=4, color=\"green\")\n",
    "fig1.line(data[ph_indx], data[h_indx], legend_label=\"H+\", line_width=4, color=\"blue\")\n",
    "show(fig1)"
   ]
  },
  {
   "cell_type": "markdown",
   "metadata": {},
   "source": [
    "The second plot sets the *x*-axis to the pH level and\n",
    "the *y*-axis to the molalities of species Na<sup>+</sup> and OH<sup>-</sup>,\n",
    "i.e., the molar amount of Na<sup>+</sup> and OH<sup>-</sup> **in the aqueous\n",
    "phase**, divided by the mass of solvent water H<sub>2</sub>O(l). As expected, we see an increase of the ions amount\n",
    "as pH grows."
   ]
  },
  {
   "cell_type": "code",
   "execution_count": null,
   "metadata": {},
   "outputs": [],
   "source": [
    "fig2 = custom_figure(x_axis_label=\"pH\", y_axis_label=\"Species molality [mmolal]\")\n",
    "fig2.line(data[ph_indx], data[na_indx], legend_label=\"Na+\", line_width=4, color=\"coral\")\n",
    "fig2.line(data[ph_indx], data[oh_indx], legend_label=\"OH-\", line_width=4, color=\"gray\")\n",
    "show(fig2)"
   ]
  },
  {
   "cell_type": "markdown",
   "metadata": {},
   "source": [
    "The third plot sets the *x*-axis to pH, but the *y*-axis now contains three quantities: the molality of\n",
    "species CO<sub>2</sub>(aq), HCO<sub>3</sub><sup>-</sup>, and CO<sub>3</sub><sup>2-</sup>, all in units of mmolal."
   ]
  },
  {
   "cell_type": "code",
   "execution_count": null,
   "metadata": {},
   "outputs": [],
   "source": [
    "fig3 = custom_figure(x_axis_label=\"pH\", y_axis_label=\"Species molality [mmolal]\")\n",
    "fig3.line(data[ph_indx], data[co2aq_indx], legend_label=\"CO2(aq)\", line_width=4, color=\"rosybrown\")\n",
    "fig3.line(data[ph_indx], data[hco3_indx], legend_label=\"HCO3-\", line_width=4, color=\"cadetblue\")\n",
    "fig3.line(data[ph_indx], data[co3_indx], legend_label=\"CO3--\", line_width=4, color=\"olivedrab\")\n",
    "show(fig3)"
   ]
  },
  {
   "cell_type": "markdown",
   "metadata": {},
   "source": [
    "We see here growing molalities of the HCO3<sup>-</sup> species until approximately pH = 7, after which it\n",
    "decreases again. Exactly around the point, where molality of HCO3<sup>-</sup> begins\n",
    "to decrease, molality of CO3<sup>2-</sup> starts increasing. Let us also plot the molality of CO<sub>2</sub>(aq)\n",
    "with respect to pH."
   ]
  },
  {
   "cell_type": "code",
   "execution_count": null,
   "metadata": {},
   "outputs": [],
   "source": [
    "fig4 = custom_figure(x_axis_label=\"pH\", y_axis_label=\"Species molality [mmolal]\")\n",
    "fig4.line(data[ph_indx], data[co2aq_indx], legend_label=\"CO2(aq)\", line_width=4, color=\"rosybrown\")\n",
    "show(fig4)"
   ]
  },
  {
   "cell_type": "markdown",
   "metadata": {},
   "source": [
    "The plot above illustrated expected behaviour, where CO<sub>2</sub>(aq) molality in the brine remains over 25 mmolal\n",
    "until pH = 7 and rapidly drops after that value.\n",
    "\n",
    "Final fourth figure plots how the chemical potential of CO<sub>2</sub>(aq), HCO<sub>3</sub><sup>-</sup>,\n",
    "and CO<sub>3</sub><sup>2-</sup> depends on pH in the considered chemical path."
   ]
  },
  {
   "cell_type": "code",
   "execution_count": null,
   "metadata": {},
   "outputs": [],
   "source": [
    "fig4 = custom_figure(x_axis_label=\"pH\", y_axis_label=\"Chemical potential [kJ/mol]\")\n",
    "fig4.line(data[ph_indx], data[mu_co2aq_indx], legend_label=\"CO2(aq)\", line_width=4, color=\"darkorange\")\n",
    "fig4.line(data[ph_indx], data[mu_hco3_indx], legend_label=\"HCO3-\", line_width=4, color=\"palevioletred\")\n",
    "fig4.line(data[ph_indx], data[mu_co3_indx], legend_label=\"CO3--\", line_width=4, color=\"indigo\")\n",
    "show(fig4)"
   ]
  }
 ],
 "metadata": {
  "kernelspec": {
   "display_name": "Python 3",
   "language": "python",
   "name": "python3"
  }
 },
 "nbformat": 4,
 "nbformat_minor": 4
}
