{
 "cells": [
  {
   "cell_type": "markdown",
   "id": "b8318d73",
   "metadata": {},
   "source": [
    "<div>\n",
    "<a href=\"https://reaktoro.org\"><img src=\"https://reaktoro.org/_images/reaktoro-header.svg\"></a>\n",
    "</div>"
   ]
  },
  {
   "cell_type": "markdown",
   "id": "d0166d60",
   "metadata": {},
   "source": [
    "# Tutorial\n",
    "\n",
    "Find below a list of tutorials explaining how to use Reaktoro for solving\n",
    "chemical equilibrium, chemical kinetics, and reactive transport problems.\n",
    "\n",
    "> If you need assistance, please don't hesitate to chat with us on\n",
    "[Gitter](https://gitter.im/reaktoro/community)!\n",
    "\n",
    "### Tutorials on performing chemical equilibrium calculations:\n",
    "\n",
    "* [Basics of equilibrium calculation](eq.equilibrium-basics.ipynb)\n",
    "* [Equilibrium calculation of carbonate species](eq.equilibrium-carbonates.ipynb)\n",
    "* [Equilibrium calculations using equilibrium solver](eq.co2-brine-using-equilibrium-solver.ipynb)\n",
    "* [Custom activity model for equilibrium calculations](eq.custom-activity-models.ipynb)\n",
    "* [Inverse chemical equilibrium calculation](eq.inverse-equilibrium.ipynb)\n",
    "* [Equilibrium path calculation](eq.equilibriumpath.ipynb)\n",
    "* [Solubility of sodium chloride salt in water](eq.eq.sodium-chloride-solubility-in-water.ipynb)\n",
    "* [Solubility of carbon dioxide in water](eq.co2-solubility-in-water.ipynb)\n",
    "* [Analysis of the Evian water (with Reaktoro and PHREEQC backend)](eq.evian-water-analysis.ipynb)\n",
    "* [Solubility of sodium chloride salt in water (using Setschenow activity model)](eq.equilibrium-setschenow-activity-model.ipynb)\n",
    "* [Carbon dioxide gas solubility in the NaCl-brine](eq.co2-solubility-in-nacl-brine.ipynb)\n",
    "* [Dependence of the pH on the CO2(g) amount in seawater](eq.ph-dependence-on-co2-in-seawater.ipynb)\n",
    "* [Dependence of the pH on added contaminant in water](eq.ph-dependence-on-contaminants-in-water.ipynb)\n",
    "* [Change of the carbon species in the reaction path vs pH](eq.equilibriumpath-carbon-species-vs-ph.ipynb)\n",
    "* [Calcite solubility in water and CO2-saturated rainwater](eq.calcite-solubility.py)\n",
    "* [Gypsum/anhydrite solubility in water](eq.anhydrite-solubility.ipynb)\n",
    "\n",
    "### Tutorials on performing chemical kinetics calculations:\n",
    "\n",
    "* [Dissolution of calcite in an acidic HCl-solution](kin.calcite-hcl.ipynb)\n",
    "* [Dissolution of carbonate minerals in a carbon dioxide saturated brine](kin.carbonates-co2.ipynb)\n",
    "* [Precipitation of barite as a result or water-flooding](kin.barite-precipitation.ipynb)\n",
    "\n",
    "### Tutorials on performing reactive transport calculations:\n",
    "\n",
    "* [Reactive transport of CO<sub>2</sub>-saturated brine along a porous rock column (using transport solver embedded\n",
    " into Reaktoro)](rt.calcite-brine.ipynb)\n",
    "* [Reactive transport modeling along a rock core after injection of the fluid-rock composition](rt.calcite-dolomite.ipynb)\n",
    "* [Coupling Reaktoro into other reactive transport codes](rt.coupling-reaktoro-to-transport.ipynb)\n",
    "* [Reactive transport modeling of the H<sub>2</sub>S scavenging process along a rock core](rt.scavenging.ipynb)\n",
    "* [Reactive transport modeling of the H<sub>2</sub>S scavenging process along a rock core (with hematite and pyrite)](rt.scavenging-with-hematite-and-pyrite.ipynb)\n",
    "* [Scaling of barite as a result of the water-flooding](rt.scaling.ipynb)\n",
    "* [Reactive transport in granite simulation](rt.granite.ipynb)\n",
    "\n",
    "### Tutorials on basic properties related to chemical equilibrium calculations:\n",
    "\n",
    "* [Calculation of ionic strength and activity coefficients of aqueous species](eq.ionic-strength-and-activity-coefficients.ipynb)\n",
    "* [Mass balance and mass action equations and related chemical properties](eq.mass-balance-mass-action.ipynb)\n",
    "\n",
    "### Tutorials on explaining the most important classes in Reaktoro:\n",
    "\n",
    "For a comprehensive documentation of all Reaktoro’s classes and methods, please check [Reaktoro’s C++ API programming reference](https://reaktoro.org/cpp/index.html).\n",
    "Below you find a more interactive documentation of a few selected classes.\n",
    "\n",
    "* [**Database**](cl.database.ipynb)\n",
    "* [**ChemicalEditor**](cl.chemical-editor.ipynb)\n",
    "* [**ChemicalSystem**](cl.chemical-system.ipynb)\n",
    "* [**EquilibriumSolver**](cl.equilibrium-solver.ipynb)\n",
    "* [**Thermo**](cl.thermo.ipynb)"
   ]
  }
 ],
 "metadata": {
  "kernelspec": {
   "display_name": "Python 3",
   "language": "python",
   "name": "python3"
  }
 },
 "nbformat": 4,
 "nbformat_minor": 5
}
