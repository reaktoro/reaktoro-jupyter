{
 "cells": [
  {
   "cell_type": "markdown",
   "id": "38fdad15",
   "metadata": {},
   "source": [
    "# Dependence of the pH on the CO<sub>2</sub>(g) amount in seawater\n",
    "\n",
    "This tutorial demonstrates how pH is dependent on the added CO<sub>2</sub>(g) amount in seawater."
   ]
  },
  {
   "cell_type": "markdown",
   "id": "105cab6e",
   "metadata": {},
   "source": [
    "We start by importing the **reaktoro** package:"
   ]
  },
  {
   "cell_type": "code",
   "execution_count": null,
   "id": "37e0e095",
   "metadata": {},
   "outputs": [],
   "source": [
    "from reaktoro import *"
   ]
  },
  {
   "cell_type": "markdown",
   "id": "b2d58541",
   "metadata": {},
   "source": [
    "We initialize a thermodynamic database by:"
   ]
  },
  {
   "cell_type": "code",
   "execution_count": null,
   "id": "4edfa0c6",
   "metadata": {},
   "outputs": [],
   "source": [
    "db = Database(\"supcrt98.xml\")"
   ]
  },
  {
   "cell_type": "markdown",
   "id": "e732fd93",
   "metadata": {},
   "source": [
    "The chemical system includes aqueous and gaseous phases:"
   ]
  },
  {
   "cell_type": "code",
   "execution_count": null,
   "id": "c5acd143",
   "metadata": {},
   "outputs": [],
   "source": [
    "editor = ChemicalEditor(db)\n",
    "editor.addAqueousPhaseWithElements(\"H O C Ca Mg K Cl Na S N\")\n",
    "editor.addGaseousPhase([\"CO2(g)\"])\n",
    "system = ChemicalSystem(editor)"
   ]
  },
  {
   "cell_type": "markdown",
   "id": "ddc7b2cc",
   "metadata": {},
   "source": [
    "Initializing chemical problem corresponding to the seawater content:"
   ]
  },
  {
   "cell_type": "code",
   "execution_count": null,
   "id": "4c41cb9b",
   "metadata": {},
   "outputs": [],
   "source": [
    "T = 25 + 273.15\n",
    "P = 1e5\n",
    "water_kg = 1.0\n",
    "\n",
    "problem = EquilibriumProblem(system)\n",
    "problem.setTemperature(T, \"celsius\")\n",
    "problem.setPressure(P, \"bar\")\n",
    "problem.add(\"H2O\", water_kg, \"kg\")\n",
    "problem.add(\"Ca++\", 412.3 * water_kg, \"mg\")\n",
    "problem.add(\"Mg++\", 1290 * water_kg, \"mg\")\n",
    "problem.add(\"Na+\", 10768.0 * water_kg, \"mg\")\n",
    "problem.add(\"K+\", 399.1 * water_kg, \"mg\")\n",
    "problem.add(\"Cl-\", 19353.0 * water_kg, \"mg\")\n",
    "problem.add(\"HCO3-\", 141.682 * water_kg, \"mg\")\n",
    "problem.add(\"SO4--\", 2712.0 * water_kg, \"mg\")"
   ]
  },
  {
   "cell_type": "markdown",
   "id": "b99ae537",
   "metadata": {},
   "source": [
    "Next, we define equilibrium solver to be used for range of equilibrium problems:"
   ]
  },
  {
   "cell_type": "code",
   "execution_count": null,
   "id": "300ed86f",
   "metadata": {},
   "outputs": [],
   "source": [
    "solver = EquilibriumSolver(system)\n",
    "state = ChemicalState(system)\n",
    "solver.solve(state, T, P, problem.elementAmounts())"
   ]
  },
  {
   "cell_type": "markdown",
   "id": "f128c5c8",
   "metadata": {},
   "source": [
    "The function for the pH evaluation is defined by:"
   ]
  },
  {
   "cell_type": "code",
   "execution_count": null,
   "id": "30dcc6b9",
   "metadata": {},
   "outputs": [],
   "source": [
    "evaluate_pH = ChemicalProperty.pH(system)"
   ]
  },
  {
   "cell_type": "markdown",
   "id": "d230ad0b",
   "metadata": {},
   "source": [
    "Finally, we define the auxiliary lists with amounts of CO<sub>2</sub> in the chemical state and corresponding to\n",
    "that state pH values:"
   ]
  },
  {
   "cell_type": "code",
   "execution_count": null,
   "id": "6a3553ea",
   "metadata": {},
   "outputs": [],
   "source": [
    "co2_initial = 0.0\n",
    "co2_delta = 0.1\n",
    "nsteps = 50\n",
    "co2_amounts = [co2_initial]\n",
    "phs = [evaluate_pH(state.properties()).val]\n",
    "\n",
    "for i in range(nsteps):\n",
    "\n",
    "    # Add more CO2 to the problem\n",
    "    problem.add(\"CO2\", co2_delta, \"mmol\")\n",
    "\n",
    "    # Equilibrate state with updated problem\n",
    "    solver.solve(state, T, P, problem.elementAmounts())\n",
    "\n",
    "    # Append new ph\n",
    "    phs.append(evaluate_pH(state.properties()).val)\n",
    "\n",
    "    # Append new CO2 amount\n",
    "    co2_amounts.append(co2_amounts[-1] + co2_delta)"
   ]
  },
  {
   "cell_type": "markdown",
   "id": "b03cf11e",
   "metadata": {},
   "source": [
    "Plot pH as a function of the CO<sub>2</sub> amount added into the seawater:"
   ]
  },
  {
   "cell_type": "code",
   "execution_count": null,
   "id": "51fc636f",
   "metadata": {},
   "outputs": [],
   "source": [
    "import matplotlib.pyplot as plt\n",
    "fig, ax = plt.subplots()\n",
    "\n",
    "ax.plot(co2_amounts, phs, label=f\"pH\", color='C2')\n",
    "ax.legend(loc=\"upper right\")\n",
    "ax.grid(True)\n",
    "ax.set(xlabel=r'CO$_2$ amount [mol]')\n",
    "ax.set(ylabel='pH [-]')\n",
    "ax.set(title=r'Dependence of pH on the CO$_2$ amount in seawater')\n",
    "fig.savefig('ph-dependence-on-co2-amount-in-seawater.png', bbox_inches='tight')"
   ]
  }
 ],
 "metadata": {},
 "nbformat": 4,
 "nbformat_minor": 5
}
