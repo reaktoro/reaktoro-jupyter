{
 "cells": [
  {
   "cell_type": "markdown",
   "id": "d046d79c",
   "metadata": {},
   "source": [
    "# Reactive transport in granite simulation\n",
    "\n",
    "In this tutorial, we show how Reaktoro can be used for one-dimensional reactive transport calculations for modeling\n",
    "the geochemical reactions that occur along a porous rock column with granite as an acidic brine is continuously\n",
    "injected on its left side.\n",
    "\n",
    "## Import the reaktoro python package (and other packages)\n",
    "\n",
    "First, we import the **reaktoro** Python package so that we can use its classes\n",
    "and methods for performing the chemical reaction calculations.\n",
    "> **Note**: Make sure that packages **matplolib**, *natsort**, and **progress**."
   ]
  },
  {
   "cell_type": "code",
   "execution_count": null,
   "id": "faece183",
   "metadata": {},
   "outputs": [],
   "source": [
    "from reaktoro import *\n",
    "import numpy as np\n",
    "import os\n",
    "import matplotlib.pyplot as plt\n",
    "import matplotlib as mpl\n",
    "from natsort import natsorted"
   ]
  },
  {
   "cell_type": "markdown",
   "id": "241f0ed8",
   "metadata": {},
   "source": [
    "Setup properties or the plotting with the **matplolib** library:"
   ]
  },
  {
   "cell_type": "code",
   "execution_count": null,
   "id": "e3a8f519",
   "metadata": {},
   "outputs": [],
   "source": [
    "mpl.set_loglevel(\"critical\")\n",
    "mpl.rcParams['font.family'] = 'sans-serif'\n",
    "mpl.rcParams['font.sans-serif'] = 'TeX Gyre Adventor'\n",
    "mpl.rcParams['font.style'] = 'normal'\n",
    "mpl.rcParams['font.size'] = 12\n",
    "mpl.rcParams['mathtext.fontset'] = 'cm'\n",
    "mpl.rcParams['axes.unicode_minus'] = False"
   ]
  },
  {
   "cell_type": "markdown",
   "id": "a7157ac3",
   "metadata": {},
   "source": [
    "## Defining auxiliary time-related constants\n",
    "In this step, we initialize auxiliary time-related constants from seconds to years. This is only done for\n",
    "convenience, so that we can specify later, for example, fluid velocity as 1 m/week."
   ]
  },
  {
   "cell_type": "code",
   "execution_count": null,
   "id": "3b9df486",
   "metadata": {},
   "outputs": [],
   "source": [
    "second = 1\n",
    "minute = 60\n",
    "hour = 60 * minute\n",
    "day = 24 * hour\n",
    "week = 7 * day"
   ]
  },
  {
   "cell_type": "markdown",
   "id": "16476556",
   "metadata": {},
   "source": [
    "## Defining parameters for the reactive transport simulation\n",
    "\n",
    "Next, we define reactive transport and numerical discretization parameters."
   ]
  },
  {
   "cell_type": "code",
   "execution_count": null,
   "id": "e5908d6b",
   "metadata": {},
   "outputs": [],
   "source": [
    "# Discretization parameters\n",
    "xl = 0.0                # the x-coordinate of the left boundary\n",
    "xr = 1.0                # the x-coordinate of the right boundary\n",
    "ncells = 100            # the number of cells in the discretization\n",
    "nsteps = 100000         # the number of steps in the reactive transport simulation\n",
    "dt = 30*minute          # the time step (30 minutes in units of s)\n",
    "dx = (xr - xl)/ncells   # length of the mesh cells (in units of m)\n",
    "\n",
    "# Physical and chemical parameters\n",
    "D = 1.0e-9             # the diffusion coefficient (in units of m2/s)\n",
    "v = 1.0/week           # the fluid pore velocity (1 m/week in units of m/s)\n",
    "T = 300.0               # the temperature (in units of degC)\n",
    "# Calculate the water saturation pressure using the Wagner and Pruss (1995) equation of state\n",
    "P = waterSaturatedPressureWagnerPruss(Temperature(T + 273.15)).val * 1e-5 # the pressure (in units of bar)\n",
    "phi = 0.1               # the porosity"
   ]
  },
  {
   "cell_type": "markdown",
   "id": "cdf6319e",
   "metadata": {},
   "source": [
    "We specify the activity model for the aqueous species:"
   ]
  },
  {
   "cell_type": "code",
   "execution_count": null,
   "id": "9aa4090b",
   "metadata": {},
   "outputs": [],
   "source": [
    "activity_model = \"hkf-selected-species\""
   ]
  },
  {
   "cell_type": "markdown",
   "id": "8aac8f9d",
   "metadata": {},
   "source": [
    "Define the names or the folders with resulting states as well as the plots illustrating time-dependent\n",
    "behavior of chemical properties:"
   ]
  },
  {
   "cell_type": "code",
   "execution_count": null,
   "id": "a3a691e1",
   "metadata": {},
   "outputs": [],
   "source": [
    "tag = \"-dt-\" + \"{:d}\".format(dt) + \\\n",
    "      \"-ncells-\" + str(ncells) + \\\n",
    "      \"-nsteps-\" + str(nsteps) + \\\n",
    "      \"-\" + activity_model\n",
    "folder_results = 'results-rtsolver-granite' + tag\n",
    "os.system('mkdir -p ' + folder_results)\n",
    "folder_result_plots = \"plots-\" + folder_results\n",
    "os.system('mkdir -p ' + folder_result_plots)"
   ]
  },
  {
   "cell_type": "markdown",
   "id": "ae6ed9c9",
   "metadata": {},
   "source": [
    "Generate the array with the number of time steps for the transport:"
   ]
  },
  {
   "cell_type": "code",
   "execution_count": null,
   "id": "b0b9153b",
   "metadata": {},
   "outputs": [],
   "source": [
    "time_steps = np.linspace(0, nsteps, nsteps)"
   ]
  },
  {
   "cell_type": "markdown",
   "id": "3e625359",
   "metadata": {},
   "source": [
    "Next, we generate the coordinates of the mesh nodes (array `x`) by equally dividing the interval *[xr, xl]* with\n",
    "the number of cells `ncells`. The length between each consecutive mesh nodes is computed and stored in `dx` (the\n",
    "length of the mesh cells)."
   ]
  },
  {
   "cell_type": "code",
   "execution_count": null,
   "id": "077a86ad",
   "metadata": {},
   "outputs": [],
   "source": [
    "xcells = np.linspace(xl, xr, ncells)    # interval [xl, xr] split into `ncells`"
   ]
  },
  {
   "cell_type": "markdown",
   "id": "70bbea75",
   "metadata": {},
   "source": [
    "To make sure that the applied finite-volume scheme is stable, we need to keep track of Courant–Friedrichs–Lewy (CFL)\n",
    "number, which should be less than 1.0."
   ]
  },
  {
   "cell_type": "code",
   "execution_count": null,
   "id": "154b7fcd",
   "metadata": {},
   "outputs": [],
   "source": [
    "CFL = v*dt/dx\n",
    "assert CFL <= 1.0, f\"Make sure that CFL = {CFL} is less that 1.0\""
   ]
  },
  {
   "cell_type": "markdown",
   "id": "3cc56175",
   "metadata": {},
   "source": [
    "## Reactive transport simulations\n",
    "\n",
    "### Defining the chemical system\n",
    "\n",
    "We need to define a chemical system that can represent both our fluid and rock. We use class\n",
    "[ChemicalEditor](https://reaktoro.org/cpp/classReaktoro_1_1ChemicalEditor.html) below to define a system with an\n",
    "aqueous phase and twelve mineral phases."
   ]
  },
  {
   "cell_type": "code",
   "execution_count": null,
   "id": "1bfb75ad",
   "metadata": {},
   "outputs": [],
   "source": [
    "editor = ChemicalEditor()\n",
    "\n",
    "selected_elements = \"Al Cl H K Na O Si\"\n",
    "selected_species = \"H2O(l) H+ OH- Cl- HCl(aq) Na+ NaOH(aq) NaHSiO3(aq) NaCl(aq) \" \\\n",
    "                    \"K+ KOH(aq) KCl(aq) Al+++ AlOH++\"\n",
    "\n",
    "if activity_model == \"pitzer-full\":\n",
    "    editor.addAqueousPhaseWithElements(selected_elements) \\\n",
    "        .setChemicalModelPitzerHMW() \\\n",
    "        .setActivityModelDrummondCO2()\n",
    "elif activity_model == \"hkf-full\":\n",
    "    editor.addAqueousPhaseWithElements(selected_elements)\n",
    "elif activity_model == \"dk-full\":\n",
    "    editor.addAqueousPhaseWithElements(selected_elements) \\\n",
    "        .setChemicalModelDebyeHuckel()\n",
    "elif activity_model == \"pitzer-selected-species\":\n",
    "    editor.addAqueousPhase(selected_species) \\\n",
    "        .setChemicalModelPitzerHMW() \\\n",
    "        .setActivityModelDrummondCO2()\n",
    "elif activity_model == \"hkf-selected-species\":\n",
    "    editor.addAqueousPhase(selected_species)\n",
    "elif activity_model == \"dk-selected-species\":\n",
    "    editor.addAqueousPhase(selected_species) \\\n",
    "        .setChemicalModelDebyeHuckel()\n",
    "\n",
    "editor.addMineralPhase(\"Quartz\") # SiO2\n",
    "editor.addMineralPhase(\"Diaspore\") # AlO(OH)\n",
    "editor.addMineralPhase(\"Gibbsite\") # Al(OH)3\n",
    "editor.addMineralPhase(\"Andalusite\") # Al2SiO5\n",
    "editor.addMineralPhase(\"Kyanite\") # Al2SiO5\n",
    "editor.addMineralPhase(\"Sillimanite\") # Al2SiO5\n",
    "editor.addMineralPhase(\"Muscovite\") # KAl2(AlSi3)O10(OH)2\n",
    "editor.addMineralPhase(\"Paragonite\") # NaAl2(AlSi3)O10(OH)2\n",
    "editor.addMineralPhase(\"Pyrophyllite\") # Al2Si4O10(OH)2\n",
    "editor.addMineralPhase(\"Kaolinite\") # Al2Si2O5(OH)4\n",
    "editor.addMineralPhase(\"Albite\") # Na(AlSi3)O8\n",
    "editor.addMineralPhase(\"K-Feldspar\") # K(AlSi3)O8"
   ]
  },
  {
   "cell_type": "markdown",
   "id": "4f75e7fe",
   "metadata": {},
   "source": [
    "\n",
    "### Constructing the chemical system\n",
    "\n",
    "This step is where we create an object of class\n",
    "[ChemicalSystem](https://reaktoro.org/cpp/classReaktoro_1_1ChemicalSystem.html) using the\n",
    "chemical system definition details stored in the object ``editor``."
   ]
  },
  {
   "cell_type": "code",
   "execution_count": null,
   "id": "b0c65f48",
   "metadata": {},
   "outputs": [],
   "source": [
    "system = ChemicalSystem(editor)"
   ]
  },
  {
   "cell_type": "markdown",
   "id": "2700005c",
   "metadata": {},
   "source": [
    "### Initial condition for the fluid composition\n",
    "\n",
    "Below, we define the **initial condition** for the fluid composition in the rock."
   ]
  },
  {
   "cell_type": "code",
   "execution_count": null,
   "id": "412da660",
   "metadata": {},
   "outputs": [],
   "source": [
    "problem_ic = EquilibriumProblem(system)\n",
    "problem_ic.setTemperature(T, 'celsius')\n",
    "problem_ic.setPressure(P, 'bar')\n",
    "problem_ic.add(\"H2O\", 55.51, \"mol\") # H2O 55.51 M\n",
    "problem_ic.add(\"NaCl\", 0.27, \"mol\") # NaCl (aq) 0.27 M\n",
    "problem_ic.add(\"KCl\", 0.03, \"mol\") # KCl (aq)  0.03 M"
   ]
  },
  {
   "cell_type": "markdown",
   "id": "8b344cef",
   "metadata": {},
   "source": [
    "### Boundary condition for the fluid composition\n",
    "\n",
    "Next, we define the **boundary condition** for the fluid composition on the left side of the rock."
   ]
  },
  {
   "cell_type": "code",
   "execution_count": null,
   "id": "eafb8ad9",
   "metadata": {},
   "outputs": [],
   "source": [
    "problem_bc = EquilibriumProblem(system)\n",
    "problem_bc.setTemperature(T, 'celsius')\n",
    "problem_bc.setPressure(P, 'bar')\n",
    "problem_bc.add(\"H2O\", 55.51, \"mol\") # H2O 55.51 M\n",
    "problem_bc.add(\"HCl\", 0.1, \"mol\") # HCl (aq) 0.1 M\n",
    "problem_bc.add(\"NaCl\", 0.17, \"mol\") # NaCl (aq) 0.17 M\n",
    "problem_bc.add(\"KCl\", 0.03, \"mol\") # KCl (aq)  0.03 M"
   ]
  },
  {
   "cell_type": "markdown",
   "id": "5e3c89e5",
   "metadata": {},
   "source": [
    "### Calculating the IC and BC fluid compositions\n",
    "In this step, we use the [equilibrate](https://reaktoro.org/cpp/namespaceReaktoro.html#af2d3b39d3e0b8f9cb5a4d9bbb06b697e)\n",
    "function to calculate the chemical equilibrium state of the system with the given initial and boundary equilibrium\n",
    "conditions stored in the object `problem_ic` and `problem_bc`, respectively. The result is stored in the\n",
    "corresponding instances of the class [ChemicalState](https://reaktoro.org/cpp/classReaktoro_1_1ChemicalState.html),\n",
    "i.e., `state_ic` and `state_bc`."
   ]
  },
  {
   "cell_type": "code",
   "execution_count": null,
   "id": "204af017",
   "metadata": {},
   "outputs": [],
   "source": [
    "state_ic = equilibrate(problem_ic)\n",
    "state_bc = equilibrate(problem_bc)"
   ]
  },
  {
   "cell_type": "markdown",
   "id": "db11e10f",
   "metadata": {},
   "source": [
    "### Scaling the phases in the initial condition\n",
    "\n",
    "The initial chemical state `state_ic` computed before has, at this point, phases with volumes that do not\n",
    "correspond to our desired porosity of 10% and rock mineral composition: 30% of quartz, 5% muscovite, 33% of albite,\n",
    "and 32% of k-feldspar.To obtain this, we scale the volumes of the aqueous and mineral phases as shown below:"
   ]
  },
  {
   "cell_type": "code",
   "execution_count": null,
   "id": "755dc9f2",
   "metadata": {},
   "outputs": [],
   "source": [
    "# Scale the volumes of the phases in the initial condition\n",
    "state_ic.scalePhaseVolume(\"Aqueous\", 0.1, \"m3\") # 10% if the 1.0m3\n",
    "state_ic.scalePhaseVolume(\"Quartz\", 0.3 * 0.9, \"m3\") # 30% of 90% of remaining volume\n",
    "state_ic.scalePhaseVolume(\"Muscovite\", 0.05 * 0.9, \"m3\") # 5% of 90% of remaining volume\n",
    "state_ic.scalePhaseVolume(\"Albite\", 0.33 * 0.9, \"m3\") # 33% of 90% of remaining volume\n",
    "state_ic.scalePhaseVolume(\"K-Feldspar\", 0.32 * 0.9, \"m3\") # 32% of 90% of remaining volume"
   ]
  },
  {
   "cell_type": "markdown",
   "id": "0a10a2d3",
   "metadata": {},
   "source": [
    "> **Note**: After this scaling step, the sum of the phase volumes in ``state_ic`` is 1 m<sup>3</sup>. This also\n",
    "> ensures that the amounts of the species in the chemical system are normalized by m<sup>3</sup>, and thus they can\n",
    "> be regarded as concentrations in a unit of mol/m<sup>3</sup> (*bulk volume, not fluid volume!*).\n",
    "\n",
    "### Scaling the boundary condition state\n",
    "\n",
    "Next, we scale the boundary condition state to 1 m<sup>3</sup>, so that we have the amounts of fluid species in\n",
    "`state_bc` also normalized by m<sup>3</sup>.\n",
    "\n",
    "> **Note**: The chemical state represented by `state_bc` has no other stable phase than the aqueous phase (i.e.,\n",
    "> all mineral phases have zero or negligible amounts such as 10<sup>-21</sup> mol)."
   ]
  },
  {
   "cell_type": "code",
   "execution_count": null,
   "id": "fb0ce021",
   "metadata": {},
   "outputs": [],
   "source": [
    "state_bc.scaleVolume(1.0, 'm3')"
   ]
  },
  {
   "cell_type": "markdown",
   "id": "2c4af8a1",
   "metadata": {},
   "source": [
    "### Creating the mesh\n",
    "\n",
    "We define the mesh with the class [Mesh](https://reaktoro.org/cpp/classReaktoro_1_1Mesh.html) to use in\n",
    "the initialization of class [ReactiveTransportSolver](\n",
    "https://reaktoro.org/cpp/classReaktoro_1_1ReactiveTransportSolver.html) later. Here, we specify the number of cells\n",
    "in the mesh and the x-coordinates of the left and right boundaries (in m)."
   ]
  },
  {
   "cell_type": "code",
   "execution_count": null,
   "id": "1f09d0fc",
   "metadata": {},
   "outputs": [],
   "source": [
    "mesh = Mesh(ncells, xl, xr)"
   ]
  },
  {
   "cell_type": "markdown",
   "id": "3e5ee2a7",
   "metadata": {},
   "source": [
    "### Creating a chemical field object\n",
    "\n",
    "We have been using class [ChemicalState](https://reaktoro.org/cpp/classReaktoro_1_1ChemicalState.html) to represent\n",
    "an individual chemical state. We will now use class\n",
    "[ChemicalField](https://reaktoro.org/cpp/classReaktoro_1_1ChemicalField.html) to represent a collection of chemical states: one for\n",
    "each mesh cell.\n",
    "\n",
    "> **Note**: Different initial conditions across the mesh cells are possible by assigning different chemical states to\n",
    "> each mesh cell. Here, the same chemical state in `state_ic` is used for all cells."
   ]
  },
  {
   "cell_type": "code",
   "execution_count": null,
   "id": "0bf71995",
   "metadata": {},
   "outputs": [],
   "source": [
    "field = ChemicalField(mesh.numCells(), state_ic)"
   ]
  },
  {
   "cell_type": "markdown",
   "id": "7ed7443f",
   "metadata": {},
   "source": [
    "### Initializing the reactive transport solver\n",
    "\n",
    "At last, we define the object responsible for solving the reactive transport problem, which is handled by the\n",
    "class [ReactiveTransportSolver](https://reaktoro.org/cpp/classReaktoro_1_1ReactiveTransportSolver.html).\n",
    "Here, we set the mesh and problem parameters such as velocity, diffusion coefficient, the chemical state\n",
    "representing the boundary condition, and the time step. We also initialize the reactive solver object with the\n",
    "chemical field object specified on the previous step, at this point containing the initial condition for theuse_smart_eqilibirum_solver\n",
    "chemical state of each mesh cell."
   ]
  },
  {
   "cell_type": "code",
   "execution_count": null,
   "id": "1f46f93f",
   "metadata": {},
   "outputs": [],
   "source": [
    "rtsolver = ReactiveTransportSolver(system)\n",
    "rtsolver.setMesh(mesh)\n",
    "rtsolver.setVelocity(v)\n",
    "rtsolver.setDiffusionCoeff(D)\n",
    "rtsolver.setBoundaryState(state_bc)\n",
    "rtsolver.setTimeStep(dt)\n",
    "rtsolver.initialize(field)"
   ]
  },
  {
   "cell_type": "markdown",
   "id": "139b9225",
   "metadata": {},
   "source": [
    "### Defining the output quantities\n",
    "\n",
    "Before starting the reactive transport calculations, we define the quantities that will be output for every mesh\n",
    "cell, at every time step. For this, we use an object of the class\n",
    "[ChemicalOutput](https://reaktoro.org/cpp/classReaktoro_1_1ChemicalOutput.html).\n",
    "The name of the output file is to `reactive-transport.txt`. We specify the parameters that we are interested in\n",
    "outputting."
   ]
  },
  {
   "cell_type": "code",
   "execution_count": null,
   "id": "b3875d76",
   "metadata": {},
   "outputs": [],
   "source": [
    "# Create output class\n",
    "output = rtsolver.output()\n",
    "output.add(\"pH\")\n",
    "output.add(\"speciesMolality(Cl-)\")\n",
    "output.add(\"speciesMolality(HCl(aq))\")\n",
    "output.add(\"speciesMolality(Na+)\")\n",
    "output.add(\"speciesMolality(NaCl(aq))\")\n",
    "output.add(\"speciesMolality(OH-)\")\n",
    "output.add(\"speciesMolality(NaOH(aq))\")\n",
    "output.add(\"speciesMolality(NaHSiO3(aq))\")\n",
    "output.add(\"speciesMolality(K+)\")\n",
    "output.add(\"speciesMolality(KOH(aq))\")\n",
    "output.add(\"speciesMolality(KCl(aq))\")\n",
    "output.add(\"speciesMolality(Al+++)\")\n",
    "output.add(\"speciesMolality(AlOH++)\")\n",
    "output.add(\"speciesMolality(Quartz)\")\n",
    "output.add(\"speciesMolality(Diaspore)\")\n",
    "output.add(\"speciesMolality(Gibbsite)\")\n",
    "output.add(\"speciesMolality(Andalusite)\")\n",
    "output.add(\"speciesMolality(Kyanite)\")\n",
    "output.add(\"speciesMolality(Sillimanite)\")\n",
    "output.add(\"speciesMolality(Muscovite)\")\n",
    "output.add(\"speciesMolality(Paragonite)\")\n",
    "output.add(\"speciesMolality(Pyrophyllite)\")\n",
    "output.add(\"speciesMolality(Kaolinite)\")\n",
    "output.add(\"speciesMolality(Albite)\")\n",
    "output.add(\"speciesMolality(K-Feldspar)\")\n",
    "output.filename(folder_results + '/state.txt')  # Set the name of the output files"
   ]
  },
  {
   "cell_type": "markdown",
   "id": "61bd902a",
   "metadata": {},
   "source": [
    "### Running the reactive transport simulation\n",
    "\n",
    "As shown below, we perform a sequence of reactive transport calculations, one for each time step, during which the\n",
    "chemical state of each mesh cell is updated. The iterations continue until the maximum number of steps is\n",
    "achieved."
   ]
  },
  {
   "cell_type": "code",
   "execution_count": null,
   "id": "c9bfac32",
   "metadata": {},
   "outputs": [],
   "source": [
    "# Perform given number of reactive transport steps\n",
    "t = 0.0  # current time variable\n",
    "step = 0  # current number of steps\n",
    "\n",
    "from tqdm.notebook import tqdm\n",
    "with tqdm(total=nsteps, desc=\"Reactive transport simulations\") as pbar:\n",
    "    while step <= nsteps:  # step until the number of steps are achieved\n",
    "\n",
    "        # Perform one reactive transport time step\n",
    "        rtsolver.step(field)\n",
    "\n",
    "        # Increment time step and number of time steps\n",
    "        t += dt\n",
    "        step += 1\n",
    "\n",
    "        # Update a progress bar\n",
    "        pbar.update(1)"
   ]
  },
  {
   "cell_type": "markdown",
   "id": "f8c1bfa6",
   "metadata": {},
   "source": [
    "## Plotting of the obtained results\n",
    "\n",
    "The last block of the main routine is dedicated to plotting of the results. First, we collect files with results\n",
    "using `listdir` function, which returns the list containing the names of\n",
    "the entries in the directory given by path `folder_results`:"
   ]
  },
  {
   "cell_type": "code",
   "execution_count": null,
   "id": "fd9c60a2",
   "metadata": {},
   "outputs": [],
   "source": [
    "files = [file for file in natsorted( os.listdir(folder_results) ) ]"
   ]
  },
  {
   "cell_type": "markdown",
   "id": "948e895e",
   "metadata": {},
   "source": [
    "For plotting of the data saved under the `folder_results` folder, we provide the indices corresponding to the columns\n",
    "written to the `state.txt` files. First, we define the indices of the aqueous species:"
   ]
  },
  {
   "cell_type": "code",
   "execution_count": null,
   "id": "2aa29cd4",
   "metadata": {},
   "outputs": [],
   "source": [
    "indx_ph         = 0\n",
    "indx_Clanion    = 1\n",
    "indx_HClaq      = 2\n",
    "indx_Nacation   = 3\n",
    "indx_NaClaq     = 4\n",
    "indx_OHanion    = 5\n",
    "indx_NaOHaq     = 6\n",
    "indx_NaHSiO3aq  = 7\n",
    "indx_Kcation    = 8\n",
    "indx_KOHaq      = 9\n",
    "indx_KClaq      = 10\n",
    "indx_Alcation   = 11\n",
    "indx_AlOHcation = 12"
   ]
  },
  {
   "cell_type": "markdown",
   "id": "cf7b375a",
   "metadata": {},
   "source": [
    "Next, we specify indices of the minerals:"
   ]
  },
  {
   "cell_type": "code",
   "execution_count": null,
   "id": "591e1d88",
   "metadata": {},
   "outputs": [],
   "source": [
    "indx_Quartz       = 13\n",
    "indx_Diaspore     = 14\n",
    "indx_Gibbsite     = 15\n",
    "indx_Andalusite   = 16\n",
    "indx_Kyanite      = 17\n",
    "indx_Sillimanite  = 18\n",
    "indx_Muscovite    = 19\n",
    "indx_Paragonite   = 20\n",
    "indx_Pyrophyllite = 21\n",
    "indx_Kaolinite    = 22\n",
    "indx_Albite       = 23\n",
    "indx_KFeldspar    = 24"
   ]
  },
  {
   "cell_type": "markdown",
   "id": "203c8b7e",
   "metadata": {},
   "source": [
    "Select the steps in time that must be plotted:"
   ]
  },
  {
   "cell_type": "code",
   "execution_count": null,
   "id": "cd5b343c",
   "metadata": {
    "lines_to_next_cell": 1
   },
   "outputs": [],
   "source": [
    "plot_at_selected_steps = [4800, 7200, 9600]"
   ]
  },
  {
   "cell_type": "markdown",
   "id": "000f6083",
   "metadata": {},
   "source": [
    "Routines below are dedicated to illustrating the time-dependent behavior of the chemical properties."
   ]
  },
  {
   "cell_type": "code",
   "execution_count": null,
   "id": "8664a31d",
   "metadata": {
    "lines_to_next_cell": 1
   },
   "outputs": [],
   "source": [
    "def titlestr(t):\n",
    "    d = int(t / day)                 # The number of days\n",
    "    h = int(int(t % day) / hour)     # The number of remaining hours\n",
    "    m = int(int(t % hour) / minute)  # The number of remaining minutes\n",
    "    return '{:>3d}d {:>2}h {:>2}m'.format(int(d), str(int(h)).zfill(2), str(int(m)).zfill(2))"
   ]
  },
  {
   "cell_type": "code",
   "execution_count": null,
   "id": "31bdc51a",
   "metadata": {
    "lines_to_next_cell": 1
   },
   "outputs": [],
   "source": [
    "def line(color):\n",
    "    return {'linestyle': '-', 'color': color, 'zorder': 1, 'linewidth': 2}"
   ]
  },
  {
   "cell_type": "code",
   "execution_count": null,
   "id": "6b19dbdf",
   "metadata": {
    "lines_to_next_cell": 1
   },
   "outputs": [],
   "source": [
    "def plot_figures_quartz():\n",
    "\n",
    "    for i in plot_at_selected_steps:\n",
    "        t = i * dt\n",
    "        filearray = np.loadtxt(folder_results + '/' + files[i-1], skiprows=1)\n",
    "        data = filearray.T\n",
    "        data_quartz = data[indx_Quartz]\n",
    "\n",
    "        plt.axes(xlim=(xl - 0.01, xr + 0.01)) # Quartz 30%\n",
    "        plt.ylabel('Concentration [mol/m3]')\n",
    "        plt.xlabel('Distance [m]')\n",
    "        plt.title(titlestr(t))\n",
    "        plt.plot(xcells, data_quartz, label='Quartz', **line('gold'))\n",
    "        plt.legend(loc='center right')\n",
    "        plt.savefig(folder_result_plots + '/quarzt-{}.png'.format(i))\n",
    "        plt.tight_layout()\n",
    "        plt.close()"
   ]
  },
  {
   "cell_type": "code",
   "execution_count": null,
   "id": "126b7022",
   "metadata": {
    "lines_to_next_cell": 1
   },
   "outputs": [],
   "source": [
    "def plot_figures_pyrophyllite():\n",
    "\n",
    "    for i in plot_at_selected_steps:\n",
    "        t = i * dt\n",
    "        filearray = np.loadtxt(folder_results + '/' + files[i-1], skiprows=1)\n",
    "        data = filearray.T\n",
    "        data_pyrophyllite = data[indx_Pyrophyllite]\n",
    "\n",
    "        plt.axes(xlim=(xl - 0.01, xr + 0.01))\n",
    "        plt.ylabel('Concentration [mol/m3]')\n",
    "        plt.xlabel('Distance [m]')\n",
    "        plt.title(titlestr(t))\n",
    "        plt.plot(xcells, data_pyrophyllite, label='Pyrophyllite', **line('darkviolet'))\n",
    "        plt.legend(loc='center right')\n",
    "        plt.savefig(folder_result_plots + '/pyrophyllite-{}.png'.format(i))\n",
    "        plt.tight_layout()\n",
    "        plt.close()"
   ]
  },
  {
   "cell_type": "code",
   "execution_count": null,
   "id": "13113d01",
   "metadata": {
    "lines_to_next_cell": 1
   },
   "outputs": [],
   "source": [
    "def plot_figures_kfeldspar():\n",
    "\n",
    "    for i in plot_at_selected_steps:\n",
    "        t = i * dt\n",
    "        filearray = np.loadtxt(folder_results + '/' + files[i-1], skiprows=1)\n",
    "        data = filearray.T\n",
    "        data_kfeldspar = data[indx_KFeldspar]\n",
    "\n",
    "        plt.axes(xlim=(xl - 0.01, xr + 0.01))\n",
    "        plt.ylabel('Concentration [mol/m3]')\n",
    "        plt.xlabel('Distance [m]')\n",
    "        plt.title(titlestr(t))\n",
    "        plt.plot(xcells, data_kfeldspar, label='K-Feldspar', **line('C3'))\n",
    "        plt.legend(loc='center right')\n",
    "        plt.savefig(folder_result_plots + '/kfeldspar-{}.png'.format(i))\n",
    "        plt.tight_layout()\n",
    "        plt.close()"
   ]
  },
  {
   "cell_type": "code",
   "execution_count": null,
   "id": "2244ddc4",
   "metadata": {
    "lines_to_next_cell": 1
   },
   "outputs": [],
   "source": [
    "def plot_figures_muscovite():\n",
    "\n",
    "    for i in plot_at_selected_steps:\n",
    "        t = i * dt\n",
    "        filearray = np.loadtxt(folder_results + '/' + files[i-1], skiprows=1)\n",
    "        data = filearray.T\n",
    "        data_muscovite = data[indx_Muscovite]\n",
    "\n",
    "        plt.axes(xlim=(xl - 0.01, xr + 0.01))\n",
    "        plt.ylabel('Concentration [mol/m3]')\n",
    "        plt.xlabel('Distance [m]')\n",
    "        plt.title(titlestr(t))\n",
    "        plt.plot(xcells, data_muscovite, label='Muscovite', **line('C1'))\n",
    "        plt.legend(loc='center right')\n",
    "        plt.savefig(folder_result_plots + '/muscovite-{}.png'.format(i))\n",
    "        plt.tight_layout()\n",
    "        plt.close()"
   ]
  },
  {
   "cell_type": "code",
   "execution_count": null,
   "id": "46800244",
   "metadata": {
    "lines_to_next_cell": 1
   },
   "outputs": [],
   "source": [
    "def plot_figures_albite():\n",
    "\n",
    "    for i in plot_at_selected_steps:\n",
    "        t = i * dt\n",
    "        filearray = np.loadtxt(folder_results + '/' + files[i-1], skiprows=1)\n",
    "        data = filearray.T\n",
    "        data_albite = data[indx_Albite]\n",
    "\n",
    "        plt.axes(xlim=(xl - 0.01, xr + 0.01))\n",
    "        plt.ylabel('Concentration [mol/m3]')\n",
    "        plt.xlabel('Distance [m]')\n",
    "        plt.title(titlestr(t))\n",
    "        plt.plot(xcells, data_albite, label='Albite', **line('C2'))\n",
    "        plt.legend(loc='center right')\n",
    "        plt.savefig(folder_result_plots + '/albite-{}.png'.format(i))\n",
    "        plt.tight_layout()\n",
    "        plt.close()"
   ]
  },
  {
   "cell_type": "code",
   "execution_count": null,
   "id": "3652912b",
   "metadata": {
    "lines_to_next_cell": 1
   },
   "outputs": [],
   "source": [
    "def plot_figures_ph():\n",
    "\n",
    "    for i in plot_at_selected_steps:\n",
    "        t = i * dt\n",
    "        filearray = np.loadtxt(folder_results + '/' + files[i-1], skiprows=1)\n",
    "        data = filearray.T\n",
    "        data_ph = data[indx_ph]\n",
    "\n",
    "        plt.axes(xlim=(xl - 0.01, xr + 0.01), ylim=(1.0, 6.0)) # Quartz 98%\n",
    "        plt.ylabel('Concentration [mol/m3]')\n",
    "        plt.xlabel('Distance [m]')\n",
    "        plt.title(titlestr(t))\n",
    "        plt.plot(xcells, data_ph, label='pH', **line('C2'))\n",
    "        plt.legend(loc='center right')\n",
    "        plt.savefig(folder_result_plots + '/pH-{}.png'.format(i))\n",
    "        plt.tight_layout()\n",
    "        plt.show()\n",
    "        plt.close()"
   ]
  },
  {
   "cell_type": "code",
   "execution_count": null,
   "id": "180dcc51",
   "metadata": {
    "lines_to_next_cell": 1
   },
   "outputs": [],
   "source": [
    "def plot_figures_minerals():\n",
    "\n",
    "    for i in plot_at_selected_steps:\n",
    "        t = i * dt\n",
    "        filearray = np.loadtxt(folder_results + '/' + files[i-1], skiprows=1)\n",
    "        data = filearray.T\n",
    "        data_albite = data[indx_Albite]\n",
    "        data_muscovite = data[indx_Muscovite]\n",
    "        data_kfeldspar = data[indx_KFeldspar]\n",
    "        data_pyrophyllite = data[indx_Pyrophyllite]\n",
    "        data_quartz = data[indx_Quartz]\n",
    "\n",
    "        plt.axes(xlim=(xl - 0.01, xr + 0.01), ylim=(-5, 30.0)) # Quartz 98%\n",
    "        plt.ylabel('Concentration [mol/m3]')\n",
    "        plt.xlabel('Distance [m]')\n",
    "        plt.title(titlestr(t))\n",
    "        plt.plot(xcells, data_muscovite, label='Muscovite', **line('C1'))\n",
    "        plt.plot(xcells, data_albite, label='Albite', **line('C2'))\n",
    "        plt.plot(xcells, data_kfeldspar, label='K-Feldspar', **line('C3'))\n",
    "        plt.plot(xcells, data_pyrophyllite, label='Pyrophyllite', **line('darkviolet'))\n",
    "        plt.plot(xcells, data_quartz, label='Quartz', **line('gold'))\n",
    "\n",
    "        plt.legend(loc='center right')\n",
    "        plt.savefig(folder_result_plots + '/minerals-{}.png'.format(i))\n",
    "        plt.tight_layout()\n",
    "        plt.show()\n",
    "        plt.close()"
   ]
  },
  {
   "cell_type": "code",
   "execution_count": null,
   "id": "84ffa6c9",
   "metadata": {
    "lines_to_next_cell": 1
   },
   "outputs": [],
   "source": [
    "def plot_figures_aqueous_species():\n",
    "\n",
    "    for i in plot_at_selected_steps:\n",
    "        t = i * dt\n",
    "        filearray = np.loadtxt(folder_results + '/' + files[i-1], skiprows=1)\n",
    "        data_class = filearray.T\n",
    "\n",
    "        data_class_HClaq  = data_class[indx_HClaq]\n",
    "        data_class_KClaq  = data_class[indx_KClaq]\n",
    "        data_class_KOHaq = data_class[indx_KOHaq]\n",
    "        data_class_Alcation = data_class[indx_Alcation]\n",
    "        data_class_Clanion = data_class[indx_Clanion]\n",
    "        data_class_AlOHcation = data_class[indx_AlOHcation]\n",
    "        data_class_Kcation = data_class[indx_Kcation]\n",
    "\n",
    "        data_class_Nacation = data_class[indx_Nacation]\n",
    "        data_class_NaClaq = data_class[indx_NaClaq]\n",
    "        data_class_OHanion = data_class[indx_OHanion]\n",
    "        data_class_NaOHaq = data_class[indx_NaOHaq]\n",
    "        data_class_NaHSiO3aq = data_class[indx_NaHSiO3aq]\n",
    "\n",
    "        plt.axes(xlim=(xl - 0.01, xr + 0.01))\n",
    "        plt.xlabel('Distance [m]')\n",
    "        plt.ylabel('Concentration [molal]')\n",
    "        plt.yscale('log')\n",
    "        plt.title(titlestr(t))\n",
    "\n",
    "        plt.plot(xcells, data_class_HClaq, label=r'HCl(aq)', **line('darkviolet'))[0],\n",
    "        plt.plot(xcells, data_class_KClaq, label=r'KCl(aq)', **line('C0'))[0],\n",
    "        plt.plot(xcells, data_class_KOHaq, label=r'KOH(aq))', **line('C1'))[0],\n",
    "        plt.plot(xcells, data_class_Alcation, label=r'Al$^{3+}$',**line('C2'))[0],\n",
    "        plt.plot(xcells, data_class_Clanion, label=r'Cl$^{-}$',**line('red'))[0],\n",
    "        plt.plot(xcells, data_class_AlOHcation, label=r'AlOH$^{2+}$', **line('gold'))[0],\n",
    "        plt.plot(xcells, data_class_Kcation, label=r'K$^{+}$', **line('C9'))[0],\n",
    "        plt.plot(xcells, data_class_Nacation, label=r'Na$^+$', **line('C3'))[0],\n",
    "        plt.plot(xcells, data_class_NaClaq, label=r'NaCl(aq)',**line('C4'))[0],\n",
    "        plt.plot(xcells, data_class_OHanion, label=r'OH$^{-}$',**line('C5'))[0],\n",
    "        plt.plot(xcells, data_class_NaOHaq, label=r'NaOH(aq)', **line('C6'))[0],\n",
    "        plt.plot(xcells, data_class_NaHSiO3aq, label=r'NaHSiO$_3$(aq))', **line('C7'))[0],\n",
    "\n",
    "        plt.legend(loc='upper right')\n",
    "        plt.savefig(folder_result_plots + '/aqueous-species-{}.png'.format(i))\n",
    "        plt.tight_layout()\n",
    "        plt.show()\n",
    "        plt.close()"
   ]
  },
  {
   "cell_type": "code",
   "execution_count": null,
   "id": "197dfb83",
   "metadata": {
    "lines_to_next_cell": 1
   },
   "outputs": [],
   "source": [
    "def plot_figures_kfeldspar_muscovite_albite_pyrophyllite():\n",
    "\n",
    "    for i in plot_at_selected_steps:\n",
    "        t = i * dt\n",
    "        filearray = np.loadtxt(folder_results + '/' + files[i-1], skiprows=1)\n",
    "        data = filearray.T\n",
    "        data_kfeldspar = data[indx_KFeldspar]\n",
    "        data_muscovite = data[indx_Muscovite]\n",
    "        data_albite = data[indx_Albite]\n",
    "        data_pyrophyllite = data[indx_Pyrophyllite]\n",
    "\n",
    "        plt.axes(xlim=(xl - 0.01, xr + 0.01), ylim=(-1.0, 10.0))\n",
    "        plt.ylabel('Concentration [mol/m3]')\n",
    "        plt.xlabel('Distance [m]')\n",
    "        plt.title(titlestr(t))\n",
    "        plt.plot(xcells, data_kfeldspar, label='K-Feldspar', **line('C3'))\n",
    "        plt.plot(xcells, data_albite, label='Albite', **line('C2'))\n",
    "        plt.plot(xcells, data_muscovite, label='Muscovite', **line('C1'))\n",
    "        plt.plot(xcells, data_pyrophyllite, label='Pyrophyllite', **line('darkviolet'))\n",
    "        plt.legend(loc='center right')\n",
    "        plt.savefig(folder_result_plots + '/kfeldspar-muscovite-albite-pyrophyllite-{}.png'.format(i))\n",
    "        plt.tight_layout()\n",
    "        plt.show()\n",
    "        plt.close()"
   ]
  },
  {
   "cell_type": "code",
   "execution_count": null,
   "id": "f5e7da2b",
   "metadata": {},
   "outputs": [],
   "source": [
    "plot_figures_minerals()\n",
    "plot_figures_ph()\n",
    "plot_figures_aqueous_species()\n",
    "plot_figures_kfeldspar_muscovite_albite_pyrophyllite()"
   ]
  }
 ],
 "metadata": {},
 "nbformat": 4,
 "nbformat_minor": 5
}